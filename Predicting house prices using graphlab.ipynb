{
 "cells": [
  {
   "cell_type": "code",
   "execution_count": 38,
   "metadata": {
    "collapsed": true
   },
   "outputs": [],
   "source": [
    "# importing graphlab\n",
    "import graphlab"
   ]
  },
  {
   "cell_type": "code",
   "execution_count": 42,
   "metadata": {
    "collapsed": false
   },
   "outputs": [],
   "source": [
    "#importing the dataset\n",
    "sales = graphlab.SFrame('C:\\Users\\prateek\\home_data.sframe')"
   ]
  },
  {
   "cell_type": "code",
   "execution_count": 40,
   "metadata": {
    "collapsed": false
   },
   "outputs": [
    {
     "data": {
      "text/html": [
       "<div style=\"max-height:1000px;max-width:1500px;overflow:auto;\"><table frame=\"box\" rules=\"cols\">\n",
       "    <tr>\n",
       "        <th style=\"padding-left: 1em; padding-right: 1em; text-align: center\">id</th>\n",
       "        <th style=\"padding-left: 1em; padding-right: 1em; text-align: center\">date</th>\n",
       "        <th style=\"padding-left: 1em; padding-right: 1em; text-align: center\">price</th>\n",
       "        <th style=\"padding-left: 1em; padding-right: 1em; text-align: center\">bedrooms</th>\n",
       "        <th style=\"padding-left: 1em; padding-right: 1em; text-align: center\">bathrooms</th>\n",
       "        <th style=\"padding-left: 1em; padding-right: 1em; text-align: center\">sqft_living</th>\n",
       "        <th style=\"padding-left: 1em; padding-right: 1em; text-align: center\">sqft_lot</th>\n",
       "        <th style=\"padding-left: 1em; padding-right: 1em; text-align: center\">floors</th>\n",
       "        <th style=\"padding-left: 1em; padding-right: 1em; text-align: center\">waterfront</th>\n",
       "    </tr>\n",
       "    <tr>\n",
       "        <td style=\"padding-left: 1em; padding-right: 1em; text-align: center; vertical-align: top\">7129300520</td>\n",
       "        <td style=\"padding-left: 1em; padding-right: 1em; text-align: center; vertical-align: top\">2014-10-13 00:00:00+00:00</td>\n",
       "        <td style=\"padding-left: 1em; padding-right: 1em; text-align: center; vertical-align: top\">221900.0</td>\n",
       "        <td style=\"padding-left: 1em; padding-right: 1em; text-align: center; vertical-align: top\">3.0</td>\n",
       "        <td style=\"padding-left: 1em; padding-right: 1em; text-align: center; vertical-align: top\">1.0</td>\n",
       "        <td style=\"padding-left: 1em; padding-right: 1em; text-align: center; vertical-align: top\">1180.0</td>\n",
       "        <td style=\"padding-left: 1em; padding-right: 1em; text-align: center; vertical-align: top\">5650.0</td>\n",
       "        <td style=\"padding-left: 1em; padding-right: 1em; text-align: center; vertical-align: top\">1.0</td>\n",
       "        <td style=\"padding-left: 1em; padding-right: 1em; text-align: center; vertical-align: top\">0</td>\n",
       "    </tr>\n",
       "    <tr>\n",
       "        <td style=\"padding-left: 1em; padding-right: 1em; text-align: center; vertical-align: top\">6414100192</td>\n",
       "        <td style=\"padding-left: 1em; padding-right: 1em; text-align: center; vertical-align: top\">2014-12-09 00:00:00+00:00</td>\n",
       "        <td style=\"padding-left: 1em; padding-right: 1em; text-align: center; vertical-align: top\">538000.0</td>\n",
       "        <td style=\"padding-left: 1em; padding-right: 1em; text-align: center; vertical-align: top\">3.0</td>\n",
       "        <td style=\"padding-left: 1em; padding-right: 1em; text-align: center; vertical-align: top\">2.25</td>\n",
       "        <td style=\"padding-left: 1em; padding-right: 1em; text-align: center; vertical-align: top\">2570.0</td>\n",
       "        <td style=\"padding-left: 1em; padding-right: 1em; text-align: center; vertical-align: top\">7242.0</td>\n",
       "        <td style=\"padding-left: 1em; padding-right: 1em; text-align: center; vertical-align: top\">2.0</td>\n",
       "        <td style=\"padding-left: 1em; padding-right: 1em; text-align: center; vertical-align: top\">0</td>\n",
       "    </tr>\n",
       "    <tr>\n",
       "        <td style=\"padding-left: 1em; padding-right: 1em; text-align: center; vertical-align: top\">5631500400</td>\n",
       "        <td style=\"padding-left: 1em; padding-right: 1em; text-align: center; vertical-align: top\">2015-02-25 00:00:00+00:00</td>\n",
       "        <td style=\"padding-left: 1em; padding-right: 1em; text-align: center; vertical-align: top\">180000.0</td>\n",
       "        <td style=\"padding-left: 1em; padding-right: 1em; text-align: center; vertical-align: top\">2.0</td>\n",
       "        <td style=\"padding-left: 1em; padding-right: 1em; text-align: center; vertical-align: top\">1.0</td>\n",
       "        <td style=\"padding-left: 1em; padding-right: 1em; text-align: center; vertical-align: top\">770.0</td>\n",
       "        <td style=\"padding-left: 1em; padding-right: 1em; text-align: center; vertical-align: top\">10000.0</td>\n",
       "        <td style=\"padding-left: 1em; padding-right: 1em; text-align: center; vertical-align: top\">1.0</td>\n",
       "        <td style=\"padding-left: 1em; padding-right: 1em; text-align: center; vertical-align: top\">0</td>\n",
       "    </tr>\n",
       "    <tr>\n",
       "        <td style=\"padding-left: 1em; padding-right: 1em; text-align: center; vertical-align: top\">2487200875</td>\n",
       "        <td style=\"padding-left: 1em; padding-right: 1em; text-align: center; vertical-align: top\">2014-12-09 00:00:00+00:00</td>\n",
       "        <td style=\"padding-left: 1em; padding-right: 1em; text-align: center; vertical-align: top\">604000.0</td>\n",
       "        <td style=\"padding-left: 1em; padding-right: 1em; text-align: center; vertical-align: top\">4.0</td>\n",
       "        <td style=\"padding-left: 1em; padding-right: 1em; text-align: center; vertical-align: top\">3.0</td>\n",
       "        <td style=\"padding-left: 1em; padding-right: 1em; text-align: center; vertical-align: top\">1960.0</td>\n",
       "        <td style=\"padding-left: 1em; padding-right: 1em; text-align: center; vertical-align: top\">5000.0</td>\n",
       "        <td style=\"padding-left: 1em; padding-right: 1em; text-align: center; vertical-align: top\">1.0</td>\n",
       "        <td style=\"padding-left: 1em; padding-right: 1em; text-align: center; vertical-align: top\">0</td>\n",
       "    </tr>\n",
       "    <tr>\n",
       "        <td style=\"padding-left: 1em; padding-right: 1em; text-align: center; vertical-align: top\">1954400510</td>\n",
       "        <td style=\"padding-left: 1em; padding-right: 1em; text-align: center; vertical-align: top\">2015-02-18 00:00:00+00:00</td>\n",
       "        <td style=\"padding-left: 1em; padding-right: 1em; text-align: center; vertical-align: top\">510000.0</td>\n",
       "        <td style=\"padding-left: 1em; padding-right: 1em; text-align: center; vertical-align: top\">3.0</td>\n",
       "        <td style=\"padding-left: 1em; padding-right: 1em; text-align: center; vertical-align: top\">2.0</td>\n",
       "        <td style=\"padding-left: 1em; padding-right: 1em; text-align: center; vertical-align: top\">1680.0</td>\n",
       "        <td style=\"padding-left: 1em; padding-right: 1em; text-align: center; vertical-align: top\">8080.0</td>\n",
       "        <td style=\"padding-left: 1em; padding-right: 1em; text-align: center; vertical-align: top\">1.0</td>\n",
       "        <td style=\"padding-left: 1em; padding-right: 1em; text-align: center; vertical-align: top\">0</td>\n",
       "    </tr>\n",
       "    <tr>\n",
       "        <td style=\"padding-left: 1em; padding-right: 1em; text-align: center; vertical-align: top\">7237550310</td>\n",
       "        <td style=\"padding-left: 1em; padding-right: 1em; text-align: center; vertical-align: top\">2014-05-12 00:00:00+00:00</td>\n",
       "        <td style=\"padding-left: 1em; padding-right: 1em; text-align: center; vertical-align: top\">1225000.0</td>\n",
       "        <td style=\"padding-left: 1em; padding-right: 1em; text-align: center; vertical-align: top\">4.0</td>\n",
       "        <td style=\"padding-left: 1em; padding-right: 1em; text-align: center; vertical-align: top\">4.5</td>\n",
       "        <td style=\"padding-left: 1em; padding-right: 1em; text-align: center; vertical-align: top\">5420.0</td>\n",
       "        <td style=\"padding-left: 1em; padding-right: 1em; text-align: center; vertical-align: top\">101930.0</td>\n",
       "        <td style=\"padding-left: 1em; padding-right: 1em; text-align: center; vertical-align: top\">1.0</td>\n",
       "        <td style=\"padding-left: 1em; padding-right: 1em; text-align: center; vertical-align: top\">0</td>\n",
       "    </tr>\n",
       "    <tr>\n",
       "        <td style=\"padding-left: 1em; padding-right: 1em; text-align: center; vertical-align: top\">1321400060</td>\n",
       "        <td style=\"padding-left: 1em; padding-right: 1em; text-align: center; vertical-align: top\">2014-06-27 00:00:00+00:00</td>\n",
       "        <td style=\"padding-left: 1em; padding-right: 1em; text-align: center; vertical-align: top\">257500.0</td>\n",
       "        <td style=\"padding-left: 1em; padding-right: 1em; text-align: center; vertical-align: top\">3.0</td>\n",
       "        <td style=\"padding-left: 1em; padding-right: 1em; text-align: center; vertical-align: top\">2.25</td>\n",
       "        <td style=\"padding-left: 1em; padding-right: 1em; text-align: center; vertical-align: top\">1715.0</td>\n",
       "        <td style=\"padding-left: 1em; padding-right: 1em; text-align: center; vertical-align: top\">6819.0</td>\n",
       "        <td style=\"padding-left: 1em; padding-right: 1em; text-align: center; vertical-align: top\">2.0</td>\n",
       "        <td style=\"padding-left: 1em; padding-right: 1em; text-align: center; vertical-align: top\">0</td>\n",
       "    </tr>\n",
       "    <tr>\n",
       "        <td style=\"padding-left: 1em; padding-right: 1em; text-align: center; vertical-align: top\">2008000270</td>\n",
       "        <td style=\"padding-left: 1em; padding-right: 1em; text-align: center; vertical-align: top\">2015-01-15 00:00:00+00:00</td>\n",
       "        <td style=\"padding-left: 1em; padding-right: 1em; text-align: center; vertical-align: top\">291850.0</td>\n",
       "        <td style=\"padding-left: 1em; padding-right: 1em; text-align: center; vertical-align: top\">3.0</td>\n",
       "        <td style=\"padding-left: 1em; padding-right: 1em; text-align: center; vertical-align: top\">1.5</td>\n",
       "        <td style=\"padding-left: 1em; padding-right: 1em; text-align: center; vertical-align: top\">1060.0</td>\n",
       "        <td style=\"padding-left: 1em; padding-right: 1em; text-align: center; vertical-align: top\">9711.0</td>\n",
       "        <td style=\"padding-left: 1em; padding-right: 1em; text-align: center; vertical-align: top\">1.0</td>\n",
       "        <td style=\"padding-left: 1em; padding-right: 1em; text-align: center; vertical-align: top\">0</td>\n",
       "    </tr>\n",
       "    <tr>\n",
       "        <td style=\"padding-left: 1em; padding-right: 1em; text-align: center; vertical-align: top\">2414600126</td>\n",
       "        <td style=\"padding-left: 1em; padding-right: 1em; text-align: center; vertical-align: top\">2015-04-15 00:00:00+00:00</td>\n",
       "        <td style=\"padding-left: 1em; padding-right: 1em; text-align: center; vertical-align: top\">229500.0</td>\n",
       "        <td style=\"padding-left: 1em; padding-right: 1em; text-align: center; vertical-align: top\">3.0</td>\n",
       "        <td style=\"padding-left: 1em; padding-right: 1em; text-align: center; vertical-align: top\">1.0</td>\n",
       "        <td style=\"padding-left: 1em; padding-right: 1em; text-align: center; vertical-align: top\">1780.0</td>\n",
       "        <td style=\"padding-left: 1em; padding-right: 1em; text-align: center; vertical-align: top\">7470.0</td>\n",
       "        <td style=\"padding-left: 1em; padding-right: 1em; text-align: center; vertical-align: top\">1.0</td>\n",
       "        <td style=\"padding-left: 1em; padding-right: 1em; text-align: center; vertical-align: top\">0</td>\n",
       "    </tr>\n",
       "    <tr>\n",
       "        <td style=\"padding-left: 1em; padding-right: 1em; text-align: center; vertical-align: top\">3793500160</td>\n",
       "        <td style=\"padding-left: 1em; padding-right: 1em; text-align: center; vertical-align: top\">2015-03-12 00:00:00+00:00</td>\n",
       "        <td style=\"padding-left: 1em; padding-right: 1em; text-align: center; vertical-align: top\">323000.0</td>\n",
       "        <td style=\"padding-left: 1em; padding-right: 1em; text-align: center; vertical-align: top\">3.0</td>\n",
       "        <td style=\"padding-left: 1em; padding-right: 1em; text-align: center; vertical-align: top\">2.5</td>\n",
       "        <td style=\"padding-left: 1em; padding-right: 1em; text-align: center; vertical-align: top\">1890.0</td>\n",
       "        <td style=\"padding-left: 1em; padding-right: 1em; text-align: center; vertical-align: top\">6560.0</td>\n",
       "        <td style=\"padding-left: 1em; padding-right: 1em; text-align: center; vertical-align: top\">2.0</td>\n",
       "        <td style=\"padding-left: 1em; padding-right: 1em; text-align: center; vertical-align: top\">0</td>\n",
       "    </tr>\n",
       "</table>\n",
       "<table frame=\"box\" rules=\"cols\">\n",
       "    <tr>\n",
       "        <th style=\"padding-left: 1em; padding-right: 1em; text-align: center\">view</th>\n",
       "        <th style=\"padding-left: 1em; padding-right: 1em; text-align: center\">condition</th>\n",
       "        <th style=\"padding-left: 1em; padding-right: 1em; text-align: center\">grade</th>\n",
       "        <th style=\"padding-left: 1em; padding-right: 1em; text-align: center\">sqft_above</th>\n",
       "        <th style=\"padding-left: 1em; padding-right: 1em; text-align: center\">sqft_basement</th>\n",
       "        <th style=\"padding-left: 1em; padding-right: 1em; text-align: center\">yr_built</th>\n",
       "        <th style=\"padding-left: 1em; padding-right: 1em; text-align: center\">yr_renovated</th>\n",
       "        <th style=\"padding-left: 1em; padding-right: 1em; text-align: center\">zipcode</th>\n",
       "        <th style=\"padding-left: 1em; padding-right: 1em; text-align: center\">lat</th>\n",
       "    </tr>\n",
       "    <tr>\n",
       "        <td style=\"padding-left: 1em; padding-right: 1em; text-align: center; vertical-align: top\">0</td>\n",
       "        <td style=\"padding-left: 1em; padding-right: 1em; text-align: center; vertical-align: top\">3</td>\n",
       "        <td style=\"padding-left: 1em; padding-right: 1em; text-align: center; vertical-align: top\">7.0</td>\n",
       "        <td style=\"padding-left: 1em; padding-right: 1em; text-align: center; vertical-align: top\">1180.0</td>\n",
       "        <td style=\"padding-left: 1em; padding-right: 1em; text-align: center; vertical-align: top\">0.0</td>\n",
       "        <td style=\"padding-left: 1em; padding-right: 1em; text-align: center; vertical-align: top\">1955.0</td>\n",
       "        <td style=\"padding-left: 1em; padding-right: 1em; text-align: center; vertical-align: top\">0.0</td>\n",
       "        <td style=\"padding-left: 1em; padding-right: 1em; text-align: center; vertical-align: top\">98178</td>\n",
       "        <td style=\"padding-left: 1em; padding-right: 1em; text-align: center; vertical-align: top\">47.51123398</td>\n",
       "    </tr>\n",
       "    <tr>\n",
       "        <td style=\"padding-left: 1em; padding-right: 1em; text-align: center; vertical-align: top\">0</td>\n",
       "        <td style=\"padding-left: 1em; padding-right: 1em; text-align: center; vertical-align: top\">3</td>\n",
       "        <td style=\"padding-left: 1em; padding-right: 1em; text-align: center; vertical-align: top\">7.0</td>\n",
       "        <td style=\"padding-left: 1em; padding-right: 1em; text-align: center; vertical-align: top\">2170.0</td>\n",
       "        <td style=\"padding-left: 1em; padding-right: 1em; text-align: center; vertical-align: top\">400.0</td>\n",
       "        <td style=\"padding-left: 1em; padding-right: 1em; text-align: center; vertical-align: top\">1951.0</td>\n",
       "        <td style=\"padding-left: 1em; padding-right: 1em; text-align: center; vertical-align: top\">1991.0</td>\n",
       "        <td style=\"padding-left: 1em; padding-right: 1em; text-align: center; vertical-align: top\">98125</td>\n",
       "        <td style=\"padding-left: 1em; padding-right: 1em; text-align: center; vertical-align: top\">47.72102274</td>\n",
       "    </tr>\n",
       "    <tr>\n",
       "        <td style=\"padding-left: 1em; padding-right: 1em; text-align: center; vertical-align: top\">0</td>\n",
       "        <td style=\"padding-left: 1em; padding-right: 1em; text-align: center; vertical-align: top\">3</td>\n",
       "        <td style=\"padding-left: 1em; padding-right: 1em; text-align: center; vertical-align: top\">6.0</td>\n",
       "        <td style=\"padding-left: 1em; padding-right: 1em; text-align: center; vertical-align: top\">770.0</td>\n",
       "        <td style=\"padding-left: 1em; padding-right: 1em; text-align: center; vertical-align: top\">0.0</td>\n",
       "        <td style=\"padding-left: 1em; padding-right: 1em; text-align: center; vertical-align: top\">1933.0</td>\n",
       "        <td style=\"padding-left: 1em; padding-right: 1em; text-align: center; vertical-align: top\">0.0</td>\n",
       "        <td style=\"padding-left: 1em; padding-right: 1em; text-align: center; vertical-align: top\">98028</td>\n",
       "        <td style=\"padding-left: 1em; padding-right: 1em; text-align: center; vertical-align: top\">47.73792661</td>\n",
       "    </tr>\n",
       "    <tr>\n",
       "        <td style=\"padding-left: 1em; padding-right: 1em; text-align: center; vertical-align: top\">0</td>\n",
       "        <td style=\"padding-left: 1em; padding-right: 1em; text-align: center; vertical-align: top\">5</td>\n",
       "        <td style=\"padding-left: 1em; padding-right: 1em; text-align: center; vertical-align: top\">7.0</td>\n",
       "        <td style=\"padding-left: 1em; padding-right: 1em; text-align: center; vertical-align: top\">1050.0</td>\n",
       "        <td style=\"padding-left: 1em; padding-right: 1em; text-align: center; vertical-align: top\">910.0</td>\n",
       "        <td style=\"padding-left: 1em; padding-right: 1em; text-align: center; vertical-align: top\">1965.0</td>\n",
       "        <td style=\"padding-left: 1em; padding-right: 1em; text-align: center; vertical-align: top\">0.0</td>\n",
       "        <td style=\"padding-left: 1em; padding-right: 1em; text-align: center; vertical-align: top\">98136</td>\n",
       "        <td style=\"padding-left: 1em; padding-right: 1em; text-align: center; vertical-align: top\">47.52082</td>\n",
       "    </tr>\n",
       "    <tr>\n",
       "        <td style=\"padding-left: 1em; padding-right: 1em; text-align: center; vertical-align: top\">0</td>\n",
       "        <td style=\"padding-left: 1em; padding-right: 1em; text-align: center; vertical-align: top\">3</td>\n",
       "        <td style=\"padding-left: 1em; padding-right: 1em; text-align: center; vertical-align: top\">8.0</td>\n",
       "        <td style=\"padding-left: 1em; padding-right: 1em; text-align: center; vertical-align: top\">1680.0</td>\n",
       "        <td style=\"padding-left: 1em; padding-right: 1em; text-align: center; vertical-align: top\">0.0</td>\n",
       "        <td style=\"padding-left: 1em; padding-right: 1em; text-align: center; vertical-align: top\">1987.0</td>\n",
       "        <td style=\"padding-left: 1em; padding-right: 1em; text-align: center; vertical-align: top\">0.0</td>\n",
       "        <td style=\"padding-left: 1em; padding-right: 1em; text-align: center; vertical-align: top\">98074</td>\n",
       "        <td style=\"padding-left: 1em; padding-right: 1em; text-align: center; vertical-align: top\">47.61681228</td>\n",
       "    </tr>\n",
       "    <tr>\n",
       "        <td style=\"padding-left: 1em; padding-right: 1em; text-align: center; vertical-align: top\">0</td>\n",
       "        <td style=\"padding-left: 1em; padding-right: 1em; text-align: center; vertical-align: top\">3</td>\n",
       "        <td style=\"padding-left: 1em; padding-right: 1em; text-align: center; vertical-align: top\">11.0</td>\n",
       "        <td style=\"padding-left: 1em; padding-right: 1em; text-align: center; vertical-align: top\">3890.0</td>\n",
       "        <td style=\"padding-left: 1em; padding-right: 1em; text-align: center; vertical-align: top\">1530.0</td>\n",
       "        <td style=\"padding-left: 1em; padding-right: 1em; text-align: center; vertical-align: top\">2001.0</td>\n",
       "        <td style=\"padding-left: 1em; padding-right: 1em; text-align: center; vertical-align: top\">0.0</td>\n",
       "        <td style=\"padding-left: 1em; padding-right: 1em; text-align: center; vertical-align: top\">98053</td>\n",
       "        <td style=\"padding-left: 1em; padding-right: 1em; text-align: center; vertical-align: top\">47.65611835</td>\n",
       "    </tr>\n",
       "    <tr>\n",
       "        <td style=\"padding-left: 1em; padding-right: 1em; text-align: center; vertical-align: top\">0</td>\n",
       "        <td style=\"padding-left: 1em; padding-right: 1em; text-align: center; vertical-align: top\">3</td>\n",
       "        <td style=\"padding-left: 1em; padding-right: 1em; text-align: center; vertical-align: top\">7.0</td>\n",
       "        <td style=\"padding-left: 1em; padding-right: 1em; text-align: center; vertical-align: top\">1715.0</td>\n",
       "        <td style=\"padding-left: 1em; padding-right: 1em; text-align: center; vertical-align: top\">0.0</td>\n",
       "        <td style=\"padding-left: 1em; padding-right: 1em; text-align: center; vertical-align: top\">1995.0</td>\n",
       "        <td style=\"padding-left: 1em; padding-right: 1em; text-align: center; vertical-align: top\">0.0</td>\n",
       "        <td style=\"padding-left: 1em; padding-right: 1em; text-align: center; vertical-align: top\">98003</td>\n",
       "        <td style=\"padding-left: 1em; padding-right: 1em; text-align: center; vertical-align: top\">47.30972002</td>\n",
       "    </tr>\n",
       "    <tr>\n",
       "        <td style=\"padding-left: 1em; padding-right: 1em; text-align: center; vertical-align: top\">0</td>\n",
       "        <td style=\"padding-left: 1em; padding-right: 1em; text-align: center; vertical-align: top\">3</td>\n",
       "        <td style=\"padding-left: 1em; padding-right: 1em; text-align: center; vertical-align: top\">7.0</td>\n",
       "        <td style=\"padding-left: 1em; padding-right: 1em; text-align: center; vertical-align: top\">1060.0</td>\n",
       "        <td style=\"padding-left: 1em; padding-right: 1em; text-align: center; vertical-align: top\">0.0</td>\n",
       "        <td style=\"padding-left: 1em; padding-right: 1em; text-align: center; vertical-align: top\">1963.0</td>\n",
       "        <td style=\"padding-left: 1em; padding-right: 1em; text-align: center; vertical-align: top\">0.0</td>\n",
       "        <td style=\"padding-left: 1em; padding-right: 1em; text-align: center; vertical-align: top\">98198</td>\n",
       "        <td style=\"padding-left: 1em; padding-right: 1em; text-align: center; vertical-align: top\">47.40949984</td>\n",
       "    </tr>\n",
       "    <tr>\n",
       "        <td style=\"padding-left: 1em; padding-right: 1em; text-align: center; vertical-align: top\">0</td>\n",
       "        <td style=\"padding-left: 1em; padding-right: 1em; text-align: center; vertical-align: top\">3</td>\n",
       "        <td style=\"padding-left: 1em; padding-right: 1em; text-align: center; vertical-align: top\">7.0</td>\n",
       "        <td style=\"padding-left: 1em; padding-right: 1em; text-align: center; vertical-align: top\">1050.0</td>\n",
       "        <td style=\"padding-left: 1em; padding-right: 1em; text-align: center; vertical-align: top\">730.0</td>\n",
       "        <td style=\"padding-left: 1em; padding-right: 1em; text-align: center; vertical-align: top\">1960.0</td>\n",
       "        <td style=\"padding-left: 1em; padding-right: 1em; text-align: center; vertical-align: top\">0.0</td>\n",
       "        <td style=\"padding-left: 1em; padding-right: 1em; text-align: center; vertical-align: top\">98146</td>\n",
       "        <td style=\"padding-left: 1em; padding-right: 1em; text-align: center; vertical-align: top\">47.51229381</td>\n",
       "    </tr>\n",
       "    <tr>\n",
       "        <td style=\"padding-left: 1em; padding-right: 1em; text-align: center; vertical-align: top\">0</td>\n",
       "        <td style=\"padding-left: 1em; padding-right: 1em; text-align: center; vertical-align: top\">3</td>\n",
       "        <td style=\"padding-left: 1em; padding-right: 1em; text-align: center; vertical-align: top\">7.0</td>\n",
       "        <td style=\"padding-left: 1em; padding-right: 1em; text-align: center; vertical-align: top\">1890.0</td>\n",
       "        <td style=\"padding-left: 1em; padding-right: 1em; text-align: center; vertical-align: top\">0.0</td>\n",
       "        <td style=\"padding-left: 1em; padding-right: 1em; text-align: center; vertical-align: top\">2003.0</td>\n",
       "        <td style=\"padding-left: 1em; padding-right: 1em; text-align: center; vertical-align: top\">0.0</td>\n",
       "        <td style=\"padding-left: 1em; padding-right: 1em; text-align: center; vertical-align: top\">98038</td>\n",
       "        <td style=\"padding-left: 1em; padding-right: 1em; text-align: center; vertical-align: top\">47.36840673</td>\n",
       "    </tr>\n",
       "</table>\n",
       "<table frame=\"box\" rules=\"cols\">\n",
       "    <tr>\n",
       "        <th style=\"padding-left: 1em; padding-right: 1em; text-align: center\">long</th>\n",
       "        <th style=\"padding-left: 1em; padding-right: 1em; text-align: center\">sqft_living15</th>\n",
       "        <th style=\"padding-left: 1em; padding-right: 1em; text-align: center\">sqft_lot15</th>\n",
       "    </tr>\n",
       "    <tr>\n",
       "        <td style=\"padding-left: 1em; padding-right: 1em; text-align: center; vertical-align: top\">-122.25677536</td>\n",
       "        <td style=\"padding-left: 1em; padding-right: 1em; text-align: center; vertical-align: top\">1340.0</td>\n",
       "        <td style=\"padding-left: 1em; padding-right: 1em; text-align: center; vertical-align: top\">5650.0</td>\n",
       "    </tr>\n",
       "    <tr>\n",
       "        <td style=\"padding-left: 1em; padding-right: 1em; text-align: center; vertical-align: top\">-122.3188624</td>\n",
       "        <td style=\"padding-left: 1em; padding-right: 1em; text-align: center; vertical-align: top\">1690.0</td>\n",
       "        <td style=\"padding-left: 1em; padding-right: 1em; text-align: center; vertical-align: top\">7639.0</td>\n",
       "    </tr>\n",
       "    <tr>\n",
       "        <td style=\"padding-left: 1em; padding-right: 1em; text-align: center; vertical-align: top\">-122.23319601</td>\n",
       "        <td style=\"padding-left: 1em; padding-right: 1em; text-align: center; vertical-align: top\">2720.0</td>\n",
       "        <td style=\"padding-left: 1em; padding-right: 1em; text-align: center; vertical-align: top\">8062.0</td>\n",
       "    </tr>\n",
       "    <tr>\n",
       "        <td style=\"padding-left: 1em; padding-right: 1em; text-align: center; vertical-align: top\">-122.39318505</td>\n",
       "        <td style=\"padding-left: 1em; padding-right: 1em; text-align: center; vertical-align: top\">1360.0</td>\n",
       "        <td style=\"padding-left: 1em; padding-right: 1em; text-align: center; vertical-align: top\">5000.0</td>\n",
       "    </tr>\n",
       "    <tr>\n",
       "        <td style=\"padding-left: 1em; padding-right: 1em; text-align: center; vertical-align: top\">-122.04490059</td>\n",
       "        <td style=\"padding-left: 1em; padding-right: 1em; text-align: center; vertical-align: top\">1800.0</td>\n",
       "        <td style=\"padding-left: 1em; padding-right: 1em; text-align: center; vertical-align: top\">7503.0</td>\n",
       "    </tr>\n",
       "    <tr>\n",
       "        <td style=\"padding-left: 1em; padding-right: 1em; text-align: center; vertical-align: top\">-122.00528655</td>\n",
       "        <td style=\"padding-left: 1em; padding-right: 1em; text-align: center; vertical-align: top\">4760.0</td>\n",
       "        <td style=\"padding-left: 1em; padding-right: 1em; text-align: center; vertical-align: top\">101930.0</td>\n",
       "    </tr>\n",
       "    <tr>\n",
       "        <td style=\"padding-left: 1em; padding-right: 1em; text-align: center; vertical-align: top\">-122.32704857</td>\n",
       "        <td style=\"padding-left: 1em; padding-right: 1em; text-align: center; vertical-align: top\">2238.0</td>\n",
       "        <td style=\"padding-left: 1em; padding-right: 1em; text-align: center; vertical-align: top\">6819.0</td>\n",
       "    </tr>\n",
       "    <tr>\n",
       "        <td style=\"padding-left: 1em; padding-right: 1em; text-align: center; vertical-align: top\">-122.31457273</td>\n",
       "        <td style=\"padding-left: 1em; padding-right: 1em; text-align: center; vertical-align: top\">1650.0</td>\n",
       "        <td style=\"padding-left: 1em; padding-right: 1em; text-align: center; vertical-align: top\">9711.0</td>\n",
       "    </tr>\n",
       "    <tr>\n",
       "        <td style=\"padding-left: 1em; padding-right: 1em; text-align: center; vertical-align: top\">-122.33659507</td>\n",
       "        <td style=\"padding-left: 1em; padding-right: 1em; text-align: center; vertical-align: top\">1780.0</td>\n",
       "        <td style=\"padding-left: 1em; padding-right: 1em; text-align: center; vertical-align: top\">8113.0</td>\n",
       "    </tr>\n",
       "    <tr>\n",
       "        <td style=\"padding-left: 1em; padding-right: 1em; text-align: center; vertical-align: top\">-122.0308176</td>\n",
       "        <td style=\"padding-left: 1em; padding-right: 1em; text-align: center; vertical-align: top\">2390.0</td>\n",
       "        <td style=\"padding-left: 1em; padding-right: 1em; text-align: center; vertical-align: top\">7570.0</td>\n",
       "    </tr>\n",
       "</table>\n",
       "[21613 rows x 21 columns]<br/>Note: Only the head of the SFrame is printed.<br/>You can use print_rows(num_rows=m, num_columns=n) to print more rows and columns.\n",
       "</div>"
      ],
      "text/plain": [
       "Columns:\n",
       "\tid\tstr\n",
       "\tdate\tdatetime\n",
       "\tprice\tfloat\n",
       "\tbedrooms\tfloat\n",
       "\tbathrooms\tfloat\n",
       "\tsqft_living\tfloat\n",
       "\tsqft_lot\tfloat\n",
       "\tfloors\tfloat\n",
       "\twaterfront\tint\n",
       "\tview\tint\n",
       "\tcondition\tint\n",
       "\tgrade\tfloat\n",
       "\tsqft_above\tfloat\n",
       "\tsqft_basement\tfloat\n",
       "\tyr_built\tfloat\n",
       "\tyr_renovated\tfloat\n",
       "\tzipcode\tstr\n",
       "\tlat\tfloat\n",
       "\tlong\tfloat\n",
       "\tsqft_living15\tfloat\n",
       "\tsqft_lot15\tfloat\n",
       "\n",
       "Rows: 21613\n",
       "\n",
       "Data:\n",
       "+------------+---------------------------+-----------+----------+-----------+\n",
       "|     id     |            date           |   price   | bedrooms | bathrooms |\n",
       "+------------+---------------------------+-----------+----------+-----------+\n",
       "| 7129300520 | 2014-10-13 00:00:00+00:00 |  221900.0 |   3.0    |    1.0    |\n",
       "| 6414100192 | 2014-12-09 00:00:00+00:00 |  538000.0 |   3.0    |    2.25   |\n",
       "| 5631500400 | 2015-02-25 00:00:00+00:00 |  180000.0 |   2.0    |    1.0    |\n",
       "| 2487200875 | 2014-12-09 00:00:00+00:00 |  604000.0 |   4.0    |    3.0    |\n",
       "| 1954400510 | 2015-02-18 00:00:00+00:00 |  510000.0 |   3.0    |    2.0    |\n",
       "| 7237550310 | 2014-05-12 00:00:00+00:00 | 1225000.0 |   4.0    |    4.5    |\n",
       "| 1321400060 | 2014-06-27 00:00:00+00:00 |  257500.0 |   3.0    |    2.25   |\n",
       "| 2008000270 | 2015-01-15 00:00:00+00:00 |  291850.0 |   3.0    |    1.5    |\n",
       "| 2414600126 | 2015-04-15 00:00:00+00:00 |  229500.0 |   3.0    |    1.0    |\n",
       "| 3793500160 | 2015-03-12 00:00:00+00:00 |  323000.0 |   3.0    |    2.5    |\n",
       "+------------+---------------------------+-----------+----------+-----------+\n",
       "+-------------+----------+--------+------------+------+-----------+-------+\n",
       "| sqft_living | sqft_lot | floors | waterfront | view | condition | grade |\n",
       "+-------------+----------+--------+------------+------+-----------+-------+\n",
       "|    1180.0   |  5650.0  |  1.0   |     0      |  0   |     3     |  7.0  |\n",
       "|    2570.0   |  7242.0  |  2.0   |     0      |  0   |     3     |  7.0  |\n",
       "|    770.0    | 10000.0  |  1.0   |     0      |  0   |     3     |  6.0  |\n",
       "|    1960.0   |  5000.0  |  1.0   |     0      |  0   |     5     |  7.0  |\n",
       "|    1680.0   |  8080.0  |  1.0   |     0      |  0   |     3     |  8.0  |\n",
       "|    5420.0   | 101930.0 |  1.0   |     0      |  0   |     3     |  11.0 |\n",
       "|    1715.0   |  6819.0  |  2.0   |     0      |  0   |     3     |  7.0  |\n",
       "|    1060.0   |  9711.0  |  1.0   |     0      |  0   |     3     |  7.0  |\n",
       "|    1780.0   |  7470.0  |  1.0   |     0      |  0   |     3     |  7.0  |\n",
       "|    1890.0   |  6560.0  |  2.0   |     0      |  0   |     3     |  7.0  |\n",
       "+-------------+----------+--------+------------+------+-----------+-------+\n",
       "+------------+---------------+----------+--------------+---------+-------------+\n",
       "| sqft_above | sqft_basement | yr_built | yr_renovated | zipcode |     lat     |\n",
       "+------------+---------------+----------+--------------+---------+-------------+\n",
       "|   1180.0   |      0.0      |  1955.0  |     0.0      |  98178  | 47.51123398 |\n",
       "|   2170.0   |     400.0     |  1951.0  |    1991.0    |  98125  | 47.72102274 |\n",
       "|   770.0    |      0.0      |  1933.0  |     0.0      |  98028  | 47.73792661 |\n",
       "|   1050.0   |     910.0     |  1965.0  |     0.0      |  98136  |   47.52082  |\n",
       "|   1680.0   |      0.0      |  1987.0  |     0.0      |  98074  | 47.61681228 |\n",
       "|   3890.0   |     1530.0    |  2001.0  |     0.0      |  98053  | 47.65611835 |\n",
       "|   1715.0   |      0.0      |  1995.0  |     0.0      |  98003  | 47.30972002 |\n",
       "|   1060.0   |      0.0      |  1963.0  |     0.0      |  98198  | 47.40949984 |\n",
       "|   1050.0   |     730.0     |  1960.0  |     0.0      |  98146  | 47.51229381 |\n",
       "|   1890.0   |      0.0      |  2003.0  |     0.0      |  98038  | 47.36840673 |\n",
       "+------------+---------------+----------+--------------+---------+-------------+\n",
       "+---------------+---------------+-----+\n",
       "|      long     | sqft_living15 | ... |\n",
       "+---------------+---------------+-----+\n",
       "| -122.25677536 |     1340.0    | ... |\n",
       "|  -122.3188624 |     1690.0    | ... |\n",
       "| -122.23319601 |     2720.0    | ... |\n",
       "| -122.39318505 |     1360.0    | ... |\n",
       "| -122.04490059 |     1800.0    | ... |\n",
       "| -122.00528655 |     4760.0    | ... |\n",
       "| -122.32704857 |     2238.0    | ... |\n",
       "| -122.31457273 |     1650.0    | ... |\n",
       "| -122.33659507 |     1780.0    | ... |\n",
       "|  -122.0308176 |     2390.0    | ... |\n",
       "+---------------+---------------+-----+\n",
       "[21613 rows x 21 columns]\n",
       "Note: Only the head of the SFrame is printed.\n",
       "You can use print_rows(num_rows=m, num_columns=n) to print more rows and columns."
      ]
     },
     "execution_count": 40,
     "metadata": {},
     "output_type": "execute_result"
    }
   ],
   "source": [
    "# getting idea of data\n",
    "sales"
   ]
  },
  {
   "cell_type": "code",
   "execution_count": 4,
   "metadata": {
    "collapsed": false
   },
   "outputs": [
    {
     "data": {
      "application/javascript": [
       "$(\"head\").append($(\"<link/>\").attr({\n",
       "  rel:  \"stylesheet\",\n",
       "  type: \"text/css\",\n",
       "  href: \"//cdnjs.cloudflare.com/ajax/libs/font-awesome/4.1.0/css/font-awesome.min.css\"\n",
       "}));\n",
       "$(\"head\").append($(\"<link/>\").attr({\n",
       "  rel:  \"stylesheet\",\n",
       "  type: \"text/css\",\n",
       "  href: \"https://static.turi.com/products/graphlab-create/2.1/canvas/css/canvas.css\"\n",
       "}));\n",
       "\n",
       "            (function(){\n",
       "\n",
       "                var e = null;\n",
       "                if (typeof element == 'undefined') {\n",
       "                    var scripts = document.getElementsByTagName('script');\n",
       "                    var thisScriptTag = scripts[scripts.length-1];\n",
       "                    var parentDiv = thisScriptTag.parentNode;\n",
       "                    e = document.createElement('div');\n",
       "                    parentDiv.appendChild(e);\n",
       "                } else {\n",
       "                    e = element[0];\n",
       "                }\n",
       "\n",
       "                if (typeof requirejs !== 'undefined') {\n",
       "                    // disable load timeout; ipython_app.js is large and can take a while to load.\n",
       "                    requirejs.config({waitSeconds: 0});\n",
       "                }\n",
       "\n",
       "                require(['https://static.turi.com/products/graphlab-create/2.1/canvas/js/ipython_app.js'], function(IPythonApp){\n",
       "                    var app = new IPythonApp();\n",
       "                    app.attachView('sframe','Plots', {\"selected_variable\": {\"name\": [\"sales\"], \"descriptives\": {\"rows\": 21613, \"columns\": 21}, \"view_component\": \"Plots\", \"view_file\": \"sframe\", \"view_params\": {\"y\": \"price\", \"x\": \"sqft_living\", \"columns\": [\"id\", \"date\", \"price\", \"bedrooms\", \"bathrooms\", \"sqft_living\", \"sqft_lot\", \"floors\", \"waterfront\", \"view\", \"condition\", \"grade\", \"sqft_above\", \"sqft_basement\", \"yr_built\", \"yr_renovated\", \"zipcode\", \"lat\", \"long\", \"sqft_living15\", \"sqft_lot15\"], \"view\": \"Scatter Plot\"}, \"view_components\": [\"Summary\", \"Table\", \"Bar Chart\", \"BoxWhisker Plot\", \"Line Chart\", \"Scatter Plot\", \"Heat Map\", \"Plots\"], \"type\": \"SFrame\", \"columns\": [{\"dtype\": \"str\", \"name\": \"id\"}, {\"dtype\": \"datetime\", \"name\": \"date\"}, {\"dtype\": \"float\", \"name\": \"price\"}, {\"dtype\": \"float\", \"name\": \"bedrooms\"}, {\"dtype\": \"float\", \"name\": \"bathrooms\"}, {\"dtype\": \"float\", \"name\": \"sqft_living\"}, {\"dtype\": \"float\", \"name\": \"sqft_lot\"}, {\"dtype\": \"float\", \"name\": \"floors\"}, {\"dtype\": \"int\", \"name\": \"waterfront\"}, {\"dtype\": \"int\", \"name\": \"view\"}, {\"dtype\": \"int\", \"name\": \"condition\"}, {\"dtype\": \"float\", \"name\": \"grade\"}, {\"dtype\": \"float\", \"name\": \"sqft_above\"}, {\"dtype\": \"float\", \"name\": \"sqft_basement\"}, {\"dtype\": \"float\", \"name\": \"yr_built\"}, {\"dtype\": \"float\", \"name\": \"yr_renovated\"}, {\"dtype\": \"str\", \"name\": \"zipcode\"}, {\"dtype\": \"float\", \"name\": \"lat\"}, {\"dtype\": \"float\", \"name\": \"long\"}, {\"dtype\": \"float\", \"name\": \"sqft_living15\"}, {\"dtype\": \"float\", \"name\": \"sqft_lot15\"}], \"column_identifiers\": [\"bathrooms\", \"sqft_living15\", \"sqft_above\", \"grade\", \"yr_built\", \"price\", \"bedrooms\", \"zipcode\", \"long\", \"id\", \"sqft_lot15\", \"sqft_living\", \"floors\", \"sqft_lot\", \"date\", \"waterfront\", \"sqft_basement\", \"yr_renovated\", \"lat\", \"condition\", \"view\"]}, \"complete\": 1, \"ipython\": true, \"progress\": 1.0, \"data\": [[2600.0, 1697000.0], [1400.0, 325000.0], [1490.0, 225000.0], [3210.0, 785000.0], [1470.0, 381000.0], [1770.0, 436110.0], [4300.0, 430000.0], [1760.0, 605000.0], [3040.0, 870000.0], [1370.0, 229000.0], [730.0, 316000.0], [1870.0, 490000.0], [5480.0, 3650000.0], [2360.0, 525000.0], [1610.0, 218000.0], [800.0, 350000.0], [2570.0, 540000.0], [2200.0, 512500.0], [1720.0, 336750.0], [1560.0, 273000.0], [2410.0, 485000.0], [3050.0, 2000000.0], [960.0, 225000.0], [2160.0, 220000.0], [1540.0, 340000.0], [3370.0, 1325000.0], [2490.0, 275000.0], [1750.0, 270000.0], [2420.0, 750000.0], [720.0, 195000.0], [3150.0, 649500.0], [1870.0, 595888.0], [1580.0, 672500.0], [1530.0, 725000.0], [1370.0, 355000.0], [1540.0, 384950.0], [2260.0, 600000.0], [1880.0, 395900.0], [2140.0, 349950.0], [3870.0, 589900.0], [2470.0, 352000.0], [2710.0, 830000.0], [1370.0, 565000.0], [2060.0, 545000.0], [1770.0, 370000.0], [2020.0, 319950.0], [3120.0, 1895000.0], [2980.0, 649000.0], [1410.0, 343000.0], [1970.0, 289000.0], [1500.0, 239000.0], [2020.0, 262000.0], [2200.0, 353000.0], [1980.0, 585000.0], [3880.0, 1060000.0], [2390.0, 338500.0], [3430.0, 515000.0], [1310.0, 225000.0], [1220.0, 249900.0], [1270.0, 276900.0], [1760.0, 577000.0], [2300.0, 320000.0], [4470.0, 1476000.0], [1040.0, 375000.0], [1610.0, 292000.0], [5470.0, 1612500.0], [3030.0, 599900.0], [810.0, 510000.0], [1440.0, 437000.0], [2300.0, 224000.0], [2690.0, 700000.0], [2900.0, 650000.0], [1740.0, 601000.0], [1890.0, 550000.0], [2910.0, 780000.0], [1060.0, 510000.0], [2420.0, 411500.0], [2310.0, 600000.0], [1800.0, 362500.0], [3450.0, 720000.0], [1010.0, 201000.0], [1900.0, 360000.0], [2000.0, 593700.0], [2170.0, 359800.0], [5210.0, 2195000.0], [1760.0, 688000.0], [2340.0, 665000.0], [2470.0, 365000.0], [2280.0, 312000.0], [1010.0, 550000.0], [2270.0, 332000.0], [2000.0, 267000.0], [790.0, 259950.0], [1570.0, 299950.0], [1910.0, 485000.0], [1960.0, 260000.0], [2240.0, 435000.0], [2510.0, 363000.0], [1330.0, 424000.0], [1060.0, 220000.0], [1790.0, 410000.0], [5584.0, 1680000.0], [1960.0, 500000.0], [2880.0, 525000.0], [2070.0, 359500.0], [1490.0, 507000.0], [2700.0, 569950.0], [2870.0, 577288.0], [960.0, 158800.0], [3870.0, 1440000.0], [2660.0, 580000.0], [870.0, 357000.0], [2790.0, 650000.0], [2960.0, 735000.0], [3410.0, 599000.0], [2540.0, 628990.0], [1080.0, 132500.0], [1440.0, 413800.0], [2570.0, 490000.0], [1210.0, 343000.0], [1030.0, 299950.0], [1360.0, 499950.0], [1340.0, 260000.0], [2620.0, 399000.0], [2910.0, 770000.0], [4320.0, 887250.0], [2100.0, 445000.0], [2160.0, 260000.0], [2010.0, 1000000.0], [1910.0, 175000.0], [900.0, 473000.0], [2620.0, 978000.0], [2470.0, 635000.0], [3410.0, 1575000.0], [2010.0, 559000.0], [2180.0, 330000.0], [1100.0, 552700.0], [2230.0, 334950.0], [2000.0, 585000.0], [1090.0, 319000.0], [1740.0, 380000.0], [1660.0, 452000.0], [2040.0, 475000.0], [1010.0, 235000.0], [2520.0, 650000.0], [980.0, 329900.0], [1230.0, 839000.0], [2650.0, 429000.0], [3030.0, 740000.0], [1954.0, 340000.0], [2080.0, 480000.0], [1490.0, 259000.0], [670.0, 435000.0], [1480.0, 449250.0], [1700.0, 215000.0], [1180.0, 215000.0], [2230.0, 347500.0], [1880.0, 300000.0], [2610.0, 610360.0], [2470.0, 470000.0], [1060.0, 349950.0], [2740.0, 407500.0], [1430.0, 580000.0], [1070.0, 249000.0], [1770.0, 480000.0], [1480.0, 147000.0], [1480.0, 409000.0], [1810.0, 515000.0], [3130.0, 665000.0], [2040.0, 355000.0], [2440.0, 649950.0], [1110.0, 585000.0], [1710.0, 431000.0], [650.0, 295000.0], [3680.0, 595000.0], [1040.0, 160000.0], [2440.0, 519950.0], [1850.0, 245000.0], [1950.0, 269950.0], [1740.0, 600000.0], [2040.0, 506000.0], [2380.0, 818000.0], [4285.0, 1890000.0], [2340.0, 428000.0], [3130.0, 835000.0], [2270.0, 656000.0], [1760.0, 554000.0], [4460.0, 1800000.0], [1610.0, 293000.0], [1260.0, 405000.0], [1946.0, 485000.0], [3770.0, 1229000.0], [2140.0, 799000.0], [1910.0, 435000.0], [2900.0, 670000.0], [1570.0, 535000.0], [1970.0, 423000.0], [1400.0, 250000.0], [2820.0, 297975.0], [1390.0, 745000.0], [2840.0, 735000.0], [3300.0, 510000.0], [2280.0, 628000.0], [2100.0, 580000.0], [1940.0, 790000.0], [1940.0, 287000.0], [2840.0, 1425000.0], [3830.0, 989990.0], [1360.0, 640000.0], [1570.0, 208400.0], [940.0, 551000.0], [1440.0, 265000.0], [2190.0, 765000.0], [1360.0, 234950.0], [1010.0, 289000.0], [1870.0, 348500.0], [1900.0, 250000.0], [1460.0, 629000.0], [1000.0, 424950.0], [1110.0, 320000.0], [3300.0, 780000.0], [710.0, 215000.0], [1430.0, 460000.0], [3020.0, 780000.0], [2300.0, 329950.0], [2090.0, 325000.0], [1910.0, 746000.0], [1180.0, 257500.0], [1250.0, 287000.0], [1000.0, 305000.0], [3040.0, 598555.0], [3220.0, 880000.0], [970.0, 261000.0], [1000.0, 213000.0], [2160.0, 653000.0], [2440.0, 548000.0], [1230.0, 220000.0], [1940.0, 685000.0], [2660.0, 589000.0], [1900.0, 405000.0], [2330.0, 690000.0], [3220.0, 775000.0], [2260.0, 500000.0], [3340.0, 962000.0], [4150.0, 929000.0], [950.0, 335000.0], [2020.0, 366000.0], [1460.0, 499000.0], [3340.0, 699000.0], [3620.0, 480000.0], [1540.0, 216650.0], [3420.0, 975000.0], [1010.0, 250000.0], [1400.0, 267000.0], [1660.0, 392500.0], [980.0, 380000.0], [3000.0, 1688000.0], [770.0, 248000.0], [2150.0, 626000.0], [4010.0, 1385000.0], [2850.0, 750000.0], [1610.0, 280000.0], [3080.0, 775000.0], [1220.0, 415500.0], [1260.0, 445000.0], [1500.0, 242000.0], [1850.0, 623000.0], [1540.0, 450000.0], [770.0, 220000.0], [1530.0, 199950.0], [1867.0, 378950.0], [1500.0, 418000.0], [6490.0, 2000000.0], [1730.0, 257000.0], [1670.0, 660000.0], [1130.0, 354000.0], [2140.0, 621500.0], [3820.0, 770000.0], [1930.0, 665000.0], [2251.0, 305000.0], [1450.0, 339000.0], [1610.0, 263500.0], [1770.0, 419950.0], [2970.0, 1565000.0], [2150.0, 368250.0], [2980.0, 825000.0], [3030.0, 624500.0], [1210.0, 710000.0], [3090.0, 549950.0], [2820.0, 485000.0], [2510.0, 375000.0], [2540.0, 620000.0], [2230.0, 600000.0], [1540.0, 270000.0], [2580.0, 775000.0], [1680.0, 453000.0], [1920.0, 340000.0], [3370.0, 1550000.0], [1900.0, 415000.0], [1240.0, 412000.0], [2440.0, 483000.0], [3550.0, 575000.0], [1580.0, 267000.0], [770.0, 205000.0], [1530.0, 545000.0], [640.0, 426000.0], [520.0, 295000.0], [960.0, 199999.0], [1340.0, 160000.0], [2700.0, 725000.0], [3290.0, 728000.0], [1890.0, 310000.0], [2500.0, 840000.0], [2480.0, 906000.0], [1030.0, 175000.0], [1090.0, 698000.0], [1140.0, 476000.0], [2340.0, 459950.0], [4150.0, 3065000.0], [1840.0, 457500.0], [1270.0, 349500.0], [1890.0, 620000.0], [4850.0, 975000.0], [2700.0, 300000.0], [2400.0, 344000.0], [1540.0, 640000.0], [1190.0, 440000.0], [1520.0, 400000.0], [940.0, 255000.0], [2270.0, 631000.0], [2800.0, 850000.0], [2970.0, 635000.0], [1020.0, 255000.0], [3920.0, 825000.0], [1910.0, 395000.0], [1650.0, 447000.0], [5730.0, 1228000.0], [3500.0, 895000.0], [1040.0, 339888.0], [1840.0, 325000.0], [1310.0, 291750.0], [2970.0, 820000.0], [1250.0, 445000.0], [1370.0, 524000.0], [1700.0, 467500.0], [2760.0, 745000.0], [1970.0, 460000.0], [950.0, 330000.0], [1880.0, 261950.0], [1730.0, 267950.0], [1760.0, 343500.0], [2793.0, 421500.0], [2690.0, 730000.0], [1050.0, 474000.0], [3400.0, 970000.0], [3030.0, 400000.0], [1190.0, 445000.0], [1750.0, 420000.0], [1500.0, 337900.0], [1890.0, 490000.0], [2730.0, 769900.0], [1730.0, 300000.0], [1160.0, 312000.0], [3020.0, 490000.0], [1640.0, 500000.0], [1150.0, 129000.0], [3960.0, 1195000.0], [1170.0, 360000.0], [1190.0, 250000.0], [2600.0, 482000.0], [1600.0, 525000.0], [2770.0, 860000.0], [4570.0, 1580000.0], [1290.0, 310000.0], [1560.0, 901000.0], [1750.0, 240000.0], [1980.0, 233000.0], [1590.0, 275000.0], [820.0, 365000.0], [3050.0, 585000.0], [960.0, 235000.0], [4040.0, 950000.0], [2130.0, 389000.0], [1250.0, 440000.0], [1500.0, 284000.0], [1730.0, 379260.0], [1450.0, 175409.0], [1030.0, 229000.0], [1290.0, 500000.0], [1780.0, 240000.0], [1600.0, 370000.0], [4115.0, 988830.0], [2620.0, 600000.0], [2190.0, 602500.0], [1140.0, 262500.0], [1200.0, 400000.0], [1720.0, 285000.0], [2490.0, 533500.0], [1830.0, 347500.0], [2630.0, 560000.0], [1190.0, 500000.0], [2060.0, 459500.0], [1530.0, 458950.0], [2980.0, 574000.0], [2480.0, 1387800.0], [2610.0, 2000000.0], [3860.0, 2135000.0], [1310.0, 373000.0], [1930.0, 495000.0], [1350.0, 430000.0], [1550.0, 458000.0], [1480.0, 468000.0], [2840.0, 1085000.0], [1490.0, 565000.0], [1610.0, 626500.0], [1720.0, 608000.0], [2270.0, 452000.0], [810.0, 125000.0], [2680.0, 620000.0], [3180.0, 859950.0], [1320.0, 510000.0], [2660.0, 667400.0], [2850.0, 360000.0], [2080.0, 467000.0], [840.0, 270000.0], [2850.0, 710000.0], [1690.0, 302500.0], [1620.0, 640000.0], [1020.0, 441750.0], [1400.0, 264950.0], [2110.0, 603000.0], [3830.0, 989000.0], [2240.0, 395000.0], [1240.0, 645000.0], [1450.0, 471000.0], [3110.0, 1260000.0], [2870.0, 665900.0], [2223.0, 320000.0], [2980.0, 775000.0], [2440.0, 459000.0], [2105.0, 330000.0], [2680.0, 390000.0], [1420.0, 641000.0], [1100.0, 194820.0], [1740.0, 364500.0], [1660.0, 716000.0], [2080.0, 506950.0], [3100.0, 1001000.0], [1020.0, 405000.0], [3570.0, 597326.0], [2740.0, 470000.0], [1490.0, 259500.0], [1160.0, 501000.0], [900.0, 550000.0], [3940.0, 1965000.0], [1620.0, 580000.0], [2290.0, 343000.0], [4920.0, 1042000.0], [1410.0, 375000.0], [2150.0, 580000.0], [1170.0, 275000.0], [2520.0, 525300.0], [1880.0, 554500.0], [3080.0, 432500.0], [2300.0, 619000.0], [4050.0, 1380000.0], [1780.0, 312000.0], [1420.0, 235000.0], [2860.0, 583500.0], [2420.0, 505000.0], [1910.0, 1125000.0], [1290.0, 300000.0], [1640.0, 319000.0], [2700.0, 1200000.0], [1470.0, 299900.0], [2730.0, 760000.0], [1610.0, 460000.0], [1090.0, 140000.0], [800.0, 280000.0], [2910.0, 590000.0], [3020.0, 790000.0], [2610.0, 547500.0], [1260.0, 275000.0], [1610.0, 235000.0], [730.0, 140000.0], [2790.0, 505657.0], [2610.0, 608000.0], [1570.0, 325000.0], [2210.0, 412000.0], [1740.0, 568000.0], [1320.0, 200000.0], [590.0, 202000.0], [1250.0, 150000.0], [3200.0, 422000.0], [1000.0, 265000.0], [3160.0, 552000.0], [1440.0, 445000.0], [3520.0, 589500.0], [3360.0, 804995.0], [1440.0, 275000.0], [1560.0, 500000.0], [2550.0, 699000.0], [1750.0, 575000.0], [1430.0, 252000.0], [1400.0, 259950.0], [1860.0, 588000.0], [1020.0, 225000.0], [2680.0, 502000.0], [1810.0, 280000.0], [2940.0, 1010000.0], [2550.0, 369000.0], [1670.0, 490000.0], [2570.0, 660000.0], [1760.0, 1150000.0], [1290.0, 249950.0], [2390.0, 269950.0], [1180.0, 390000.0], [800.0, 404500.0], [2330.0, 535000.0], [600.0, 135000.0], [1010.0, 354000.0], [3220.0, 440000.0], [2870.0, 480000.0], [630.0, 430000.0], [2790.0, 654950.0], [2510.0, 368500.0], [2400.0, 357000.0], [2550.0, 375900.0], [2820.0, 395000.0], [2280.0, 535000.0], [1060.0, 255000.0], [1140.0, 450000.0], [1400.0, 507250.0], [1730.0, 575000.0], [2770.0, 533300.0], [1040.0, 348000.0], [1570.0, 452000.0], [2140.0, 998500.0], [1780.0, 354950.0], [1530.0, 575000.0], [1140.0, 474000.0], [2500.0, 330000.0], [1400.0, 240000.0], [1460.0, 340000.0], [1580.0, 525000.0], [3310.0, 649950.0], [1210.0, 324950.0], [1250.0, 255000.0], [2100.0, 550000.0], [2660.0, 549995.0], [2700.0, 674725.0], [2560.0, 565000.0], [1140.0, 230000.0], [750.0, 261000.0], [1630.0, 475000.0], [2160.0, 345500.0], [4640.0, 1950000.0], [5570.0, 1855000.0], [2220.0, 405000.0], [1740.0, 447000.0], [2520.0, 620000.0], [2290.0, 359950.0], [1020.0, 279000.0], [1250.0, 200000.0], [2415.0, 815000.0], [3530.0, 995000.0], [3060.0, 864000.0], [2160.0, 671500.0], [2780.0, 1650000.0], [2200.0, 265000.0], [1640.0, 320000.0], [3140.0, 760000.0], [1160.0, 389000.0], [1720.0, 449000.0], [2340.0, 445000.0], [2660.0, 900000.0], [1050.0, 194000.0], [1480.0, 280000.0], [1413.0, 260000.0], [2280.0, 850000.0], [900.0, 243500.0], [3340.0, 1150000.0], [2150.0, 420000.0], [1840.0, 185000.0], [5305.0, 2700000.0], [1860.0, 266000.0], [2230.0, 635000.0], [1390.0, 354000.0], [1870.0, 502000.0], [1380.0, 475000.0], [2340.0, 385000.0], [2680.0, 1160000.0], [1480.0, 402500.0], [1310.0, 421000.0], [2120.0, 319990.0], [2920.0, 555000.0], [2090.0, 543000.0], [3110.0, 367500.0], [2990.0, 1110000.0], [2510.0, 450800.0], [2210.0, 507000.0], [1290.0, 205000.0], [1780.0, 399000.0], [1500.0, 295000.0], [2810.0, 747500.0], [1940.0, 359950.0], [1740.0, 733000.0], [1451.0, 300000.0], [1960.0, 425000.0], [1030.0, 535000.0], [1250.0, 330000.0], [1670.0, 256703.0], [2250.0, 975000.0], [1760.0, 500000.0], [4060.0, 880000.0], [2510.0, 541100.0], [2810.0, 1565000.0], [550.0, 188000.0], [2180.0, 425000.0], [3790.0, 1600000.0], [2810.0, 533000.0], [3600.0, 620000.0], [1230.0, 325000.0], [1070.0, 324000.0], [1310.0, 600000.0], [2130.0, 335000.0], [1990.0, 625000.0], [1580.0, 542300.0], [2190.0, 320000.0], [2200.0, 216600.0], [1250.0, 306000.0], [3160.0, 1190000.0], [2430.0, 485000.0], [2400.0, 569000.0], [1320.0, 300000.0], [3030.0, 768000.0], [1410.0, 211000.0], [2210.0, 640000.0], [2080.0, 550000.0], [2210.0, 240000.0], [1300.0, 378000.0], [1560.0, 290000.0], [3190.0, 832000.0], [1990.0, 435000.0], [1050.0, 199000.0], [2220.0, 711777.0], [3080.0, 1655000.0], [3350.0, 740000.0], [810.0, 408000.0], [2870.0, 755000.0], [1430.0, 345000.0], [1660.0, 529941.0], [1540.0, 500000.0], [3640.0, 630000.0], [2390.0, 660000.0], [980.0, 260000.0], [1250.0, 425000.0], [2070.0, 430000.0], [3220.0, 590000.0], [1210.0, 824000.0], [1600.0, 390000.0], [2350.0, 700000.0], [1260.0, 270000.0], [2700.0, 652500.0], [1290.0, 323000.0], [2500.0, 670000.0], [1180.0, 220000.0], [1540.0, 345000.0], [4340.0, 2475000.0], [3980.0, 1582500.0], [2310.0, 395000.0], [1090.0, 474000.0], [1110.0, 190500.0], [2880.0, 1015000.0], [2160.0, 820000.0], [1860.0, 350000.0], [4010.0, 849000.0], [2060.0, 580000.0], [930.0, 275000.0], [4050.0, 450000.0], [1440.0, 222000.0], [1650.0, 550000.0], [1300.0, 281000.0], [3480.0, 532000.0], [3570.0, 725000.0], [2740.0, 476000.0], [1390.0, 278500.0], [1520.0, 279950.0], [1760.0, 620047.0], [2460.0, 653750.0], [4640.0, 2200000.0], [3370.0, 570000.0], [3710.0, 485000.0], [800.0, 410000.0], [2200.0, 345000.0], [2380.0, 446250.0], [1347.0, 321000.0], [1340.0, 390000.0], [700.0, 330000.0], [1650.0, 622000.0], [1890.0, 319990.0], [1300.0, 175000.0], [840.0, 130000.0], [1600.0, 502000.0], [2320.0, 674000.0], [1670.0, 270000.0], [1110.0, 440150.0], [1690.0, 499000.0], [1000.0, 305000.0], [2050.0, 700000.0], [2340.0, 390000.0], [2200.0, 349900.0], [1760.0, 444950.0], [1410.0, 541000.0], [3190.0, 1100000.0], [1900.0, 360000.0], [2740.0, 541125.0], [810.0, 255000.0], [2660.0, 730000.0], [1620.0, 334950.0], [2130.0, 370000.0], [2950.0, 1550000.0], [2020.0, 345000.0], [1750.0, 525000.0], [1740.0, 173000.0], [3000.0, 527000.0], [1710.0, 295000.0], [1050.0, 245000.0], [3440.0, 905000.0], [3830.0, 710000.0], [710.0, 245000.0], [2000.0, 273500.0], [1690.0, 452000.0], [2640.0, 850000.0], [4560.0, 1215000.0], [1050.0, 310000.0], [1340.0, 332000.0], [1910.0, 335000.0], [970.0, 205000.0], [1570.0, 346500.0], [2250.0, 363000.0], [2790.0, 533380.0], [3670.0, 731000.0], [1860.0, 407185.0], [1500.0, 395000.0], [3400.0, 830000.0], [1680.0, 290500.0], [1400.0, 373000.0], [1710.0, 675000.0], [1280.0, 190000.0], [1150.0, 329999.0], [2060.0, 485000.0], [1090.0, 365000.0], [4690.0, 1945000.0], [2670.0, 410000.0], [1600.0, 316500.0], [1520.0, 640000.0], [1520.0, 535000.0], [800.0, 388000.0], [1140.0, 230000.0], [940.0, 481203.0], [720.0, 287000.0], [1210.0, 615000.0], [1660.0, 188000.0], [2640.0, 1220000.0], [1300.0, 700000.0], [1400.0, 218500.0], [2840.0, 292050.0], [1090.0, 577000.0], [2360.0, 615000.0], [1650.0, 599000.0], [1410.0, 410000.0], [1520.0, 250000.0], [2110.0, 325000.0], [2420.0, 325000.0], [2000.0, 402000.0], [2470.0, 736000.0], [2020.0, 625000.0], [850.0, 250000.0], [4860.0, 2250000.0], [2320.0, 775000.0], [3440.0, 550000.0], [2360.0, 355500.0], [2500.0, 650000.0], [1270.0, 435010.0], [1440.0, 425000.0], [2170.0, 842000.0], [2090.0, 460000.0], [1040.0, 440000.0], [1790.0, 315000.0], [1630.0, 209950.0], [2650.0, 302000.0], [2540.0, 845000.0], [4120.0, 968933.0], [5240.0, 1862000.0], [3320.0, 1800000.0], [3750.0, 910000.0], [1990.0, 328000.0], [1970.0, 299995.0], [1300.0, 675000.0], [1710.0, 630000.0], [3220.0, 1260000.0], [2190.0, 418500.0], [1220.0, 210500.0], [2980.0, 947500.0], [2403.0, 519900.0], [2320.0, 320000.0], [1510.0, 402000.0], [4130.0, 998000.0], [570.0, 310000.0], [1250.0, 345000.0], [7850.0, 2700000.0], [1840.0, 575000.0], [1560.0, 425000.0], [1890.0, 282000.0], [2840.0, 560000.0], [1396.0, 225000.0], [2230.0, 297000.0], [1860.0, 326995.0], [700.0, 260000.0], [2050.0, 305000.0], [1530.0, 247500.0], [1160.0, 361550.0], [3530.0, 1550000.0], [1810.0, 431000.0], [970.0, 226000.0], [2180.0, 464000.0], [2460.0, 704111.0], [5770.0, 1535000.0], [4140.0, 720000.0], [1910.0, 595000.0], [1920.0, 350000.0], [1100.0, 225800.0], [2500.0, 525000.0], [2930.0, 838000.0], [950.0, 193000.0], [1290.0, 373000.0], [1200.0, 250000.0], [790.0, 299800.0], [720.0, 185000.0], [3730.0, 595000.0], [2030.0, 305000.0], [2220.0, 325000.0], [1660.0, 285000.0], [2040.0, 545000.0], [2800.0, 1850000.0], [2410.0, 600000.0], [1320.0, 380000.0], [3672.0, 405000.0], [3310.0, 419000.0], [2473.0, 343000.0], [1820.0, 205000.0], [2850.0, 700000.0], [3216.0, 498445.0], [1440.0, 1038000.0], [3910.0, 709950.0], [1720.0, 265000.0], [1820.0, 350000.0], [1410.0, 175000.0], [1980.0, 900000.0], [2400.0, 425000.0], [1850.0, 475000.0], [4460.0, 833450.0], [2290.0, 536000.0], [1540.0, 462500.0], [1660.0, 530000.0], [2030.0, 440000.0], [1360.0, 255000.0], [1830.0, 269800.0], [1960.0, 525000.0], [1678.0, 353000.0], [2600.0, 855000.0], [2240.0, 327500.0], [2500.0, 575000.0], [1100.0, 343566.0], [1100.0, 325000.0], [1510.0, 575000.0], [1250.0, 250000.0], [1670.0, 1020000.0], [1820.0, 465000.0], [2710.0, 540000.0], [1760.0, 194000.0], [2170.0, 767250.0], [3730.0, 1070000.0], [1490.0, 335000.0], [670.0, 157500.0], [2060.0, 610000.0], [3300.0, 920000.0], [2380.0, 699900.0], [2650.0, 790000.0], [760.0, 122000.0], [1260.0, 335000.0], [1660.0, 203700.0], [1970.0, 690000.0], [2460.0, 637000.0], [3770.0, 1038000.0], [3340.0, 637850.0], [3520.0, 905000.0], [2210.0, 794154.0], [1010.0, 308000.0], [5180.0, 1075000.0], [1700.0, 475000.0], [2740.0, 675000.0], [2680.0, 515000.0], [1710.0, 415000.0], [1810.0, 827500.0], [2010.0, 575000.0], [1720.0, 550000.0], [1620.0, 345000.0], [3410.0, 725000.0], [2290.0, 630000.0], [2910.0, 645000.0], [3410.0, 649000.0], [1590.0, 295500.0], [2640.0, 895000.0], [1800.0, 665000.0], [2480.0, 470000.0], [1920.0, 465000.0], [1340.0, 425000.0], [2120.0, 290000.0], [2390.0, 557500.0], [1150.0, 225000.0], [1370.0, 225000.0], [2283.0, 389950.0], [2480.0, 665000.0], [810.0, 229000.0], [2710.0, 535000.0], [2470.0, 445000.0], [1800.0, 409316.0], [1280.0, 281000.0], [2240.0, 469000.0], [1700.0, 437000.0], [1340.0, 399000.0], [1010.0, 259950.0], [1020.0, 325000.0], [1460.0, 580000.0], [2120.0, 450000.0], [1940.0, 807000.0], [2310.0, 309950.0], [1580.0, 406000.0], [2830.0, 1898000.0], [1340.0, 225000.0], [2110.0, 305495.0], [760.0, 530000.0], [1750.0, 542500.0], [2730.0, 350000.0], [910.0, 169000.0], [2290.0, 585000.0], [2230.0, 544500.0], [2800.0, 350000.0], [2030.0, 906000.0], [1730.0, 280400.0], [2020.0, 677500.0], [3490.0, 1620000.0], [1680.0, 381000.0], [2240.0, 313500.0], [1460.0, 775000.0], [2130.0, 530000.0], [1650.0, 559500.0], [1410.0, 481450.0], [3560.0, 833000.0], [2770.0, 318700.0], [3400.0, 515000.0], [1690.0, 385000.0], [1310.0, 437000.0], [2460.0, 313000.0], [2020.0, 633000.0], [3910.0, 805000.0], [2200.0, 698000.0], [2460.0, 605000.0], [2300.0, 479500.0], [2070.0, 470500.0], [3170.0, 600000.0], [1970.0, 400000.0], [1090.0, 249000.0], [940.0, 355000.0], [1410.0, 260000.0], [1790.0, 197000.0], [2120.0, 360000.0], [1120.0, 399000.0], [1480.0, 600000.0], [2424.0, 391500.0], [1020.0, 200000.0], [3060.0, 520000.0], [3250.0, 535000.0], [1710.0, 322400.0], [1610.0, 255000.0], [1170.0, 145600.0], [1060.0, 420000.0], [1470.0, 280000.0], [1740.0, 565000.0], [2160.0, 585000.0], [1470.0, 225000.0], [1720.0, 230000.0], [3720.0, 1050000.0], [2980.0, 690000.0], [1480.0, 290000.0], [3040.0, 540000.0], [2720.0, 940000.0], [1160.0, 487000.0]], \"columns\": [{\"dtype\": \"str\", \"name\": \"id\"}, {\"dtype\": \"datetime\", \"name\": \"date\"}, {\"dtype\": \"float\", \"name\": \"price\"}, {\"dtype\": \"float\", \"name\": \"bedrooms\"}, {\"dtype\": \"float\", \"name\": \"bathrooms\"}, {\"dtype\": \"float\", \"name\": \"sqft_living\"}, {\"dtype\": \"float\", \"name\": \"sqft_lot\"}, {\"dtype\": \"float\", \"name\": \"floors\"}, {\"dtype\": \"int\", \"name\": \"waterfront\"}, {\"dtype\": \"int\", \"name\": \"view\"}, {\"dtype\": \"int\", \"name\": \"condition\"}, {\"dtype\": \"float\", \"name\": \"grade\"}, {\"dtype\": \"float\", \"name\": \"sqft_above\"}, {\"dtype\": \"float\", \"name\": \"sqft_basement\"}, {\"dtype\": \"float\", \"name\": \"yr_built\"}, {\"dtype\": \"float\", \"name\": \"yr_renovated\"}, {\"dtype\": \"str\", \"name\": \"zipcode\"}, {\"dtype\": \"float\", \"name\": \"lat\"}, {\"dtype\": \"float\", \"name\": \"long\"}, {\"dtype\": \"float\", \"name\": \"sqft_living15\"}, {\"dtype\": \"float\", \"name\": \"sqft_lot15\"}]}, e);\n",
       "                });\n",
       "            })();\n",
       "        "
      ]
     },
     "metadata": {},
     "output_type": "display_data"
    }
   ],
   "source": [
    "# applying visualization for given data by importing graphlab canvas\n",
    "graphlab.canvas.set_target('ipynb')\n",
    "sales.show(view=\"Scatter Plot\", x=\"sqft_living\", y=\"price\")"
   ]
  },
  {
   "cell_type": "code",
   "execution_count": 5,
   "metadata": {
    "collapsed": true
   },
   "outputs": [],
   "source": [
    "# Create simple regression model of sqft_living to price\n",
    "train_data,test_data = sales.random_split(.8,seed=0)"
   ]
  },
  {
   "cell_type": "code",
   "execution_count": 6,
   "metadata": {
    "collapsed": false
   },
   "outputs": [
    {
     "name": "stdout",
     "output_type": "stream",
     "text": [
      "PROGRESS: Creating a validation set from 5 percent of training data. This may take a while.\n",
      "          You can set ``validation_set=None`` to disable validation tracking.\n",
      "\n"
     ]
    },
    {
     "data": {
      "text/html": [
       "<pre>Linear regression:</pre>"
      ],
      "text/plain": [
       "Linear regression:"
      ]
     },
     "metadata": {},
     "output_type": "display_data"
    },
    {
     "data": {
      "text/html": [
       "<pre>--------------------------------------------------------</pre>"
      ],
      "text/plain": [
       "--------------------------------------------------------"
      ]
     },
     "metadata": {},
     "output_type": "display_data"
    },
    {
     "data": {
      "text/html": [
       "<pre>Number of examples          : 16544</pre>"
      ],
      "text/plain": [
       "Number of examples          : 16544"
      ]
     },
     "metadata": {},
     "output_type": "display_data"
    },
    {
     "data": {
      "text/html": [
       "<pre>Number of features          : 1</pre>"
      ],
      "text/plain": [
       "Number of features          : 1"
      ]
     },
     "metadata": {},
     "output_type": "display_data"
    },
    {
     "data": {
      "text/html": [
       "<pre>Number of unpacked features : 1</pre>"
      ],
      "text/plain": [
       "Number of unpacked features : 1"
      ]
     },
     "metadata": {},
     "output_type": "display_data"
    },
    {
     "data": {
      "text/html": [
       "<pre>Number of coefficients    : 2</pre>"
      ],
      "text/plain": [
       "Number of coefficients    : 2"
      ]
     },
     "metadata": {},
     "output_type": "display_data"
    },
    {
     "data": {
      "text/html": [
       "<pre>Starting Newton Method</pre>"
      ],
      "text/plain": [
       "Starting Newton Method"
      ]
     },
     "metadata": {},
     "output_type": "display_data"
    },
    {
     "data": {
      "text/html": [
       "<pre>--------------------------------------------------------</pre>"
      ],
      "text/plain": [
       "--------------------------------------------------------"
      ]
     },
     "metadata": {},
     "output_type": "display_data"
    },
    {
     "data": {
      "text/html": [
       "<pre>+-----------+----------+--------------+--------------------+----------------------+---------------+-----------------+</pre>"
      ],
      "text/plain": [
       "+-----------+----------+--------------+--------------------+----------------------+---------------+-----------------+"
      ]
     },
     "metadata": {},
     "output_type": "display_data"
    },
    {
     "data": {
      "text/html": [
       "<pre>| Iteration | Passes   | Elapsed Time | Training-max_error | Validation-max_error | Training-rmse | Validation-rmse |</pre>"
      ],
      "text/plain": [
       "| Iteration | Passes   | Elapsed Time | Training-max_error | Validation-max_error | Training-rmse | Validation-rmse |"
      ]
     },
     "metadata": {},
     "output_type": "display_data"
    },
    {
     "data": {
      "text/html": [
       "<pre>+-----------+----------+--------------+--------------------+----------------------+---------------+-----------------+</pre>"
      ],
      "text/plain": [
       "+-----------+----------+--------------+--------------------+----------------------+---------------+-----------------+"
      ]
     },
     "metadata": {},
     "output_type": "display_data"
    },
    {
     "data": {
      "text/html": [
       "<pre>| 1         | 2        | 1.030840     | 4332288.050551     | 1426621.853558       | 264662.026126 | 226594.628302   |</pre>"
      ],
      "text/plain": [
       "| 1         | 2        | 1.030840     | 4332288.050551     | 1426621.853558       | 264662.026126 | 226594.628302   |"
      ]
     },
     "metadata": {},
     "output_type": "display_data"
    },
    {
     "data": {
      "text/html": [
       "<pre>+-----------+----------+--------------+--------------------+----------------------+---------------+-----------------+</pre>"
      ],
      "text/plain": [
       "+-----------+----------+--------------+--------------------+----------------------+---------------+-----------------+"
      ]
     },
     "metadata": {},
     "output_type": "display_data"
    },
    {
     "data": {
      "text/html": [
       "<pre>SUCCESS: Optimal solution found.</pre>"
      ],
      "text/plain": [
       "SUCCESS: Optimal solution found."
      ]
     },
     "metadata": {},
     "output_type": "display_data"
    }
   ],
   "source": [
    "# build the regression model\n",
    "sqft_model = graphlab.linear_regression.create(train_data, target='price', features=['sqft_living'])"
   ]
  },
  {
   "cell_type": "code",
   "execution_count": 7,
   "metadata": {
    "collapsed": false
   },
   "outputs": [
    {
     "data": {
      "text/html": [
       "<pre></pre>"
      ],
      "text/plain": []
     },
     "metadata": {},
     "output_type": "display_data"
    },
    {
     "name": "stdout",
     "output_type": "stream",
     "text": [
      "543054.042563\n"
     ]
    }
   ],
   "source": [
    "# evaluate the smiple model\n",
    "print test_data['price'].mean()"
   ]
  },
  {
   "cell_type": "code",
   "execution_count": 8,
   "metadata": {
    "collapsed": false
   },
   "outputs": [
    {
     "name": "stdout",
     "output_type": "stream",
     "text": [
      "{'max_error': 4129866.6679171557, 'rmse': 255220.94016625677}\n"
     ]
    }
   ],
   "source": [
    "print sqft_model.evaluate(test_data)"
   ]
  },
  {
   "cell_type": "code",
   "execution_count": 9,
   "metadata": {
    "collapsed": false
   },
   "outputs": [],
   "source": [
    "# predictions\n",
    "import matplotlib.pyplot as plt\n",
    "from IPython import get_ipython\n",
    "get_ipython().run_line_magic('matplotlib', 'inline')"
   ]
  },
  {
   "cell_type": "code",
   "execution_count": 10,
   "metadata": {
    "collapsed": false
   },
   "outputs": [
    {
     "data": {
      "text/plain": [
       "[<matplotlib.lines.Line2D at 0x31eb4ac8>,\n",
       " <matplotlib.lines.Line2D at 0x31eb4d30>]"
      ]
     },
     "execution_count": 10,
     "metadata": {},
     "output_type": "execute_result"
    },
    {
     "data": {
      "image/png": "[encoded data removed]",
      "text/plain": [
       "<matplotlib.figure.Figure at 0x31d312e8>"
      ]
     },
     "metadata": {},
     "output_type": "display_data"
    }
   ],
   "source": [
    "# building scatterplot\n",
    "plt.plot(test_data['sqft_living'],test_data['price'],'.',\n",
    "        test_data['sqft_living'],sqft_model.predict(test_data),'-')"
   ]
  },
  {
   "cell_type": "code",
   "execution_count": 11,
   "metadata": {
    "collapsed": false
   },
   "outputs": [
    {
     "data": {
      "text/html": [
       "<div style=\"max-height:1000px;max-width:1500px;overflow:auto;\"><table frame=\"box\" rules=\"cols\">\n",
       "    <tr>\n",
       "        <th style=\"padding-left: 1em; padding-right: 1em; text-align: center\">name</th>\n",
       "        <th style=\"padding-left: 1em; padding-right: 1em; text-align: center\">index</th>\n",
       "        <th style=\"padding-left: 1em; padding-right: 1em; text-align: center\">value</th>\n",
       "        <th style=\"padding-left: 1em; padding-right: 1em; text-align: center\">stderr</th>\n",
       "    </tr>\n",
       "    <tr>\n",
       "        <td style=\"padding-left: 1em; padding-right: 1em; text-align: center; vertical-align: top\">(intercept)</td>\n",
       "        <td style=\"padding-left: 1em; padding-right: 1em; text-align: center; vertical-align: top\">None</td>\n",
       "        <td style=\"padding-left: 1em; padding-right: 1em; text-align: center; vertical-align: top\">-49682.6520628</td>\n",
       "        <td style=\"padding-left: 1em; padding-right: 1em; text-align: center; vertical-align: top\">5068.75216733</td>\n",
       "    </tr>\n",
       "    <tr>\n",
       "        <td style=\"padding-left: 1em; padding-right: 1em; text-align: center; vertical-align: top\">sqft_living</td>\n",
       "        <td style=\"padding-left: 1em; padding-right: 1em; text-align: center; vertical-align: top\">None</td>\n",
       "        <td style=\"padding-left: 1em; padding-right: 1em; text-align: center; vertical-align: top\">283.601211744</td>\n",
       "        <td style=\"padding-left: 1em; padding-right: 1em; text-align: center; vertical-align: top\">2.22568170375</td>\n",
       "    </tr>\n",
       "</table>\n",
       "[2 rows x 4 columns]<br/>\n",
       "</div>"
      ],
      "text/plain": [
       "Columns:\n",
       "\tname\tstr\n",
       "\tindex\tstr\n",
       "\tvalue\tfloat\n",
       "\tstderr\tfloat\n",
       "\n",
       "Rows: 2\n",
       "\n",
       "Data:\n",
       "+-------------+-------+----------------+---------------+\n",
       "|     name    | index |     value      |     stderr    |\n",
       "+-------------+-------+----------------+---------------+\n",
       "| (intercept) |  None | -49682.6520628 | 5068.75216733 |\n",
       "| sqft_living |  None | 283.601211744  | 2.22568170375 |\n",
       "+-------------+-------+----------------+---------------+\n",
       "[2 rows x 4 columns]"
      ]
     },
     "execution_count": 11,
     "metadata": {},
     "output_type": "execute_result"
    }
   ],
   "source": [
    "sqft_model.get('coefficients')"
   ]
  },
  {
   "cell_type": "code",
   "execution_count": 12,
   "metadata": {
    "collapsed": true
   },
   "outputs": [],
   "source": [
    "# exploring other features\n",
    "my_features = ['bedrooms', 'bathrooms', 'sqft_living', 'floors', 'zipcode']\n"
   ]
  },
  {
   "cell_type": "code",
   "execution_count": 13,
   "metadata": {
    "collapsed": false
   },
   "outputs": [
    {
     "data": {
      "application/javascript": [
       "$(\"head\").append($(\"<link/>\").attr({\n",
       "  rel:  \"stylesheet\",\n",
       "  type: \"text/css\",\n",
       "  href: \"//cdnjs.cloudflare.com/ajax/libs/font-awesome/4.1.0/css/font-awesome.min.css\"\n",
       "}));\n",
       "$(\"head\").append($(\"<link/>\").attr({\n",
       "  rel:  \"stylesheet\",\n",
       "  type: \"text/css\",\n",
       "  href: \"https://static.turi.com/products/graphlab-create/2.1/canvas/css/canvas.css\"\n",
       "}));\n",
       "\n",
       "            (function(){\n",
       "\n",
       "                var e = null;\n",
       "                if (typeof element == 'undefined') {\n",
       "                    var scripts = document.getElementsByTagName('script');\n",
       "                    var thisScriptTag = scripts[scripts.length-1];\n",
       "                    var parentDiv = thisScriptTag.parentNode;\n",
       "                    e = document.createElement('div');\n",
       "                    parentDiv.appendChild(e);\n",
       "                } else {\n",
       "                    e = element[0];\n",
       "                }\n",
       "\n",
       "                if (typeof requirejs !== 'undefined') {\n",
       "                    // disable load timeout; ipython_app.js is large and can take a while to load.\n",
       "                    requirejs.config({waitSeconds: 0});\n",
       "                }\n",
       "\n",
       "                require(['https://static.turi.com/products/graphlab-create/2.1/canvas/js/ipython_app.js'], function(IPythonApp){\n",
       "                    var app = new IPythonApp();\n",
       "                    app.attachView('sframe','Summary', {\"ipython\": true, \"sketch\": {\"sqft_living\": {\"std\": 918.4196493828822, \"complete\": true, \"min\": 290.0, \"max\": 13540.0, \"quantile\": [290.0, 720.0, 790.0, 840.0, 890.0, 930.0, 970.0, 1010.0, 1030.0, 1060.0, 1090.0, 1120.0, 1150.0, 1170.0, 1200.0, 1220.0, 1240.0, 1260.0, 1280.0, 1300.0, 1320.0, 1340.0, 1365.0, 1390.0, 1400.0, 1430.0, 1440.0, 1460.0, 1480.0, 1500.0, 1520.0, 1540.0, 1560.0, 1580.0, 1600.0, 1610.0, 1640.0, 1654.0, 1670.0, 1690.0, 1710.0, 1730.0, 1750.0, 1770.0, 1790.0, 1810.0, 1830.0, 1850.0, 1870.0, 1890.0, 1910.0, 1940.0, 1960.0, 1980.0, 2000.0, 2020.0, 2050.0, 2070.0, 2090.0, 2110.0, 2130.0, 2160.0, 2180.0, 2210.0, 2230.0, 2260.0, 2290.0, 2310.0, 2340.0, 2370.0, 2400.0, 2420.0, 2450.0, 2490.0, 2514.0, 2550.0, 2580.0, 2620.0, 2650.0, 2690.0, 2730.0, 2770.0, 2810.0, 2860.0, 2910.0, 2970.0, 3010.0, 3070.0, 3130.0, 3190.0, 3250.0, 3330.0, 3420.0, 3520.0, 3640.0, 3770.0, 3930.0, 4150.0, 4420.0, 5020.0, 13540.0], \"median\": 1910.0, \"numeric\": true, \"num_unique\": 1044, \"num_undefined\": 0, \"var\": 843494.6523725762, \"progress\": 1.0, \"size\": 21613, \"frequent_items\": {\"2050.0\": {\"frequency\": 83, \"value\": 2050.0}, \"4100.0\": {\"frequency\": 5, \"value\": 4100.0}, \"2056.0\": {\"frequency\": 2, \"value\": 2056.0}, \"2732.0\": {\"frequency\": 2, \"value\": 2732.0}, \"2060.0\": {\"frequency\": 100, \"value\": 2060.0}, \"4110.0\": {\"frequency\": 10, \"value\": 4110.0}, \"2064.0\": {\"frequency\": 1, \"value\": 2064.0}, \"4115.0\": {\"frequency\": 1, \"value\": 4115.0}, \"2068.0\": {\"frequency\": 1, \"value\": 2068.0}, \"2070.0\": {\"frequency\": 92, \"value\": 2070.0}, \"4120.0\": {\"frequency\": 9, \"value\": 4120.0}, \"2052.0\": {\"frequency\": 1, \"value\": 2052.0}, \"2074.0\": {\"frequency\": 1, \"value\": 2074.0}, \"2075.0\": {\"frequency\": 2, \"value\": 2075.0}, \"2080.0\": {\"frequency\": 98, \"value\": 2080.0}, \"4130.0\": {\"frequency\": 8, \"value\": 4130.0}, \"2085.0\": {\"frequency\": 1, \"value\": 2085.0}, \"2090.0\": {\"frequency\": 95, \"value\": 2090.0}, \"4140.0\": {\"frequency\": 12, \"value\": 4140.0}, \"2093.0\": {\"frequency\": 1, \"value\": 2093.0}, \"2095.0\": {\"frequency\": 3, \"value\": 2095.0}, \"2099.0\": {\"frequency\": 1, \"value\": 2099.0}, \"2100.0\": {\"frequency\": 116, \"value\": 2100.0}, \"4150.0\": {\"frequency\": 10, \"value\": 4150.0}, \"6200.0\": {\"frequency\": 2, \"value\": 6200.0}, \"2105.0\": {\"frequency\": 1, \"value\": 2105.0}, \"2110.0\": {\"frequency\": 82, \"value\": 2110.0}, \"4160.0\": {\"frequency\": 7, \"value\": 4160.0}, \"6210.0\": {\"frequency\": 1, \"value\": 6210.0}, \"2115.0\": {\"frequency\": 1, \"value\": 2115.0}, \"2120.0\": {\"frequency\": 111, \"value\": 2120.0}, \"4170.0\": {\"frequency\": 6, \"value\": 4170.0}, \"2744.0\": {\"frequency\": 1, \"value\": 2744.0}, \"2130.0\": {\"frequency\": 94, \"value\": 2130.0}, \"4180.0\": {\"frequency\": 7, \"value\": 4180.0}, \"2134.0\": {\"frequency\": 1, \"value\": 2134.0}, \"2140.0\": {\"frequency\": 78, \"value\": 2140.0}, \"4190.0\": {\"frequency\": 6, \"value\": 4190.0}, \"6240.0\": {\"frequency\": 1, \"value\": 6240.0}, \"2145.0\": {\"frequency\": 1, \"value\": 2145.0}, \"2150.0\": {\"frequency\": 85, \"value\": 2150.0}, \"4200.0\": {\"frequency\": 6, \"value\": 4200.0}, \"2153.0\": {\"frequency\": 1, \"value\": 2153.0}, \"2154.0\": {\"frequency\": 2, \"value\": 2154.0}, \"2155.0\": {\"frequency\": 1, \"value\": 2155.0}, \"2156.0\": {\"frequency\": 1, \"value\": 2156.0}, \"2160.0\": {\"frequency\": 96, \"value\": 2160.0}, \"5480.0\": {\"frequency\": 4, \"value\": 5480.0}, \"4210.0\": {\"frequency\": 7, \"value\": 4210.0}, \"2163.0\": {\"frequency\": 2, \"value\": 2163.0}, \"6260.0\": {\"frequency\": 1, \"value\": 6260.0}, \"2166.0\": {\"frequency\": 1, \"value\": 2166.0}, \"2168.0\": {\"frequency\": 2, \"value\": 2168.0}, \"2170.0\": {\"frequency\": 80, \"value\": 2170.0}, \"4220.0\": {\"frequency\": 8, \"value\": 4220.0}, \"4225.0\": {\"frequency\": 1, \"value\": 4225.0}, \"2180.0\": {\"frequency\": 89, \"value\": 2180.0}, \"2181.0\": {\"frequency\": 1, \"value\": 2181.0}, \"4230.0\": {\"frequency\": 11, \"value\": 4230.0}, \"2185.0\": {\"frequency\": 1, \"value\": 2185.0}, \"2190.0\": {\"frequency\": 92, \"value\": 2190.0}, \"4240.0\": {\"frequency\": 7, \"value\": 4240.0}, \"3960.0\": {\"frequency\": 11, \"value\": 3960.0}, \"2195.0\": {\"frequency\": 1, \"value\": 2195.0}, \"2196.0\": {\"frequency\": 1, \"value\": 2196.0}, \"2414.0\": {\"frequency\": 1, \"value\": 2414.0}, \"2198.0\": {\"frequency\": 1, \"value\": 2198.0}, \"2200.0\": {\"frequency\": 93, \"value\": 2200.0}, \"2201.0\": {\"frequency\": 1, \"value\": 2201.0}, \"4250.0\": {\"frequency\": 10, \"value\": 4250.0}, \"6300.0\": {\"frequency\": 1, \"value\": 6300.0}, \"2206.0\": {\"frequency\": 1, \"value\": 2206.0}, \"2208.0\": {\"frequency\": 1, \"value\": 2208.0}, \"1392.0\": {\"frequency\": 1, \"value\": 1392.0}, \"2210.0\": {\"frequency\": 74, \"value\": 2210.0}, \"4260.0\": {\"frequency\": 6, \"value\": 4260.0}, \"2216.0\": {\"frequency\": 1, \"value\": 2216.0}, \"2217.0\": {\"frequency\": 1, \"value\": 2217.0}, \"2220.0\": {\"frequency\": 75, \"value\": 2220.0}, \"4270.0\": {\"frequency\": 11, \"value\": 4270.0}, \"2223.0\": {\"frequency\": 1, \"value\": 2223.0}, \"2229.0\": {\"frequency\": 1, \"value\": 2229.0}, \"2230.0\": {\"frequency\": 82, \"value\": 2230.0}, \"4280.0\": {\"frequency\": 9, \"value\": 4280.0}, \"2233.0\": {\"frequency\": 1, \"value\": 2233.0}, \"6330.0\": {\"frequency\": 1, \"value\": 6330.0}, \"2235.0\": {\"frequency\": 1, \"value\": 2235.0}, \"4285.0\": {\"frequency\": 2, \"value\": 4285.0}, \"2238.0\": {\"frequency\": 1, \"value\": 2238.0}, \"2240.0\": {\"frequency\": 101, \"value\": 2240.0}, \"4290.0\": {\"frequency\": 7, \"value\": 4290.0}, \"2244.0\": {\"frequency\": 1, \"value\": 2244.0}, \"2245.0\": {\"frequency\": 2, \"value\": 2245.0}, \"2250.0\": {\"frequency\": 68, \"value\": 2250.0}, \"2251.0\": {\"frequency\": 1, \"value\": 2251.0}, \"4300.0\": {\"frequency\": 8, \"value\": 4300.0}, \"2253.0\": {\"frequency\": 1, \"value\": 2253.0}, \"1741.0\": {\"frequency\": 2, \"value\": 1741.0}, \"2257.0\": {\"frequency\": 1, \"value\": 2257.0}, \"2259.0\": {\"frequency\": 1, \"value\": 2259.0}, \"2260.0\": {\"frequency\": 79, \"value\": 2260.0}, \"4310.0\": {\"frequency\": 5, \"value\": 4310.0}, \"2267.0\": {\"frequency\": 1, \"value\": 2267.0}, \"2270.0\": {\"frequency\": 62, \"value\": 2270.0}, \"4133.0\": {\"frequency\": 1, \"value\": 4133.0}, \"4320.0\": {\"frequency\": 9, \"value\": 4320.0}, \"6370.0\": {\"frequency\": 1, \"value\": 6370.0}, \"2280.0\": {\"frequency\": 81, \"value\": 2280.0}, \"4330.0\": {\"frequency\": 4, \"value\": 4330.0}, \"2283.0\": {\"frequency\": 1, \"value\": 2283.0}, \"6380.0\": {\"frequency\": 1, \"value\": 6380.0}, \"2286.0\": {\"frequency\": 1, \"value\": 2286.0}, \"2290.0\": {\"frequency\": 80, \"value\": 2290.0}, \"4340.0\": {\"frequency\": 8, \"value\": 4340.0}, \"6390.0\": {\"frequency\": 1, \"value\": 6390.0}, \"4168.0\": {\"frequency\": 1, \"value\": 4168.0}, \"2298.0\": {\"frequency\": 1, \"value\": 2298.0}, \"2300.0\": {\"frequency\": 84, \"value\": 2300.0}, \"2301.0\": {\"frequency\": 1, \"value\": 2301.0}, \"4350.0\": {\"frequency\": 7, \"value\": 4350.0}, \"2303.0\": {\"frequency\": 3, \"value\": 2303.0}, \"6400.0\": {\"frequency\": 1, \"value\": 6400.0}, \"2305.0\": {\"frequency\": 1, \"value\": 2305.0}, \"2310.0\": {\"frequency\": 59, \"value\": 2310.0}, \"2311.0\": {\"frequency\": 1, \"value\": 2311.0}, \"4360.0\": {\"frequency\": 9, \"value\": 4360.0}, \"2092.0\": {\"frequency\": 1, \"value\": 2092.0}, \"6410.0\": {\"frequency\": 1, \"value\": 6410.0}, \"6530.0\": {\"frequency\": 1, \"value\": 6530.0}, \"2320.0\": {\"frequency\": 90, \"value\": 2320.0}, \"1752.0\": {\"frequency\": 1, \"value\": 1752.0}, \"4370.0\": {\"frequency\": 8, \"value\": 4370.0}, \"3118.0\": {\"frequency\": 1, \"value\": 3118.0}, \"2329.0\": {\"frequency\": 2, \"value\": 2329.0}, \"2330.0\": {\"frequency\": 76, \"value\": 2330.0}, \"2331.0\": {\"frequency\": 1, \"value\": 2331.0}, \"4380.0\": {\"frequency\": 7, \"value\": 4380.0}, \"6430.0\": {\"frequency\": 1, \"value\": 6430.0}, \"1072.0\": {\"frequency\": 1, \"value\": 1072.0}, \"4386.0\": {\"frequency\": 1, \"value\": 4386.0}, \"2340.0\": {\"frequency\": 80, \"value\": 2340.0}, \"2341.0\": {\"frequency\": 1, \"value\": 2341.0}, \"4390.0\": {\"frequency\": 7, \"value\": 4390.0}, \"2344.0\": {\"frequency\": 2, \"value\": 2344.0}, \"2350.0\": {\"frequency\": 74, \"value\": 2350.0}, \"4400.0\": {\"frequency\": 5, \"value\": 4400.0}, \"3488.0\": {\"frequency\": 1, \"value\": 3488.0}, \"2738.0\": {\"frequency\": 1, \"value\": 2738.0}, \"2360.0\": {\"frequency\": 75, \"value\": 2360.0}, \"1076.0\": {\"frequency\": 1, \"value\": 1076.0}, \"4410.0\": {\"frequency\": 12, \"value\": 4410.0}, \"2370.0\": {\"frequency\": 75, \"value\": 2370.0}, \"4420.0\": {\"frequency\": 9, \"value\": 4420.0}, \"2375.0\": {\"frequency\": 1, \"value\": 2375.0}, \"2380.0\": {\"frequency\": 64, \"value\": 2380.0}, \"4430.0\": {\"frequency\": 6, \"value\": 4430.0}, \"3470.0\": {\"frequency\": 21, \"value\": 3470.0}, \"2390.0\": {\"frequency\": 85, \"value\": 2390.0}, \"4440.0\": {\"frequency\": 7, \"value\": 4440.0}, \"2393.0\": {\"frequency\": 1, \"value\": 2393.0}, \"6490.0\": {\"frequency\": 1, \"value\": 6490.0}, \"2395.0\": {\"frequency\": 1, \"value\": 2395.0}, \"2398.0\": {\"frequency\": 1, \"value\": 2398.0}, \"2400.0\": {\"frequency\": 84, \"value\": 2400.0}, \"4450.0\": {\"frequency\": 2, \"value\": 4450.0}, \"2403.0\": {\"frequency\": 1, \"value\": 2403.0}, \"6500.0\": {\"frequency\": 1, \"value\": 6500.0}, \"2406.0\": {\"frequency\": 1, \"value\": 2406.0}, \"1084.0\": {\"frequency\": 1, \"value\": 1084.0}, \"2410.0\": {\"frequency\": 57, \"value\": 2410.0}, \"4460.0\": {\"frequency\": 9, \"value\": 4460.0}, \"2413.0\": {\"frequency\": 1, \"value\": 2413.0}, \"6510.0\": {\"frequency\": 1, \"value\": 6510.0}, \"2415.0\": {\"frequency\": 1, \"value\": 2415.0}, \"370.0\": {\"frequency\": 1, \"value\": 370.0}, \"2420.0\": {\"frequency\": 88, \"value\": 2420.0}, \"4470.0\": {\"frequency\": 7, \"value\": 4470.0}, \"2423.0\": {\"frequency\": 1, \"value\": 2423.0}, \"2424.0\": {\"frequency\": 2, \"value\": 2424.0}, \"2425.0\": {\"frequency\": 1, \"value\": 2425.0}, \"4475.0\": {\"frequency\": 2, \"value\": 4475.0}, \"380.0\": {\"frequency\": 1, \"value\": 380.0}, \"2430.0\": {\"frequency\": 70, \"value\": 2430.0}, \"2432.0\": {\"frequency\": 1, \"value\": 2432.0}, \"3136.0\": {\"frequency\": 1, \"value\": 3136.0}, \"2434.0\": {\"frequency\": 1, \"value\": 2434.0}, \"2437.0\": {\"frequency\": 1, \"value\": 2437.0}, \"390.0\": {\"frequency\": 2, \"value\": 390.0}, \"2440.0\": {\"frequency\": 87, \"value\": 2440.0}, \"2441.0\": {\"frequency\": 1, \"value\": 2441.0}, \"4490.0\": {\"frequency\": 8, \"value\": 4490.0}, \"4495.0\": {\"frequency\": 1, \"value\": 4495.0}, \"2448.0\": {\"frequency\": 1, \"value\": 2448.0}, \"2450.0\": {\"frequency\": 52, \"value\": 2450.0}, \"4500.0\": {\"frequency\": 8, \"value\": 4500.0}, \"2798.0\": {\"frequency\": 2, \"value\": 2798.0}, \"6550.0\": {\"frequency\": 1, \"value\": 6550.0}, \"5810.0\": {\"frequency\": 1, \"value\": 5810.0}, \"2456.0\": {\"frequency\": 1, \"value\": 2456.0}, \"1092.0\": {\"frequency\": 1, \"value\": 1092.0}, \"410.0\": {\"frequency\": 1, \"value\": 410.0}, \"2460.0\": {\"frequency\": 66, \"value\": 2460.0}, \"4510.0\": {\"frequency\": 4, \"value\": 4510.0}, \"6563.0\": {\"frequency\": 1, \"value\": 6563.0}, \"420.0\": {\"frequency\": 2, \"value\": 420.0}, \"2470.0\": {\"frequency\": 52, \"value\": 2470.0}, \"4520.0\": {\"frequency\": 2, \"value\": 4520.0}, \"2473.0\": {\"frequency\": 1, \"value\": 2473.0}, \"2475.0\": {\"frequency\": 4, \"value\": 2475.0}, \"430.0\": {\"frequency\": 1, \"value\": 430.0}, \"2480.0\": {\"frequency\": 65, \"value\": 2480.0}, \"2481.0\": {\"frequency\": 1, \"value\": 2481.0}, \"4530.0\": {\"frequency\": 2, \"value\": 4530.0}, \"2483.0\": {\"frequency\": 2, \"value\": 2483.0}, \"440.0\": {\"frequency\": 1, \"value\": 440.0}, \"3828.0\": {\"frequency\": 1, \"value\": 3828.0}, \"2490.0\": {\"frequency\": 58, \"value\": 2490.0}, \"4540.0\": {\"frequency\": 1, \"value\": 4540.0}, \"2495.0\": {\"frequency\": 3, \"value\": 2495.0}, \"2496.0\": {\"frequency\": 1, \"value\": 2496.0}, \"2497.0\": {\"frequency\": 1, \"value\": 2497.0}, \"2500.0\": {\"frequency\": 90, \"value\": 2500.0}, \"1782.0\": {\"frequency\": 1, \"value\": 1782.0}, \"4550.0\": {\"frequency\": 2, \"value\": 4550.0}, \"3148.0\": {\"frequency\": 1, \"value\": 3148.0}, \"2506.0\": {\"frequency\": 2, \"value\": 2506.0}, \"2507.0\": {\"frequency\": 1, \"value\": 2507.0}, \"460.0\": {\"frequency\": 1, \"value\": 460.0}, \"2510.0\": {\"frequency\": 70, \"value\": 2510.0}, \"4560.0\": {\"frequency\": 8, \"value\": 4560.0}, \"2514.0\": {\"frequency\": 1, \"value\": 2514.0}, \"2517.0\": {\"frequency\": 1, \"value\": 2517.0}, \"2518.0\": {\"frequency\": 1, \"value\": 2518.0}, \"2519.0\": {\"frequency\": 1, \"value\": 2519.0}, \"2520.0\": {\"frequency\": 71, \"value\": 2520.0}, \"1444.0\": {\"frequency\": 1, \"value\": 1444.0}, \"4570.0\": {\"frequency\": 6, \"value\": 4570.0}, \"8670.0\": {\"frequency\": 1, \"value\": 8670.0}, \"4575.0\": {\"frequency\": 1, \"value\": 4575.0}, \"480.0\": {\"frequency\": 2, \"value\": 480.0}, \"2529.0\": {\"frequency\": 1, \"value\": 2529.0}, \"2530.0\": {\"frequency\": 48, \"value\": 2530.0}, \"2531.0\": {\"frequency\": 1, \"value\": 2531.0}, \"4580.0\": {\"frequency\": 2, \"value\": 4580.0}, \"6630.0\": {\"frequency\": 1, \"value\": 6630.0}, \"490.0\": {\"frequency\": 1, \"value\": 490.0}, \"2540.0\": {\"frequency\": 61, \"value\": 2540.0}, \"4590.0\": {\"frequency\": 7, \"value\": 4590.0}, \"6640.0\": {\"frequency\": 2, \"value\": 6640.0}, \"2547.0\": {\"frequency\": 1, \"value\": 2547.0}, \"500.0\": {\"frequency\": 1, \"value\": 500.0}, \"2550.0\": {\"frequency\": 74, \"value\": 2550.0}, \"4600.0\": {\"frequency\": 6, \"value\": 4600.0}, \"2555.0\": {\"frequency\": 1, \"value\": 2555.0}, \"2557.0\": {\"frequency\": 1, \"value\": 2557.0}, \"2560.0\": {\"frequency\": 58, \"value\": 2560.0}, \"4610.0\": {\"frequency\": 7, \"value\": 4610.0}, \"520.0\": {\"frequency\": 6, \"value\": 520.0}, \"2570.0\": {\"frequency\": 62, \"value\": 2570.0}, \"4620.0\": {\"frequency\": 3, \"value\": 4620.0}, \"6670.0\": {\"frequency\": 1, \"value\": 6670.0}, \"2575.0\": {\"frequency\": 1, \"value\": 2575.0}, \"2577.0\": {\"frequency\": 1, \"value\": 2577.0}, \"2578.0\": {\"frequency\": 1, \"value\": 2578.0}, \"2580.0\": {\"frequency\": 51, \"value\": 2580.0}, \"2478.0\": {\"frequency\": 1, \"value\": 2478.0}, \"4630.0\": {\"frequency\": 2, \"value\": 4630.0}, \"2584.0\": {\"frequency\": 1, \"value\": 2584.0}, \"540.0\": {\"frequency\": 2, \"value\": 540.0}, \"2590.0\": {\"frequency\": 55, \"value\": 2590.0}, \"4640.0\": {\"frequency\": 4, \"value\": 4640.0}, \"2594.0\": {\"frequency\": 1, \"value\": 2594.0}, \"4645.0\": {\"frequency\": 1, \"value\": 4645.0}, \"550.0\": {\"frequency\": 4, \"value\": 550.0}, \"2600.0\": {\"frequency\": 68, \"value\": 2600.0}, \"2601.0\": {\"frequency\": 1, \"value\": 2601.0}, \"4650.0\": {\"frequency\": 2, \"value\": 4650.0}, \"2605.0\": {\"frequency\": 3, \"value\": 2605.0}, \"560.0\": {\"frequency\": 4, \"value\": 560.0}, \"2610.0\": {\"frequency\": 51, \"value\": 2610.0}, \"4660.0\": {\"frequency\": 6, \"value\": 4660.0}, \"570.0\": {\"frequency\": 3, \"value\": 570.0}, \"2620.0\": {\"frequency\": 73, \"value\": 2620.0}, \"1802.0\": {\"frequency\": 1, \"value\": 1802.0}, \"4670.0\": {\"frequency\": 5, \"value\": 4670.0}, \"2623.0\": {\"frequency\": 1, \"value\": 2623.0}, \"580.0\": {\"frequency\": 5, \"value\": 580.0}, \"2630.0\": {\"frequency\": 53, \"value\": 2630.0}, \"2632.0\": {\"frequency\": 2, \"value\": 2632.0}, \"2828.0\": {\"frequency\": 1, \"value\": 2828.0}, \"1122.0\": {\"frequency\": 2, \"value\": 1122.0}, \"590.0\": {\"frequency\": 5, \"value\": 590.0}, \"2640.0\": {\"frequency\": 50, \"value\": 2640.0}, \"2641.0\": {\"frequency\": 2, \"value\": 2641.0}, \"4690.0\": {\"frequency\": 5, \"value\": 4690.0}, \"2643.0\": {\"frequency\": 1, \"value\": 2643.0}, \"600.0\": {\"frequency\": 7, \"value\": 600.0}, \"3172.0\": {\"frequency\": 1, \"value\": 3172.0}, \"2650.0\": {\"frequency\": 60, \"value\": 2650.0}, \"4700.0\": {\"frequency\": 8, \"value\": 4700.0}, \"2653.0\": {\"frequency\": 1, \"value\": 2653.0}, \"2655.0\": {\"frequency\": 1, \"value\": 2655.0}, \"2656.0\": {\"frequency\": 1, \"value\": 2656.0}, \"610.0\": {\"frequency\": 4, \"value\": 610.0}, \"2660.0\": {\"frequency\": 62, \"value\": 2660.0}, \"4710.0\": {\"frequency\": 1, \"value\": 4710.0}, \"2665.0\": {\"frequency\": 1, \"value\": 2665.0}, \"3362.0\": {\"frequency\": 1, \"value\": 3362.0}, \"620.0\": {\"frequency\": 12, \"value\": 620.0}, \"2669.0\": {\"frequency\": 1, \"value\": 2669.0}, \"2670.0\": {\"frequency\": 46, \"value\": 2670.0}, \"4720.0\": {\"frequency\": 4, \"value\": 4720.0}, \"2675.0\": {\"frequency\": 1, \"value\": 2675.0}, \"630.0\": {\"frequency\": 5, \"value\": 630.0}, \"2680.0\": {\"frequency\": 64, \"value\": 2680.0}, \"1812.0\": {\"frequency\": 1, \"value\": 1812.0}, \"4730.0\": {\"frequency\": 2, \"value\": 4730.0}, \"2683.0\": {\"frequency\": 1, \"value\": 2683.0}, \"640.0\": {\"frequency\": 5, \"value\": 640.0}, \"2689.0\": {\"frequency\": 2, \"value\": 2689.0}, \"2690.0\": {\"frequency\": 42, \"value\": 2690.0}, \"4740.0\": {\"frequency\": 5, \"value\": 4740.0}, \"1934.0\": {\"frequency\": 1, \"value\": 1934.0}, \"650.0\": {\"frequency\": 3, \"value\": 650.0}, \"2700.0\": {\"frequency\": 58, \"value\": 2700.0}, \"2701.0\": {\"frequency\": 2, \"value\": 2701.0}, \"4750.0\": {\"frequency\": 5, \"value\": 4750.0}, \"660.0\": {\"frequency\": 6, \"value\": 660.0}, \"2710.0\": {\"frequency\": 51, \"value\": 2710.0}, \"4760.0\": {\"frequency\": 1, \"value\": 4760.0}, \"2714.0\": {\"frequency\": 2, \"value\": 2714.0}, \"2716.0\": {\"frequency\": 1, \"value\": 2716.0}, \"2717.0\": {\"frequency\": 1, \"value\": 2717.0}, \"670.0\": {\"frequency\": 25, \"value\": 670.0}, \"2720.0\": {\"frequency\": 58, \"value\": 2720.0}, \"4770.0\": {\"frequency\": 2, \"value\": 4770.0}, \"2502.0\": {\"frequency\": 1, \"value\": 2502.0}, \"6160.0\": {\"frequency\": 1, \"value\": 6160.0}, \"680.0\": {\"frequency\": 13, \"value\": 680.0}, \"2730.0\": {\"frequency\": 48, \"value\": 2730.0}, \"4780.0\": {\"frequency\": 2, \"value\": 4780.0}, \"2734.0\": {\"frequency\": 1, \"value\": 2734.0}, \"690.0\": {\"frequency\": 8, \"value\": 690.0}, \"2740.0\": {\"frequency\": 53, \"value\": 2740.0}, \"4790.0\": {\"frequency\": 2, \"value\": 4790.0}, \"6840.0\": {\"frequency\": 1, \"value\": 6840.0}, \"700.0\": {\"frequency\": 36, \"value\": 700.0}, \"2750.0\": {\"frequency\": 40, \"value\": 2750.0}, \"4800.0\": {\"frequency\": 3, \"value\": 4800.0}, \"2753.0\": {\"frequency\": 1, \"value\": 2753.0}, \"2755.0\": {\"frequency\": 2, \"value\": 2755.0}, \"710.0\": {\"frequency\": 27, \"value\": 710.0}, \"2760.0\": {\"frequency\": 43, \"value\": 2760.0}, \"4810.0\": {\"frequency\": 2, \"value\": 4810.0}, \"720.0\": {\"frequency\": 49, \"value\": 720.0}, \"3192.0\": {\"frequency\": 1, \"value\": 3192.0}, \"2770.0\": {\"frequency\": 56, \"value\": 2770.0}, \"4820.0\": {\"frequency\": 1, \"value\": 4820.0}, \"730.0\": {\"frequency\": 14, \"value\": 730.0}, \"2780.0\": {\"frequency\": 47, \"value\": 2780.0}, \"4830.0\": {\"frequency\": 4, \"value\": 4830.0}, \"2783.0\": {\"frequency\": 1, \"value\": 2783.0}, \"6880.0\": {\"frequency\": 1, \"value\": 6880.0}, \"740.0\": {\"frequency\": 22, \"value\": 740.0}, \"2789.0\": {\"frequency\": 1, \"value\": 2789.0}, \"2790.0\": {\"frequency\": 52, \"value\": 2790.0}, \"2793.0\": {\"frequency\": 1, \"value\": 2793.0}, \"2795.0\": {\"frequency\": 1, \"value\": 2795.0}, \"2796.0\": {\"frequency\": 1, \"value\": 2796.0}, \"750.0\": {\"frequency\": 27, \"value\": 750.0}, \"2800.0\": {\"frequency\": 54, \"value\": 2800.0}, \"4850.0\": {\"frequency\": 4, \"value\": 4850.0}, \"2803.0\": {\"frequency\": 1, \"value\": 2803.0}, \"6900.0\": {\"frequency\": 1, \"value\": 6900.0}, \"2807.0\": {\"frequency\": 1, \"value\": 2807.0}, \"760.0\": {\"frequency\": 25, \"value\": 760.0}, \"2810.0\": {\"frequency\": 46, \"value\": 2810.0}, \"2811.0\": {\"frequency\": 1, \"value\": 2811.0}, \"4860.0\": {\"frequency\": 5, \"value\": 4860.0}, \"1834.0\": {\"frequency\": 1, \"value\": 1834.0}, \"2815.0\": {\"frequency\": 2, \"value\": 2815.0}, \"770.0\": {\"frequency\": 42, \"value\": 770.0}, \"2820.0\": {\"frequency\": 54, \"value\": 2820.0}, \"470.0\": {\"frequency\": 2, \"value\": 470.0}, \"4870.0\": {\"frequency\": 3, \"value\": 4870.0}, \"780.0\": {\"frequency\": 26, \"value\": 780.0}, \"3202.0\": {\"frequency\": 1, \"value\": 3202.0}, \"2830.0\": {\"frequency\": 46, \"value\": 2830.0}, \"6930.0\": {\"frequency\": 1, \"value\": 6930.0}, \"4883.0\": {\"frequency\": 1, \"value\": 4883.0}, \"790.0\": {\"frequency\": 38, \"value\": 790.0}, \"2840.0\": {\"frequency\": 49, \"value\": 2840.0}, \"4890.0\": {\"frequency\": 3, \"value\": 4890.0}, \"2844.0\": {\"frequency\": 1, \"value\": 2844.0}, \"2846.0\": {\"frequency\": 1, \"value\": 2846.0}, \"800.0\": {\"frequency\": 47, \"value\": 800.0}, \"2849.0\": {\"frequency\": 1, \"value\": 2849.0}, \"2850.0\": {\"frequency\": 38, \"value\": 2850.0}, \"809.0\": {\"frequency\": 1, \"value\": 809.0}, \"810.0\": {\"frequency\": 27, \"value\": 810.0}, \"2860.0\": {\"frequency\": 39, \"value\": 2860.0}, \"4910.0\": {\"frequency\": 4, \"value\": 4910.0}, \"2864.0\": {\"frequency\": 1, \"value\": 2864.0}, \"820.0\": {\"frequency\": 40, \"value\": 820.0}, \"1502.0\": {\"frequency\": 1, \"value\": 1502.0}, \"2870.0\": {\"frequency\": 38, \"value\": 2870.0}, \"4920.0\": {\"frequency\": 3, \"value\": 4920.0}, \"828.0\": {\"frequency\": 1, \"value\": 828.0}, \"830.0\": {\"frequency\": 36, \"value\": 830.0}, \"2880.0\": {\"frequency\": 46, \"value\": 2880.0}, \"833.0\": {\"frequency\": 1, \"value\": 833.0}, \"4930.0\": {\"frequency\": 4, \"value\": 4930.0}, \"6980.0\": {\"frequency\": 1, \"value\": 6980.0}, \"2885.0\": {\"frequency\": 1, \"value\": 2885.0}, \"840.0\": {\"frequency\": 56, \"value\": 840.0}, \"2890.0\": {\"frequency\": 34, \"value\": 2890.0}, \"2891.0\": {\"frequency\": 1, \"value\": 2891.0}, \"4940.0\": {\"frequency\": 1, \"value\": 4940.0}, \"850.0\": {\"frequency\": 26, \"value\": 850.0}, \"2900.0\": {\"frequency\": 35, \"value\": 2900.0}, \"7000.0\": {\"frequency\": 1, \"value\": 7000.0}, \"2905.0\": {\"frequency\": 1, \"value\": 2905.0}, \"2906.0\": {\"frequency\": 1, \"value\": 2906.0}, \"860.0\": {\"frequency\": 57, \"value\": 860.0}, \"2910.0\": {\"frequency\": 57, \"value\": 2910.0}, \"4960.0\": {\"frequency\": 2, \"value\": 4960.0}, \"2192.0\": {\"frequency\": 1, \"value\": 2192.0}, \"1510.0\": {\"frequency\": 114, \"value\": 1510.0}, \"870.0\": {\"frequency\": 36, \"value\": 870.0}, \"2920.0\": {\"frequency\": 43, \"value\": 2920.0}, \"2876.0\": {\"frequency\": 2, \"value\": 2876.0}, \"4970.0\": {\"frequency\": 1, \"value\": 4970.0}, \"2927.0\": {\"frequency\": 2, \"value\": 2927.0}, \"880.0\": {\"frequency\": 54, \"value\": 880.0}, \"2930.0\": {\"frequency\": 37, \"value\": 2930.0}, \"4980.0\": {\"frequency\": 2, \"value\": 4980.0}, \"3030.0\": {\"frequency\": 45, \"value\": 3030.0}, \"890.0\": {\"frequency\": 33, \"value\": 890.0}, \"2940.0\": {\"frequency\": 34, \"value\": 2940.0}, \"2538.0\": {\"frequency\": 1, \"value\": 2538.0}, \"894.0\": {\"frequency\": 1, \"value\": 894.0}, \"900.0\": {\"frequency\": 53, \"value\": 900.0}, \"901.0\": {\"frequency\": 1, \"value\": 901.0}, \"2950.0\": {\"frequency\": 32, \"value\": 2950.0}, \"5000.0\": {\"frequency\": 4, \"value\": 5000.0}, \"7050.0\": {\"frequency\": 1, \"value\": 7050.0}, \"3223.0\": {\"frequency\": 2, \"value\": 3223.0}, \"910.0\": {\"frequency\": 60, \"value\": 910.0}, \"2960.0\": {\"frequency\": 37, \"value\": 2960.0}, \"2961.0\": {\"frequency\": 1, \"value\": 2961.0}, \"5010.0\": {\"frequency\": 3, \"value\": 5010.0}, \"2963.0\": {\"frequency\": 1, \"value\": 2963.0}, \"2542.0\": {\"frequency\": 1, \"value\": 2542.0}, \"920.0\": {\"frequency\": 51, \"value\": 920.0}, \"2970.0\": {\"frequency\": 29, \"value\": 2970.0}, \"5020.0\": {\"frequency\": 3, \"value\": 5020.0}, \"2544.0\": {\"frequency\": 1, \"value\": 2544.0}, \"930.0\": {\"frequency\": 43, \"value\": 930.0}, \"2979.0\": {\"frequency\": 1, \"value\": 2979.0}, \"2980.0\": {\"frequency\": 57, \"value\": 2980.0}, \"5030.0\": {\"frequency\": 1, \"value\": 5030.0}, \"7080.0\": {\"frequency\": 1, \"value\": 7080.0}, \"940.0\": {\"frequency\": 62, \"value\": 940.0}, \"1522.0\": {\"frequency\": 1, \"value\": 1522.0}, \"2990.0\": {\"frequency\": 48, \"value\": 2990.0}, \"5040.0\": {\"frequency\": 3, \"value\": 5040.0}, \"2993.0\": {\"frequency\": 1, \"value\": 2993.0}, \"950.0\": {\"frequency\": 46, \"value\": 950.0}, \"3000.0\": {\"frequency\": 40, \"value\": 3000.0}, \"3001.0\": {\"frequency\": 1, \"value\": 3001.0}, \"5050.0\": {\"frequency\": 4, \"value\": 5050.0}, \"7100.0\": {\"frequency\": 1, \"value\": 7100.0}, \"960.0\": {\"frequency\": 82, \"value\": 960.0}, \"3010.0\": {\"frequency\": 48, \"value\": 3010.0}, \"1867.0\": {\"frequency\": 1, \"value\": 1867.0}, \"5060.0\": {\"frequency\": 1, \"value\": 5060.0}, \"844.0\": {\"frequency\": 1, \"value\": 844.0}, \"970.0\": {\"frequency\": 49, \"value\": 970.0}, \"5067.0\": {\"frequency\": 1, \"value\": 5067.0}, \"3020.0\": {\"frequency\": 41, \"value\": 3020.0}, \"5070.0\": {\"frequency\": 1, \"value\": 5070.0}, \"7120.0\": {\"frequency\": 1, \"value\": 7120.0}, \"980.0\": {\"frequency\": 53, \"value\": 980.0}, \"982.0\": {\"frequency\": 1, \"value\": 982.0}, \"5080.0\": {\"frequency\": 1, \"value\": 5080.0}, \"988.0\": {\"frequency\": 1, \"value\": 988.0}, \"990.0\": {\"frequency\": 53, \"value\": 990.0}, \"3040.0\": {\"frequency\": 45, \"value\": 3040.0}, \"5090.0\": {\"frequency\": 2, \"value\": 5090.0}, \"3238.0\": {\"frequency\": 1, \"value\": 3238.0}, \"998.0\": {\"frequency\": 2, \"value\": 998.0}, \"1000.0\": {\"frequency\": 73, \"value\": 1000.0}, \"3050.0\": {\"frequency\": 25, \"value\": 3050.0}, \"3052.0\": {\"frequency\": 1, \"value\": 3052.0}, \"1008.0\": {\"frequency\": 1, \"value\": 1008.0}, \"1010.0\": {\"frequency\": 129, \"value\": 1010.0}, \"3060.0\": {\"frequency\": 34, \"value\": 3060.0}, \"5110.0\": {\"frequency\": 2, \"value\": 5110.0}, \"3064.0\": {\"frequency\": 1, \"value\": 3064.0}, \"1876.0\": {\"frequency\": 1, \"value\": 1876.0}, \"1020.0\": {\"frequency\": 73, \"value\": 1020.0}, \"3070.0\": {\"frequency\": 36, \"value\": 3070.0}, \"5120.0\": {\"frequency\": 2, \"value\": 5120.0}, \"1030.0\": {\"frequency\": 57, \"value\": 1030.0}, \"3080.0\": {\"frequency\": 36, \"value\": 3080.0}, \"3444.0\": {\"frequency\": 1, \"value\": 3444.0}, \"5130.0\": {\"frequency\": 1, \"value\": 5130.0}, \"3085.0\": {\"frequency\": 1, \"value\": 3085.0}, \"12050.0\": {\"frequency\": 1, \"value\": 12050.0}, \"3087.0\": {\"frequency\": 1, \"value\": 3087.0}, \"1040.0\": {\"frequency\": 78, \"value\": 1040.0}, \"3090.0\": {\"frequency\": 38, \"value\": 3090.0}, \"1048.0\": {\"frequency\": 1, \"value\": 1048.0}, \"1050.0\": {\"frequency\": 68, \"value\": 1050.0}, \"3100.0\": {\"frequency\": 34, \"value\": 3100.0}, \"5150.0\": {\"frequency\": 3, \"value\": 5150.0}, \"1060.0\": {\"frequency\": 94, \"value\": 1060.0}, \"1061.0\": {\"frequency\": 1, \"value\": 1061.0}, \"3110.0\": {\"frequency\": 35, \"value\": 3110.0}, \"5160.0\": {\"frequency\": 1, \"value\": 5160.0}, \"1068.0\": {\"frequency\": 3, \"value\": 1068.0}, \"1070.0\": {\"frequency\": 76, \"value\": 1070.0}, \"3120.0\": {\"frequency\": 24, \"value\": 3120.0}, \"2568.0\": {\"frequency\": 1, \"value\": 2568.0}, \"5170.0\": {\"frequency\": 1, \"value\": 5170.0}, \"7220.0\": {\"frequency\": 1, \"value\": 7220.0}, \"1078.0\": {\"frequency\": 1, \"value\": 1078.0}, \"1080.0\": {\"frequency\": 50, \"value\": 1080.0}, \"3130.0\": {\"frequency\": 35, \"value\": 3130.0}, \"5180.0\": {\"frequency\": 5, \"value\": 5180.0}, \"3133.0\": {\"frequency\": 1, \"value\": 3133.0}, \"3135.0\": {\"frequency\": 1, \"value\": 3135.0}, \"1088.0\": {\"frequency\": 2, \"value\": 1088.0}, \"1090.0\": {\"frequency\": 69, \"value\": 1090.0}, \"3140.0\": {\"frequency\": 32, \"value\": 3140.0}, \"5190.0\": {\"frequency\": 3, \"value\": 5190.0}, \"1095.0\": {\"frequency\": 1, \"value\": 1095.0}, \"1100.0\": {\"frequency\": 79, \"value\": 1100.0}, \"3150.0\": {\"frequency\": 36, \"value\": 3150.0}, \"1108.0\": {\"frequency\": 1, \"value\": 1108.0}, \"1110.0\": {\"frequency\": 48, \"value\": 1110.0}, \"3160.0\": {\"frequency\": 49, \"value\": 3160.0}, \"5210.0\": {\"frequency\": 1, \"value\": 5210.0}, \"1120.0\": {\"frequency\": 86, \"value\": 1120.0}, \"1552.0\": {\"frequency\": 2, \"value\": 1552.0}, \"3170.0\": {\"frequency\": 22, \"value\": 3170.0}, \"5220.0\": {\"frequency\": 2, \"value\": 5220.0}, \"1894.0\": {\"frequency\": 1, \"value\": 1894.0}, \"7270.0\": {\"frequency\": 1, \"value\": 7270.0}, \"3176.0\": {\"frequency\": 1, \"value\": 3176.0}, \"1129.0\": {\"frequency\": 1, \"value\": 1129.0}, \"1130.0\": {\"frequency\": 56, \"value\": 1130.0}, \"1131.0\": {\"frequency\": 1, \"value\": 1131.0}, \"3180.0\": {\"frequency\": 41, \"value\": 3180.0}, \"3181.0\": {\"frequency\": 1, \"value\": 3181.0}, \"5230.0\": {\"frequency\": 3, \"value\": 5230.0}, \"1140.0\": {\"frequency\": 100, \"value\": 1140.0}, \"3190.0\": {\"frequency\": 47, \"value\": 3190.0}, \"5240.0\": {\"frequency\": 1, \"value\": 5240.0}, \"2708.0\": {\"frequency\": 1, \"value\": 2708.0}, \"1150.0\": {\"frequency\": 98, \"value\": 1150.0}, \"3200.0\": {\"frequency\": 36, \"value\": 3200.0}, \"5250.0\": {\"frequency\": 1, \"value\": 5250.0}, \"3206.0\": {\"frequency\": 1, \"value\": 3206.0}, \"1159.0\": {\"frequency\": 1, \"value\": 1159.0}, \"1160.0\": {\"frequency\": 91, \"value\": 1160.0}, \"3210.0\": {\"frequency\": 18, \"value\": 3210.0}, \"2242.0\": {\"frequency\": 5, \"value\": 2242.0}, \"3216.0\": {\"frequency\": 1, \"value\": 3216.0}, \"3217.0\": {\"frequency\": 1, \"value\": 3217.0}, \"1170.0\": {\"frequency\": 78, \"value\": 1170.0}, \"3220.0\": {\"frequency\": 40, \"value\": 3220.0}, \"5270.0\": {\"frequency\": 3, \"value\": 5270.0}, \"1175.0\": {\"frequency\": 2, \"value\": 1175.0}, \"7320.0\": {\"frequency\": 1, \"value\": 7320.0}, \"1180.0\": {\"frequency\": 89, \"value\": 1180.0}, \"3028.0\": {\"frequency\": 1, \"value\": 3028.0}, \"3230.0\": {\"frequency\": 36, \"value\": 3230.0}, \"5280.0\": {\"frequency\": 1, \"value\": 5280.0}, \"3236.0\": {\"frequency\": 1, \"value\": 3236.0}, \"1190.0\": {\"frequency\": 67, \"value\": 1190.0}, \"3240.0\": {\"frequency\": 31, \"value\": 3240.0}, \"2588.0\": {\"frequency\": 2, \"value\": 2588.0}, \"5290.0\": {\"frequency\": 2, \"value\": 5290.0}, \"1200.0\": {\"frequency\": 118, \"value\": 1200.0}, \"3250.0\": {\"frequency\": 28, \"value\": 3250.0}, \"5300.0\": {\"frequency\": 2, \"value\": 5300.0}, \"7350.0\": {\"frequency\": 1, \"value\": 7350.0}, \"5305.0\": {\"frequency\": 1, \"value\": 5305.0}, \"1210.0\": {\"frequency\": 88, \"value\": 1210.0}, \"3260.0\": {\"frequency\": 20, \"value\": 3260.0}, \"5310.0\": {\"frequency\": 4, \"value\": 5310.0}, \"3266.0\": {\"frequency\": 2, \"value\": 3266.0}, \"1220.0\": {\"frequency\": 92, \"value\": 1220.0}, \"3270.0\": {\"frequency\": 23, \"value\": 3270.0}, \"5320.0\": {\"frequency\": 1, \"value\": 5320.0}, \"3273.0\": {\"frequency\": 1, \"value\": 3273.0}, \"3274.0\": {\"frequency\": 1, \"value\": 3274.0}, \"3276.0\": {\"frequency\": 1, \"value\": 3276.0}, \"1230.0\": {\"frequency\": 82, \"value\": 1230.0}, \"3280.0\": {\"frequency\": 29, \"value\": 3280.0}, \"1233.0\": {\"frequency\": 1, \"value\": 1233.0}, \"5330.0\": {\"frequency\": 2, \"value\": 5330.0}, \"3284.0\": {\"frequency\": 1, \"value\": 3284.0}, \"1239.0\": {\"frequency\": 1, \"value\": 1239.0}, \"1240.0\": {\"frequency\": 112, \"value\": 1240.0}, \"1572.0\": {\"frequency\": 1, \"value\": 1572.0}, \"3290.0\": {\"frequency\": 29, \"value\": 3290.0}, \"5340.0\": {\"frequency\": 1, \"value\": 5340.0}, \"7390.0\": {\"frequency\": 1, \"value\": 7390.0}, \"1232.0\": {\"frequency\": 1, \"value\": 1232.0}, \"1250.0\": {\"frequency\": 120, \"value\": 1250.0}, \"13540.0\": {\"frequency\": 1, \"value\": 13540.0}, \"2598.0\": {\"frequency\": 1, \"value\": 2598.0}, \"5350.0\": {\"frequency\": 2, \"value\": 5350.0}, \"1255.0\": {\"frequency\": 2, \"value\": 1255.0}, \"1256.0\": {\"frequency\": 1, \"value\": 1256.0}, \"3305.0\": {\"frequency\": 1, \"value\": 3305.0}, \"1260.0\": {\"frequency\": 113, \"value\": 1260.0}, \"3310.0\": {\"frequency\": 23, \"value\": 3310.0}, \"893.0\": {\"frequency\": 1, \"value\": 893.0}, \"5360.0\": {\"frequency\": 1, \"value\": 5360.0}, \"3316.0\": {\"frequency\": 1, \"value\": 3316.0}, \"1270.0\": {\"frequency\": 102, \"value\": 1270.0}, \"3320.0\": {\"frequency\": 36, \"value\": 3320.0}, \"5370.0\": {\"frequency\": 5, \"value\": 5370.0}, \"1275.0\": {\"frequency\": 1, \"value\": 1275.0}, \"7420.0\": {\"frequency\": 1, \"value\": 7420.0}, \"1278.0\": {\"frequency\": 1, \"value\": 1278.0}, \"1280.0\": {\"frequency\": 100, \"value\": 1280.0}, \"3330.0\": {\"frequency\": 21, \"value\": 3330.0}, \"1290.0\": {\"frequency\": 74, \"value\": 1290.0}, \"3340.0\": {\"frequency\": 22, \"value\": 3340.0}, \"1295.0\": {\"frequency\": 1, \"value\": 1295.0}, \"7440.0\": {\"frequency\": 1, \"value\": 7440.0}, \"384.0\": {\"frequency\": 1, \"value\": 384.0}, \"1300.0\": {\"frequency\": 138, \"value\": 1300.0}, \"3350.0\": {\"frequency\": 22, \"value\": 3350.0}, \"5400.0\": {\"frequency\": 1, \"value\": 5400.0}, \"5403.0\": {\"frequency\": 1, \"value\": 5403.0}, \"1310.0\": {\"frequency\": 81, \"value\": 1310.0}, \"3360.0\": {\"frequency\": 22, \"value\": 3360.0}, \"3361.0\": {\"frequency\": 2, \"value\": 3361.0}, \"5410.0\": {\"frequency\": 1, \"value\": 5410.0}, \"1315.0\": {\"frequency\": 1, \"value\": 1315.0}, \"902.0\": {\"frequency\": 1, \"value\": 902.0}, \"3366.0\": {\"frequency\": 1, \"value\": 3366.0}, \"1320.0\": {\"frequency\": 122, \"value\": 1320.0}, \"3370.0\": {\"frequency\": 39, \"value\": 3370.0}, \"5420.0\": {\"frequency\": 1, \"value\": 5420.0}, \"7730.0\": {\"frequency\": 1, \"value\": 7730.0}, \"1330.0\": {\"frequency\": 89, \"value\": 1330.0}, \"3380.0\": {\"frequency\": 17, \"value\": 3380.0}, \"1333.0\": {\"frequency\": 1, \"value\": 1333.0}, \"5430.0\": {\"frequency\": 2, \"value\": 5430.0}, \"7480.0\": {\"frequency\": 1, \"value\": 7480.0}, \"2612.0\": {\"frequency\": 1, \"value\": 2612.0}, \"1340.0\": {\"frequency\": 113, \"value\": 1340.0}, \"3390.0\": {\"frequency\": 16, \"value\": 3390.0}, \"5440.0\": {\"frequency\": 2, \"value\": 5440.0}, \"1347.0\": {\"frequency\": 1, \"value\": 1347.0}, \"1350.0\": {\"frequency\": 95, \"value\": 1350.0}, \"3400.0\": {\"frequency\": 30, \"value\": 3400.0}, \"3402.0\": {\"frequency\": 1, \"value\": 3402.0}, \"1358.0\": {\"frequency\": 3, \"value\": 1358.0}, \"5860.0\": {\"frequency\": 3, \"value\": 5860.0}, \"1360.0\": {\"frequency\": 96, \"value\": 1360.0}, \"3410.0\": {\"frequency\": 24, \"value\": 3410.0}, \"5461.0\": {\"frequency\": 1, \"value\": 5461.0}, \"3300.0\": {\"frequency\": 24, \"value\": 3300.0}, \"1370.0\": {\"frequency\": 118, \"value\": 1370.0}, \"3420.0\": {\"frequency\": 32, \"value\": 3420.0}, \"5470.0\": {\"frequency\": 2, \"value\": 5470.0}, \"1380.0\": {\"frequency\": 85, \"value\": 1380.0}, \"1381.0\": {\"frequency\": 1, \"value\": 1381.0}, \"3430.0\": {\"frequency\": 20, \"value\": 3430.0}, \"1384.0\": {\"frequency\": 3, \"value\": 1384.0}, \"1390.0\": {\"frequency\": 89, \"value\": 1390.0}, \"3440.0\": {\"frequency\": 27, \"value\": 3440.0}, \"7400.0\": {\"frequency\": 1, \"value\": 7400.0}, \"5490.0\": {\"frequency\": 2, \"value\": 5490.0}, \"1396.0\": {\"frequency\": 1, \"value\": 1396.0}, \"1397.0\": {\"frequency\": 1, \"value\": 1397.0}, \"1400.0\": {\"frequency\": 135, \"value\": 1400.0}, \"3450.0\": {\"frequency\": 24, \"value\": 3450.0}, \"1405.0\": {\"frequency\": 1, \"value\": 1405.0}, \"1408.0\": {\"frequency\": 1, \"value\": 1408.0}, \"1410.0\": {\"frequency\": 109, \"value\": 1410.0}, \"3460.0\": {\"frequency\": 14, \"value\": 3460.0}, \"1413.0\": {\"frequency\": 2, \"value\": 1413.0}, \"3078.0\": {\"frequency\": 1, \"value\": 3078.0}, \"1420.0\": {\"frequency\": 92, \"value\": 1420.0}, \"1422.0\": {\"frequency\": 1, \"value\": 1422.0}, \"5520.0\": {\"frequency\": 1, \"value\": 5520.0}, \"1425.0\": {\"frequency\": 1, \"value\": 1425.0}, \"4480.0\": {\"frequency\": 3, \"value\": 4480.0}, \"1427.0\": {\"frequency\": 1, \"value\": 1427.0}, \"1430.0\": {\"frequency\": 116, \"value\": 1430.0}, \"3480.0\": {\"frequency\": 21, \"value\": 3480.0}, \"2628.0\": {\"frequency\": 1, \"value\": 2628.0}, \"5530.0\": {\"frequency\": 1, \"value\": 5530.0}, \"1435.0\": {\"frequency\": 1, \"value\": 1435.0}, \"1440.0\": {\"frequency\": 133, \"value\": 1440.0}, \"1264.0\": {\"frequency\": 1, \"value\": 1264.0}, \"3490.0\": {\"frequency\": 26, \"value\": 3490.0}, \"5540.0\": {\"frequency\": 2, \"value\": 5540.0}, \"1445.0\": {\"frequency\": 5, \"value\": 1445.0}, \"9640.0\": {\"frequency\": 1, \"value\": 9640.0}, \"5545.0\": {\"frequency\": 1, \"value\": 5545.0}, \"1450.0\": {\"frequency\": 91, \"value\": 1450.0}, \"1451.0\": {\"frequency\": 1, \"value\": 1451.0}, \"3500.0\": {\"frequency\": 29, \"value\": 3500.0}, \"1453.0\": {\"frequency\": 1, \"value\": 1453.0}, \"5550.0\": {\"frequency\": 4, \"value\": 5550.0}, \"3504.0\": {\"frequency\": 1, \"value\": 3504.0}, \"4680.0\": {\"frequency\": 2, \"value\": 4680.0}, \"1458.0\": {\"frequency\": 1, \"value\": 1458.0}, \"1460.0\": {\"frequency\": 116, \"value\": 1460.0}, \"3510.0\": {\"frequency\": 21, \"value\": 3510.0}, \"1463.0\": {\"frequency\": 1, \"value\": 1463.0}, \"1465.0\": {\"frequency\": 1, \"value\": 1465.0}, \"1470.0\": {\"frequency\": 112, \"value\": 1470.0}, \"3520.0\": {\"frequency\": 21, \"value\": 3520.0}, \"1952.0\": {\"frequency\": 1, \"value\": 1952.0}, \"5570.0\": {\"frequency\": 1, \"value\": 5570.0}, \"7620.0\": {\"frequency\": 1, \"value\": 7620.0}, \"3526.0\": {\"frequency\": 1, \"value\": 3526.0}, \"3527.0\": {\"frequency\": 1, \"value\": 3527.0}, \"1480.0\": {\"frequency\": 125, \"value\": 1480.0}, \"1481.0\": {\"frequency\": 2, \"value\": 1481.0}, \"3530.0\": {\"frequency\": 21, \"value\": 3530.0}, \"1484.0\": {\"frequency\": 1, \"value\": 1484.0}, \"1954.0\": {\"frequency\": 2, \"value\": 1954.0}, \"5584.0\": {\"frequency\": 1, \"value\": 5584.0}, \"1489.0\": {\"frequency\": 3, \"value\": 1489.0}, \"1490.0\": {\"frequency\": 99, \"value\": 1490.0}, \"3540.0\": {\"frequency\": 14, \"value\": 3540.0}, \"1494.0\": {\"frequency\": 2, \"value\": 1494.0}, \"1495.0\": {\"frequency\": 1, \"value\": 1495.0}, \"1496.0\": {\"frequency\": 1, \"value\": 1496.0}, \"3545.0\": {\"frequency\": 1, \"value\": 3545.0}, \"1500.0\": {\"frequency\": 112, \"value\": 1500.0}, \"3550.0\": {\"frequency\": 20, \"value\": 3550.0}, \"5600.0\": {\"frequency\": 1, \"value\": 5600.0}, \"3555.0\": {\"frequency\": 1, \"value\": 3555.0}, \"1509.0\": {\"frequency\": 3, \"value\": 1509.0}, \"1414.0\": {\"frequency\": 1, \"value\": 1414.0}, \"3560.0\": {\"frequency\": 28, \"value\": 3560.0}, \"5610.0\": {\"frequency\": 2, \"value\": 5610.0}, \"1516.0\": {\"frequency\": 1, \"value\": 1516.0}, \"1520.0\": {\"frequency\": 102, \"value\": 1520.0}, \"3569.0\": {\"frequency\": 1, \"value\": 3569.0}, \"3570.0\": {\"frequency\": 16, \"value\": 3570.0}, \"5620.0\": {\"frequency\": 2, \"value\": 5620.0}, \"1528.0\": {\"frequency\": 1, \"value\": 1528.0}, \"1530.0\": {\"frequency\": 109, \"value\": 1530.0}, \"3580.0\": {\"frequency\": 14, \"value\": 3580.0}, \"5635.0\": {\"frequency\": 1, \"value\": 5635.0}, \"1540.0\": {\"frequency\": 124, \"value\": 1540.0}, \"3590.0\": {\"frequency\": 7, \"value\": 3590.0}, \"5640.0\": {\"frequency\": 1, \"value\": 5640.0}, \"3595.0\": {\"frequency\": 1, \"value\": 3595.0}, \"3596.0\": {\"frequency\": 1, \"value\": 3596.0}, \"3597.0\": {\"frequency\": 1, \"value\": 3597.0}, \"1550.0\": {\"frequency\": 96, \"value\": 1550.0}, \"3600.0\": {\"frequency\": 25, \"value\": 3600.0}, \"1553.0\": {\"frequency\": 2, \"value\": 1553.0}, \"1556.0\": {\"frequency\": 1, \"value\": 1556.0}, \"1560.0\": {\"frequency\": 124, \"value\": 1560.0}, \"3610.0\": {\"frequency\": 19, \"value\": 3610.0}, \"5660.0\": {\"frequency\": 1, \"value\": 5660.0}, \"1626.0\": {\"frequency\": 1, \"value\": 1626.0}, \"7710.0\": {\"frequency\": 1, \"value\": 7710.0}, \"1570.0\": {\"frequency\": 100, \"value\": 1570.0}, \"1571.0\": {\"frequency\": 1, \"value\": 1571.0}, \"3620.0\": {\"frequency\": 17, \"value\": 3620.0}, \"5670.0\": {\"frequency\": 1, \"value\": 5670.0}, \"1578.0\": {\"frequency\": 1, \"value\": 1578.0}, \"1580.0\": {\"frequency\": 119, \"value\": 1580.0}, \"3630.0\": {\"frequency\": 13, \"value\": 3630.0}, \"1584.0\": {\"frequency\": 3, \"value\": 1584.0}, \"530.0\": {\"frequency\": 3, \"value\": 530.0}, \"1212.0\": {\"frequency\": 1, \"value\": 1212.0}, \"1590.0\": {\"frequency\": 104, \"value\": 1590.0}, \"2313.0\": {\"frequency\": 1, \"value\": 2313.0}, \"3640.0\": {\"frequency\": 13, \"value\": 3640.0}, \"1594.0\": {\"frequency\": 1, \"value\": 1594.0}, \"1600.0\": {\"frequency\": 109, \"value\": 1600.0}, \"1601.0\": {\"frequency\": 1, \"value\": 1601.0}, \"3650.0\": {\"frequency\": 19, \"value\": 3650.0}, \"5700.0\": {\"frequency\": 1, \"value\": 5700.0}, \"1606.0\": {\"frequency\": 1, \"value\": 1606.0}, \"3655.0\": {\"frequency\": 1, \"value\": 3655.0}, \"1608.0\": {\"frequency\": 3, \"value\": 1608.0}, \"1610.0\": {\"frequency\": 112, \"value\": 1610.0}, \"1611.0\": {\"frequency\": 1, \"value\": 1611.0}, \"3660.0\": {\"frequency\": 10, \"value\": 3660.0}, \"1613.0\": {\"frequency\": 1, \"value\": 1613.0}, \"5710.0\": {\"frequency\": 1, \"value\": 5710.0}, \"1615.0\": {\"frequency\": 1, \"value\": 1615.0}, \"1620.0\": {\"frequency\": 99, \"value\": 1620.0}, \"2452.0\": {\"frequency\": 1, \"value\": 2452.0}, \"3670.0\": {\"frequency\": 15, \"value\": 3670.0}, \"3672.0\": {\"frequency\": 1, \"value\": 3672.0}, \"3674.0\": {\"frequency\": 1, \"value\": 3674.0}, \"1628.0\": {\"frequency\": 1, \"value\": 1628.0}, \"3002.0\": {\"frequency\": 1, \"value\": 3002.0}, \"1630.0\": {\"frequency\": 94, \"value\": 1630.0}, \"3680.0\": {\"frequency\": 21, \"value\": 3680.0}, \"1296.0\": {\"frequency\": 1, \"value\": 1296.0}, \"5730.0\": {\"frequency\": 1, \"value\": 5730.0}, \"1852.0\": {\"frequency\": 2, \"value\": 1852.0}, \"5510.0\": {\"frequency\": 1, \"value\": 5510.0}, \"1639.0\": {\"frequency\": 1, \"value\": 1639.0}, \"1640.0\": {\"frequency\": 112, \"value\": 1640.0}, \"3004.0\": {\"frequency\": 1, \"value\": 3004.0}, \"3690.0\": {\"frequency\": 12, \"value\": 3690.0}, \"1643.0\": {\"frequency\": 1, \"value\": 1643.0}, \"5740.0\": {\"frequency\": 1, \"value\": 5740.0}, \"1646.0\": {\"frequency\": 3, \"value\": 1646.0}, \"3695.0\": {\"frequency\": 1, \"value\": 3695.0}, \"1650.0\": {\"frequency\": 117, \"value\": 1650.0}, \"1651.0\": {\"frequency\": 2, \"value\": 1651.0}, \"3700.0\": {\"frequency\": 18, \"value\": 3700.0}, \"1982.0\": {\"frequency\": 1, \"value\": 1982.0}, \"1654.0\": {\"frequency\": 2, \"value\": 1654.0}, \"1656.0\": {\"frequency\": 1, \"value\": 1656.0}, \"1657.0\": {\"frequency\": 1, \"value\": 1657.0}, \"1658.0\": {\"frequency\": 1, \"value\": 1658.0}, \"1252.0\": {\"frequency\": 1, \"value\": 1252.0}, \"1660.0\": {\"frequency\": 129, \"value\": 1660.0}, \"3710.0\": {\"frequency\": 10, \"value\": 3710.0}, \"5760.0\": {\"frequency\": 1, \"value\": 5760.0}, \"3691.0\": {\"frequency\": 1, \"value\": 3691.0}, \"3056.0\": {\"frequency\": 1, \"value\": 3056.0}, \"1670.0\": {\"frequency\": 109, \"value\": 1670.0}, \"3720.0\": {\"frequency\": 23, \"value\": 3720.0}, \"5770.0\": {\"frequency\": 3, \"value\": 5770.0}, \"1676.0\": {\"frequency\": 1, \"value\": 1676.0}, \"962.0\": {\"frequency\": 1, \"value\": 962.0}, \"5774.0\": {\"frequency\": 1, \"value\": 5774.0}, \"1679.0\": {\"frequency\": 1, \"value\": 1679.0}, \"1680.0\": {\"frequency\": 116, \"value\": 1680.0}, \"3730.0\": {\"frequency\": 16, \"value\": 3730.0}, \"5780.0\": {\"frequency\": 2, \"value\": 5780.0}, \"1689.0\": {\"frequency\": 1, \"value\": 1689.0}, \"1690.0\": {\"frequency\": 110, \"value\": 1690.0}, \"3740.0\": {\"frequency\": 17, \"value\": 3740.0}, \"5790.0\": {\"frequency\": 2, \"value\": 5790.0}, \"2672.0\": {\"frequency\": 1, \"value\": 2672.0}, \"9890.0\": {\"frequency\": 1, \"value\": 9890.0}, \"1700.0\": {\"frequency\": 108, \"value\": 1700.0}, \"3750.0\": {\"frequency\": 10, \"value\": 3750.0}, \"3753.0\": {\"frequency\": 1, \"value\": 3753.0}, \"7850.0\": {\"frequency\": 1, \"value\": 7850.0}, \"1710.0\": {\"frequency\": 93, \"value\": 1710.0}, \"3760.0\": {\"frequency\": 18, \"value\": 3760.0}, \"1992.0\": {\"frequency\": 1, \"value\": 1992.0}, \"1714.0\": {\"frequency\": 3, \"value\": 1714.0}, \"1715.0\": {\"frequency\": 1, \"value\": 1715.0}, \"1720.0\": {\"frequency\": 125, \"value\": 1720.0}, \"3770.0\": {\"frequency\": 13, \"value\": 3770.0}, \"5820.0\": {\"frequency\": 1, \"value\": 5820.0}, \"1726.0\": {\"frequency\": 1, \"value\": 1726.0}, \"1728.0\": {\"frequency\": 1, \"value\": 1728.0}, \"1730.0\": {\"frequency\": 100, \"value\": 1730.0}, \"3780.0\": {\"frequency\": 14, \"value\": 3780.0}, \"2678.0\": {\"frequency\": 1, \"value\": 2678.0}, \"5830.0\": {\"frequency\": 1, \"value\": 5830.0}, \"1313.0\": {\"frequency\": 1, \"value\": 1313.0}, \"7880.0\": {\"frequency\": 1, \"value\": 7880.0}, \"3786.0\": {\"frequency\": 1, \"value\": 3786.0}, \"1740.0\": {\"frequency\": 115, \"value\": 1740.0}, \"290.0\": {\"frequency\": 1, \"value\": 290.0}, \"3790.0\": {\"frequency\": 9, \"value\": 3790.0}, \"5840.0\": {\"frequency\": 2, \"value\": 5840.0}, \"1747.0\": {\"frequency\": 1, \"value\": 1747.0}, \"5844.0\": {\"frequency\": 1, \"value\": 5844.0}, \"1750.0\": {\"frequency\": 83, \"value\": 1750.0}, \"3800.0\": {\"frequency\": 10, \"value\": 3800.0}, \"5850.0\": {\"frequency\": 2, \"value\": 5850.0}, \"1757.0\": {\"frequency\": 1, \"value\": 1757.0}, \"1760.0\": {\"frequency\": 104, \"value\": 1760.0}, \"3810.0\": {\"frequency\": 13, \"value\": 3810.0}, \"1763.0\": {\"frequency\": 1, \"value\": 1763.0}, \"1764.0\": {\"frequency\": 1, \"value\": 1764.0}, \"1765.0\": {\"frequency\": 1, \"value\": 1765.0}, \"1767.0\": {\"frequency\": 1, \"value\": 1767.0}, \"1769.0\": {\"frequency\": 2, \"value\": 1769.0}, \"1770.0\": {\"frequency\": 98, \"value\": 1770.0}, \"3820.0\": {\"frequency\": 13, \"value\": 3820.0}, \"3281.0\": {\"frequency\": 1, \"value\": 3281.0}, \"1776.0\": {\"frequency\": 1, \"value\": 1776.0}, \"1778.0\": {\"frequency\": 1, \"value\": 1778.0}, \"1780.0\": {\"frequency\": 117, \"value\": 1780.0}, \"3830.0\": {\"frequency\": 20, \"value\": 3830.0}, \"3831.0\": {\"frequency\": 1, \"value\": 3831.0}, \"1785.0\": {\"frequency\": 2, \"value\": 1785.0}, \"2835.0\": {\"frequency\": 1, \"value\": 2835.0}, \"1788.0\": {\"frequency\": 1, \"value\": 1788.0}, \"1322.0\": {\"frequency\": 2, \"value\": 1322.0}, \"1790.0\": {\"frequency\": 110, \"value\": 1790.0}, \"3840.0\": {\"frequency\": 14, \"value\": 3840.0}, \"1794.0\": {\"frequency\": 1, \"value\": 1794.0}, \"3845.0\": {\"frequency\": 1, \"value\": 3845.0}, \"1798.0\": {\"frequency\": 1, \"value\": 1798.0}, \"3847.0\": {\"frequency\": 1, \"value\": 3847.0}, \"1800.0\": {\"frequency\": 129, \"value\": 1800.0}, \"3850.0\": {\"frequency\": 8, \"value\": 3850.0}, \"1805.0\": {\"frequency\": 1, \"value\": 1805.0}, \"1808.0\": {\"frequency\": 1, \"value\": 1808.0}, \"1810.0\": {\"frequency\": 98, \"value\": 1810.0}, \"1811.0\": {\"frequency\": 1, \"value\": 1811.0}, \"3860.0\": {\"frequency\": 15, \"value\": 3860.0}, \"1814.0\": {\"frequency\": 1, \"value\": 1814.0}, \"2692.0\": {\"frequency\": 2, \"value\": 2692.0}, \"1820.0\": {\"frequency\": 128, \"value\": 1820.0}, \"3870.0\": {\"frequency\": 12, \"value\": 3870.0}, \"1824.0\": {\"frequency\": 1, \"value\": 1824.0}, \"1830.0\": {\"frequency\": 114, \"value\": 1830.0}, \"3880.0\": {\"frequency\": 13, \"value\": 3880.0}, \"1833.0\": {\"frequency\": 1, \"value\": 1833.0}, \"5930.0\": {\"frequency\": 1, \"value\": 5930.0}, \"2658.0\": {\"frequency\": 1, \"value\": 2658.0}, \"1840.0\": {\"frequency\": 101, \"value\": 1840.0}, \"3890.0\": {\"frequency\": 14, \"value\": 3890.0}, \"5940.0\": {\"frequency\": 1, \"value\": 5940.0}, \"1845.0\": {\"frequency\": 1, \"value\": 1845.0}, \"1847.0\": {\"frequency\": 2, \"value\": 1847.0}, \"10040.0\": {\"frequency\": 1, \"value\": 10040.0}, \"1850.0\": {\"frequency\": 100, \"value\": 1850.0}, \"3900.0\": {\"frequency\": 10, \"value\": 3900.0}, \"3902.0\": {\"frequency\": 1, \"value\": 3902.0}, \"8000.0\": {\"frequency\": 1, \"value\": 8000.0}, \"3906.0\": {\"frequency\": 1, \"value\": 3906.0}, \"1860.0\": {\"frequency\": 91, \"value\": 1860.0}, \"1861.0\": {\"frequency\": 1, \"value\": 1861.0}, \"3910.0\": {\"frequency\": 13, \"value\": 3910.0}, \"1864.0\": {\"frequency\": 1, \"value\": 1864.0}, \"8010.0\": {\"frequency\": 1, \"value\": 8010.0}, \"3915.0\": {\"frequency\": 1, \"value\": 3915.0}, \"1870.0\": {\"frequency\": 96, \"value\": 1870.0}, \"1677.0\": {\"frequency\": 2, \"value\": 1677.0}, \"3920.0\": {\"frequency\": 17, \"value\": 3920.0}, \"6110.0\": {\"frequency\": 1, \"value\": 6110.0}, \"8020.0\": {\"frequency\": 1, \"value\": 8020.0}, \"1678.0\": {\"frequency\": 1, \"value\": 1678.0}, \"1880.0\": {\"frequency\": 90, \"value\": 1880.0}, \"3930.0\": {\"frequency\": 11, \"value\": 3930.0}, \"3931.0\": {\"frequency\": 1, \"value\": 3931.0}, \"5450.0\": {\"frequency\": 2, \"value\": 5450.0}, \"3045.0\": {\"frequency\": 1, \"value\": 3045.0}, \"1889.0\": {\"frequency\": 1, \"value\": 1889.0}, \"1890.0\": {\"frequency\": 98, \"value\": 1890.0}, \"3940.0\": {\"frequency\": 8, \"value\": 3940.0}, \"5990.0\": {\"frequency\": 2, \"value\": 5990.0}, \"1899.0\": {\"frequency\": 1, \"value\": 1899.0}, \"1900.0\": {\"frequency\": 117, \"value\": 1900.0}, \"3950.0\": {\"frequency\": 13, \"value\": 3950.0}, \"1904.0\": {\"frequency\": 1, \"value\": 1904.0}, \"2382.0\": {\"frequency\": 1, \"value\": 2382.0}, \"1909.0\": {\"frequency\": 1, \"value\": 1909.0}, \"1910.0\": {\"frequency\": 81, \"value\": 1910.0}, \"4073.0\": {\"frequency\": 1, \"value\": 4073.0}, \"1912.0\": {\"frequency\": 1, \"value\": 1912.0}, \"3732.0\": {\"frequency\": 1, \"value\": 3732.0}, \"1914.0\": {\"frequency\": 2, \"value\": 1914.0}, \"1920.0\": {\"frequency\": 94, \"value\": 1920.0}, \"1921.0\": {\"frequency\": 1, \"value\": 1921.0}, \"3970.0\": {\"frequency\": 8, \"value\": 3970.0}, \"5100.0\": {\"frequency\": 1, \"value\": 5100.0}, \"1930.0\": {\"frequency\": 88, \"value\": 1930.0}, \"3980.0\": {\"frequency\": 6, \"value\": 3980.0}, \"6030.0\": {\"frequency\": 1, \"value\": 6030.0}, \"1936.0\": {\"frequency\": 2, \"value\": 1936.0}, \"3065.0\": {\"frequency\": 1, \"value\": 3065.0}, \"1940.0\": {\"frequency\": 101, \"value\": 1940.0}, \"3990.0\": {\"frequency\": 16, \"value\": 3990.0}, \"6040.0\": {\"frequency\": 1, \"value\": 6040.0}, \"1946.0\": {\"frequency\": 1, \"value\": 1946.0}, \"6810.0\": {\"frequency\": 1, \"value\": 6810.0}, \"1950.0\": {\"frequency\": 92, \"value\": 1950.0}, \"4000.0\": {\"frequency\": 7, \"value\": 4000.0}, \"9200.0\": {\"frequency\": 1, \"value\": 9200.0}, \"6050.0\": {\"frequency\": 2, \"value\": 6050.0}, \"6055.0\": {\"frequency\": 1, \"value\": 6055.0}, \"1960.0\": {\"frequency\": 110, \"value\": 1960.0}, \"1961.0\": {\"frequency\": 1, \"value\": 1961.0}, \"4010.0\": {\"frequency\": 12, \"value\": 4010.0}, \"1964.0\": {\"frequency\": 1, \"value\": 1964.0}, \"1352.0\": {\"frequency\": 1, \"value\": 1352.0}, \"1970.0\": {\"frequency\": 84, \"value\": 1970.0}, \"4020.0\": {\"frequency\": 9, \"value\": 4020.0}, \"2718.0\": {\"frequency\": 1, \"value\": 2718.0}, \"6070.0\": {\"frequency\": 2, \"value\": 6070.0}, \"1975.0\": {\"frequency\": 1, \"value\": 1975.0}, \"1979.0\": {\"frequency\": 1, \"value\": 1979.0}, \"1980.0\": {\"frequency\": 105, \"value\": 1980.0}, \"1981.0\": {\"frequency\": 2, \"value\": 1981.0}, \"4030.0\": {\"frequency\": 11, \"value\": 4030.0}, \"1983.0\": {\"frequency\": 1, \"value\": 1983.0}, \"1984.0\": {\"frequency\": 3, \"value\": 1984.0}, \"1986.0\": {\"frequency\": 1, \"value\": 1986.0}, \"1987.0\": {\"frequency\": 1, \"value\": 1987.0}, \"6085.0\": {\"frequency\": 1, \"value\": 6085.0}, \"1990.0\": {\"frequency\": 85, \"value\": 1990.0}, \"4040.0\": {\"frequency\": 14, \"value\": 4040.0}, \"1995.0\": {\"frequency\": 4, \"value\": 1995.0}, \"1996.0\": {\"frequency\": 1, \"value\": 1996.0}, \"5960.0\": {\"frequency\": 2, \"value\": 5960.0}, \"2000.0\": {\"frequency\": 103, \"value\": 2000.0}, \"4050.0\": {\"frequency\": 8, \"value\": 4050.0}, \"2005.0\": {\"frequency\": 1, \"value\": 2005.0}, \"2007.0\": {\"frequency\": 1, \"value\": 2007.0}, \"2008.0\": {\"frequency\": 1, \"value\": 2008.0}, \"2009.0\": {\"frequency\": 2, \"value\": 2009.0}, \"2010.0\": {\"frequency\": 77, \"value\": 2010.0}, \"4060.0\": {\"frequency\": 13, \"value\": 4060.0}, \"2014.0\": {\"frequency\": 1, \"value\": 2014.0}, \"2015.0\": {\"frequency\": 1, \"value\": 2015.0}, \"4065.0\": {\"frequency\": 1, \"value\": 4065.0}, \"2019.0\": {\"frequency\": 1, \"value\": 2019.0}, \"2020.0\": {\"frequency\": 104, \"value\": 2020.0}, \"4070.0\": {\"frequency\": 10, \"value\": 4070.0}, \"5720.0\": {\"frequency\": 1, \"value\": 5720.0}, \"2025.0\": {\"frequency\": 1, \"value\": 2025.0}, \"2026.0\": {\"frequency\": 1, \"value\": 2026.0}, \"2029.0\": {\"frequency\": 1, \"value\": 2029.0}, \"2030.0\": {\"frequency\": 78, \"value\": 2030.0}, \"2031.0\": {\"frequency\": 1, \"value\": 2031.0}, \"4080.0\": {\"frequency\": 7, \"value\": 4080.0}, \"2034.0\": {\"frequency\": 1, \"value\": 2034.0}, \"4083.0\": {\"frequency\": 1, \"value\": 4083.0}, \"2038.0\": {\"frequency\": 1, \"value\": 2038.0}, \"2040.0\": {\"frequency\": 104, \"value\": 2040.0}, \"4090.0\": {\"frequency\": 8, \"value\": 4090.0}, \"2044.0\": {\"frequency\": 1, \"value\": 2044.0}, \"1365.0\": {\"frequency\": 1, \"value\": 1365.0}}, \"mean\": 2079.8997362698346}, \"bedrooms\": {\"std\": 0.9300403146391119, \"complete\": true, \"min\": 0.0, \"max\": 33.0, \"quantile\": [0.0, 1.0, 2.0, 2.0, 2.0, 2.0, 2.0, 2.0, 2.0, 2.0, 2.0, 2.0, 2.0, 2.0, 3.0, 3.0, 3.0, 3.0, 3.0, 3.0, 3.0, 3.0, 3.0, 3.0, 3.0, 3.0, 3.0, 3.0, 3.0, 3.0, 3.0, 3.0, 3.0, 3.0, 3.0, 3.0, 3.0, 3.0, 3.0, 3.0, 3.0, 3.0, 3.0, 3.0, 3.0, 3.0, 3.0, 3.0, 3.0, 3.0, 3.0, 3.0, 3.0, 3.0, 3.0, 3.0, 3.0, 3.0, 3.0, 3.0, 4.0, 4.0, 4.0, 4.0, 4.0, 4.0, 4.0, 4.0, 4.0, 4.0, 4.0, 4.0, 4.0, 4.0, 4.0, 4.0, 4.0, 4.0, 4.0, 4.0, 4.0, 4.0, 4.0, 4.0, 4.0, 4.0, 4.0, 4.0, 4.0, 4.0, 4.0, 4.0, 5.0, 5.0, 5.0, 5.0, 5.0, 5.0, 5.0, 6.0, 33.0], \"median\": 3.0, \"numeric\": true, \"num_unique\": 13, \"num_undefined\": 0, \"var\": 0.8649749868540181, \"progress\": 1.0, \"size\": 21613, \"frequent_items\": {\"0.0\": {\"frequency\": 13, \"value\": 0.0}, \"1.0\": {\"frequency\": 199, \"value\": 1.0}, \"2.0\": {\"frequency\": 2760, \"value\": 2.0}, \"3.0\": {\"frequency\": 9824, \"value\": 3.0}, \"4.0\": {\"frequency\": 6882, \"value\": 4.0}, \"5.0\": {\"frequency\": 1601, \"value\": 5.0}, \"6.0\": {\"frequency\": 272, \"value\": 6.0}, \"7.0\": {\"frequency\": 38, \"value\": 7.0}, \"8.0\": {\"frequency\": 13, \"value\": 8.0}, \"9.0\": {\"frequency\": 6, \"value\": 9.0}, \"10.0\": {\"frequency\": 3, \"value\": 10.0}, \"11.0\": {\"frequency\": 1, \"value\": 11.0}, \"33.0\": {\"frequency\": 1, \"value\": 33.0}}, \"mean\": 3.3708416230972156}, \"floors\": {\"std\": 0.5399764027733688, \"complete\": true, \"min\": 1.0, \"max\": 3.5, \"quantile\": [1.0, 1.0, 1.0, 1.0, 1.0, 1.0, 1.0, 1.0, 1.0, 1.0, 1.0, 1.0, 1.0, 1.0, 1.0, 1.0, 1.0, 1.0, 1.0, 1.0, 1.0, 1.0, 1.0, 1.0, 1.0, 1.0, 1.0, 1.0, 1.0, 1.0, 1.0, 1.0, 1.0, 1.0, 1.0, 1.0, 1.0, 1.0, 1.0, 1.0, 1.0, 1.0, 1.0, 1.0, 1.0, 1.0, 1.0, 1.0, 1.0, 1.0, 1.5, 1.5, 1.5, 1.5, 1.5, 1.5, 1.5, 1.5, 1.5, 2.0, 2.0, 2.0, 2.0, 2.0, 2.0, 2.0, 2.0, 2.0, 2.0, 2.0, 2.0, 2.0, 2.0, 2.0, 2.0, 2.0, 2.0, 2.0, 2.0, 2.0, 2.0, 2.0, 2.0, 2.0, 2.0, 2.0, 2.0, 2.0, 2.0, 2.0, 2.0, 2.0, 2.0, 2.0, 2.0, 2.0, 2.0, 2.5, 3.0, 3.0, 3.5], \"median\": 1.5, \"numeric\": true, \"num_unique\": 6, \"num_undefined\": 0, \"var\": 0.29157451555206737, \"progress\": 1.0, \"size\": 21613, \"frequent_items\": {\"1.5\": {\"frequency\": 1910, \"value\": 1.5}, \"1.0\": {\"frequency\": 10680, \"value\": 1.0}, \"2.0\": {\"frequency\": 8241, \"value\": 2.0}, \"3.0\": {\"frequency\": 613, \"value\": 3.0}, \"2.5\": {\"frequency\": 161, \"value\": 2.5}, \"3.5\": {\"frequency\": 8, \"value\": 3.5}}, \"mean\": 1.4943089807060572}, \"bathrooms\": {\"std\": 0.7701453398840543, \"complete\": true, \"min\": 0.0, \"max\": 8.0, \"quantile\": [0.0, 1.0, 1.0, 1.0, 1.0, 1.0, 1.0, 1.0, 1.0, 1.0, 1.0, 1.0, 1.0, 1.0, 1.0, 1.0, 1.0, 1.0, 1.0, 1.5, 1.5, 1.5, 1.5, 1.5, 1.5, 1.75, 1.75, 1.75, 1.75, 1.75, 1.75, 1.75, 1.75, 1.75, 1.75, 1.75, 1.75, 1.75, 1.75, 1.75, 2.0, 2.0, 2.0, 2.0, 2.0, 2.0, 2.0, 2.0, 2.25, 2.25, 2.25, 2.25, 2.25, 2.25, 2.25, 2.25, 2.25, 2.25, 2.5, 2.5, 2.5, 2.5, 2.5, 2.5, 2.5, 2.5, 2.5, 2.5, 2.5, 2.5, 2.5, 2.5, 2.5, 2.5, 2.5, 2.5, 2.5, 2.5, 2.5, 2.5, 2.5, 2.5, 2.5, 2.75, 2.75, 2.75, 2.75, 2.75, 3.0, 3.0, 3.0, 3.0, 3.25, 3.25, 3.5, 3.5, 3.5, 3.5, 3.75, 4.25, 8.0], \"median\": 2.25, \"numeric\": true, \"num_unique\": 30, \"num_undefined\": 0, \"var\": 0.5931238445451256, \"progress\": 1.0, \"size\": 21613, \"frequent_items\": {\"2.25\": {\"frequency\": 2047, \"value\": 2.25}, \"1.0\": {\"frequency\": 3852, \"value\": 1.0}, \"2.0\": {\"frequency\": 1930, \"value\": 2.0}, \"3.0\": {\"frequency\": 753, \"value\": 3.0}, \"4.0\": {\"frequency\": 136, \"value\": 4.0}, \"5.0\": {\"frequency\": 21, \"value\": 5.0}, \"4.5\": {\"frequency\": 100, \"value\": 4.5}, \"8.0\": {\"frequency\": 2, \"value\": 8.0}, \"0.75\": {\"frequency\": 72, \"value\": 0.75}, \"0.5\": {\"frequency\": 4, \"value\": 0.5}, \"0.0\": {\"frequency\": 10, \"value\": 0.0}, \"6.5\": {\"frequency\": 2, \"value\": 6.5}, \"6.0\": {\"frequency\": 6, \"value\": 6.0}, \"7.5\": {\"frequency\": 1, \"value\": 7.5}, \"1.5\": {\"frequency\": 1446, \"value\": 1.5}, \"4.25\": {\"frequency\": 79, \"value\": 4.25}, \"1.75\": {\"frequency\": 3048, \"value\": 1.75}, \"1.25\": {\"frequency\": 9, \"value\": 1.25}, \"4.75\": {\"frequency\": 23, \"value\": 4.75}, \"5.25\": {\"frequency\": 13, \"value\": 5.25}, \"5.75\": {\"frequency\": 4, \"value\": 5.75}, \"2.5\": {\"frequency\": 5380, \"value\": 2.5}, \"3.75\": {\"frequency\": 155, \"value\": 3.75}, \"2.75\": {\"frequency\": 1185, \"value\": 2.75}, \"6.75\": {\"frequency\": 2, \"value\": 6.75}, \"3.25\": {\"frequency\": 589, \"value\": 3.25}, \"7.75\": {\"frequency\": 1, \"value\": 7.75}, \"3.5\": {\"frequency\": 731, \"value\": 3.5}, \"5.5\": {\"frequency\": 10, \"value\": 5.5}, \"6.25\": {\"frequency\": 2, \"value\": 6.25}}, \"mean\": 2.1147573219821396}, \"zipcode\": {\"complete\": true, \"numeric\": false, \"num_unique\": 70, \"num_undefined\": 0, \"progress\": 1.0, \"frequent_items\": {\"98019\": {\"frequency\": 190, \"value\": \"98019\"}, \"98039\": {\"frequency\": 50, \"value\": \"98039\"}, \"98038\": {\"frequency\": 590, \"value\": \"98038\"}, \"98118\": {\"frequency\": 508, \"value\": \"98118\"}, \"98119\": {\"frequency\": 184, \"value\": \"98119\"}, \"98116\": {\"frequency\": 330, \"value\": \"98116\"}, \"98117\": {\"frequency\": 553, \"value\": \"98117\"}, \"98011\": {\"frequency\": 195, \"value\": \"98011\"}, \"98115\": {\"frequency\": 583, \"value\": \"98115\"}, \"98112\": {\"frequency\": 269, \"value\": \"98112\"}, \"98030\": {\"frequency\": 256, \"value\": \"98030\"}, \"98033\": {\"frequency\": 432, \"value\": \"98033\"}, \"98032\": {\"frequency\": 125, \"value\": \"98032\"}, \"98092\": {\"frequency\": 351, \"value\": \"98092\"}, \"98058\": {\"frequency\": 455, \"value\": \"98058\"}, \"98003\": {\"frequency\": 280, \"value\": \"98003\"}, \"98198\": {\"frequency\": 280, \"value\": \"98198\"}, \"98199\": {\"frequency\": 317, \"value\": \"98199\"}, \"98077\": {\"frequency\": 198, \"value\": \"98077\"}, \"98004\": {\"frequency\": 317, \"value\": \"98004\"}, \"98005\": {\"frequency\": 168, \"value\": \"98005\"}, \"98006\": {\"frequency\": 498, \"value\": \"98006\"}, \"98007\": {\"frequency\": 141, \"value\": \"98007\"}, \"98001\": {\"frequency\": 362, \"value\": \"98001\"}, \"98002\": {\"frequency\": 199, \"value\": \"98002\"}, \"98065\": {\"frequency\": 310, \"value\": \"98065\"}, \"98040\": {\"frequency\": 282, \"value\": \"98040\"}, \"98166\": {\"frequency\": 254, \"value\": \"98166\"}, \"98042\": {\"frequency\": 548, \"value\": \"98042\"}, \"98008\": {\"frequency\": 283, \"value\": \"98008\"}, \"98045\": {\"frequency\": 221, \"value\": \"98045\"}, \"98144\": {\"frequency\": 343, \"value\": \"98144\"}, \"98027\": {\"frequency\": 412, \"value\": \"98027\"}, \"98010\": {\"frequency\": 100, \"value\": \"98010\"}, \"98109\": {\"frequency\": 109, \"value\": \"98109\"}, \"98108\": {\"frequency\": 186, \"value\": \"98108\"}, \"98028\": {\"frequency\": 283, \"value\": \"98028\"}, \"98029\": {\"frequency\": 321, \"value\": \"98029\"}, \"98105\": {\"frequency\": 229, \"value\": \"98105\"}, \"98122\": {\"frequency\": 290, \"value\": \"98122\"}, \"98024\": {\"frequency\": 81, \"value\": \"98024\"}, \"98146\": {\"frequency\": 288, \"value\": \"98146\"}, \"98022\": {\"frequency\": 234, \"value\": \"98022\"}, \"98126\": {\"frequency\": 354, \"value\": \"98126\"}, \"98103\": {\"frequency\": 602, \"value\": \"98103\"}, \"98023\": {\"frequency\": 499, \"value\": \"98023\"}, \"98125\": {\"frequency\": 410, \"value\": \"98125\"}, \"98148\": {\"frequency\": 57, \"value\": \"98148\"}, \"98031\": {\"frequency\": 274, \"value\": \"98031\"}, \"98102\": {\"frequency\": 105, \"value\": \"98102\"}, \"98188\": {\"frequency\": 136, \"value\": \"98188\"}, \"98034\": {\"frequency\": 545, \"value\": \"98034\"}, \"98106\": {\"frequency\": 335, \"value\": \"98106\"}, \"98014\": {\"frequency\": 124, \"value\": \"98014\"}, \"98107\": {\"frequency\": 266, \"value\": \"98107\"}, \"98155\": {\"frequency\": 446, \"value\": \"98155\"}, \"98052\": {\"frequency\": 574, \"value\": \"98052\"}, \"98178\": {\"frequency\": 262, \"value\": \"98178\"}, \"98070\": {\"frequency\": 118, \"value\": \"98070\"}, \"98136\": {\"frequency\": 263, \"value\": \"98136\"}, \"98072\": {\"frequency\": 273, \"value\": \"98072\"}, \"98075\": {\"frequency\": 359, \"value\": \"98075\"}, \"98074\": {\"frequency\": 441, \"value\": \"98074\"}, \"98059\": {\"frequency\": 468, \"value\": \"98059\"}, \"98133\": {\"frequency\": 494, \"value\": \"98133\"}, \"98056\": {\"frequency\": 406, \"value\": \"98056\"}, \"98055\": {\"frequency\": 268, \"value\": \"98055\"}, \"98053\": {\"frequency\": 405, \"value\": \"98053\"}, \"98168\": {\"frequency\": 269, \"value\": \"98168\"}, \"98177\": {\"frequency\": 255, \"value\": \"98177\"}}, \"size\": 21613}}, \"selected_variable\": {\"name\": [\"<SFrame>\"], \"descriptives\": {\"rows\": 21613, \"columns\": 5}, \"view_component\": \"Summary\", \"view_file\": \"sframe\", \"view_params\": {\"y\": null, \"x\": null, \"columns\": [\"bedrooms\", \"bathrooms\", \"sqft_living\", \"floors\", \"zipcode\"], \"view\": null}, \"view_components\": [\"Summary\", \"Table\", \"Bar Chart\", \"BoxWhisker Plot\", \"Line Chart\", \"Scatter Plot\", \"Heat Map\", \"Plots\"], \"type\": \"SFrame\", \"columns\": [{\"dtype\": \"float\", \"name\": \"bedrooms\"}, {\"dtype\": \"float\", \"name\": \"bathrooms\"}, {\"dtype\": \"float\", \"name\": \"sqft_living\"}, {\"dtype\": \"float\", \"name\": \"floors\"}, {\"dtype\": \"str\", \"name\": \"zipcode\"}], \"column_identifiers\": [\"sqft_living\", \"bedrooms\", \"floors\", \"bathrooms\", \"zipcode\"]}, \"columns\": [{\"dtype\": \"float\", \"name\": \"bedrooms\"}, {\"dtype\": \"float\", \"name\": \"bathrooms\"}, {\"dtype\": \"float\", \"name\": \"sqft_living\"}, {\"dtype\": \"float\", \"name\": \"floors\"}, {\"dtype\": \"str\", \"name\": \"zipcode\"}]}, e);\n",
       "                });\n",
       "            })();\n",
       "        "
      ]
     },
     "metadata": {},
     "output_type": "display_data"
    }
   ],
   "source": [
    "sales[my_features].show()"
   ]
  },
  {
   "cell_type": "code",
   "execution_count": 14,
   "metadata": {
    "collapsed": false
   },
   "outputs": [
    {
     "data": {
      "application/javascript": [
       "$(\"head\").append($(\"<link/>\").attr({\n",
       "  rel:  \"stylesheet\",\n",
       "  type: \"text/css\",\n",
       "  href: \"//cdnjs.cloudflare.com/ajax/libs/font-awesome/4.1.0/css/font-awesome.min.css\"\n",
       "}));\n",
       "$(\"head\").append($(\"<link/>\").attr({\n",
       "  rel:  \"stylesheet\",\n",
       "  type: \"text/css\",\n",
       "  href: \"https://static.turi.com/products/graphlab-create/2.1/canvas/css/canvas.css\"\n",
       "}));\n",
       "\n",
       "            (function(){\n",
       "\n",
       "                var e = null;\n",
       "                if (typeof element == 'undefined') {\n",
       "                    var scripts = document.getElementsByTagName('script');\n",
       "                    var thisScriptTag = scripts[scripts.length-1];\n",
       "                    var parentDiv = thisScriptTag.parentNode;\n",
       "                    e = document.createElement('div');\n",
       "                    parentDiv.appendChild(e);\n",
       "                } else {\n",
       "                    e = element[0];\n",
       "                }\n",
       "\n",
       "                if (typeof requirejs !== 'undefined') {\n",
       "                    // disable load timeout; ipython_app.js is large and can take a while to load.\n",
       "                    requirejs.config({waitSeconds: 0});\n",
       "                }\n",
       "\n",
       "                require(['https://static.turi.com/products/graphlab-create/2.1/canvas/js/ipython_app.js'], function(IPythonApp){\n",
       "                    var app = new IPythonApp();\n",
       "                    app.attachView('sframe','Plots', {\"selected_variable\": {\"name\": [\"sales\"], \"descriptives\": {\"rows\": 21613, \"columns\": 21}, \"view_component\": \"Plots\", \"view_file\": \"sframe\", \"view_params\": {\"y\": \"price\", \"x\": \"zipcode\", \"columns\": [\"id\", \"date\", \"price\", \"bedrooms\", \"bathrooms\", \"sqft_living\", \"sqft_lot\", \"floors\", \"waterfront\", \"view\", \"condition\", \"grade\", \"sqft_above\", \"sqft_basement\", \"yr_built\", \"yr_renovated\", \"zipcode\", \"lat\", \"long\", \"sqft_living15\", \"sqft_lot15\"], \"view\": \"BoxWhisker Plot\"}, \"view_components\": [\"Summary\", \"Table\", \"Bar Chart\", \"BoxWhisker Plot\", \"Line Chart\", \"Scatter Plot\", \"Heat Map\", \"Plots\"], \"type\": \"SFrame\", \"columns\": [{\"dtype\": \"str\", \"name\": \"id\"}, {\"dtype\": \"datetime\", \"name\": \"date\"}, {\"dtype\": \"float\", \"name\": \"price\"}, {\"dtype\": \"float\", \"name\": \"bedrooms\"}, {\"dtype\": \"float\", \"name\": \"bathrooms\"}, {\"dtype\": \"float\", \"name\": \"sqft_living\"}, {\"dtype\": \"float\", \"name\": \"sqft_lot\"}, {\"dtype\": \"float\", \"name\": \"floors\"}, {\"dtype\": \"int\", \"name\": \"waterfront\"}, {\"dtype\": \"int\", \"name\": \"view\"}, {\"dtype\": \"int\", \"name\": \"condition\"}, {\"dtype\": \"float\", \"name\": \"grade\"}, {\"dtype\": \"float\", \"name\": \"sqft_above\"}, {\"dtype\": \"float\", \"name\": \"sqft_basement\"}, {\"dtype\": \"float\", \"name\": \"yr_built\"}, {\"dtype\": \"float\", \"name\": \"yr_renovated\"}, {\"dtype\": \"str\", \"name\": \"zipcode\"}, {\"dtype\": \"float\", \"name\": \"lat\"}, {\"dtype\": \"float\", \"name\": \"long\"}, {\"dtype\": \"float\", \"name\": \"sqft_living15\"}, {\"dtype\": \"float\", \"name\": \"sqft_lot15\"}], \"column_identifiers\": [\"bathrooms\", \"sqft_living15\", \"sqft_above\", \"grade\", \"yr_built\", \"price\", \"bedrooms\", \"zipcode\", \"long\", \"id\", \"sqft_lot15\", \"sqft_living\", \"floors\", \"sqft_lot\", \"date\", \"waterfront\", \"sqft_basement\", \"yr_renovated\", \"lat\", \"condition\", \"view\"]}, \"complete\": 1, \"ipython\": true, \"progress\": 1.0, \"data\": {\"grouped\": [[\"98001\", [100000.0, 115000.0, 180000.0, 184000.0, 215000.0, 260000.0, 320000.0, 420000.0, 427000.0, 625000.0, 850000.0]], [\"98002\", [95000.0, 111300.0, 160000.0, 163500.0, 199950.0, 235000.0, 269000.0, 298900.0, 300000.0, 370000.0, 389000.0]], [\"98003\", [128000.0, 152500.0, 199000.0, 200000.0, 229000.0, 267950.0, 333000.0, 420000.0, 429900.0, 740000.0, 950000.0]], [\"98004\", [425000.0, 595000.0, 695000.0, 720000.0, 845000.0, 1150000.0, 1691000.0, 2150000.0, 2200000.0, 3800000.0, 7062500.0]], [\"98005\", [400000.0, 411100.0, 542500.0, 549000.0, 638700.0, 768500.0, 915000.0, 1110000.0, 1125000.0, 1900000.0, 1960000.0]], [\"98006\", [247500.0, 295000.0, 450000.0, 455000.0, 575000.0, 760369.0, 978000.0, 1380000.0, 1400000.0, 2525000.0, 4208000.0]], [\"98007\", [295000.0, 330000.0, 415500.0, 419000.0, 465000.0, 555000.0, 730000.0, 900000.0, 907500.0, 1229000.0, 1315000.0]], [\"98008\", [250000.0, 277700.0, 405000.0, 415000.0, 465000.0, 545000.0, 660000.0, 850000.0, 899000.0, 3300000.0, 3567000.0]], [\"98010\", [135000.0, 162000.0, 208500.0, 212644.0, 257000.0, 360000.0, 600000.0, 712000.0, 720000.0, 935000.0, 935000.0]], [\"98011\", [245500.0, 260000.0, 347000.0, 361000.0, 411800.0, 470000.0, 550000.0, 632000.0, 650000.0, 870000.0, 1075000.0]], [\"98014\", [80000.0, 134000.0, 167000.0, 180000.0, 309000.0, 415000.0, 539000.0, 739000.0, 755000.0, 1610000.0, 1680000.0]], [\"98019\", [119500.0, 170000.0, 289275.0, 299950.0, 330000.0, 402500.0, 500000.0, 570000.0, 570000.0, 979500.0, 1015000.0]], [\"98022\", [75000.0, 152900.0, 199990.0, 200000.0, 235000.0, 280000.0, 350000.0, 475000.0, 487000.0, 750000.0, 858000.0]], [\"98023\", [86500.0, 115000.0, 188000.0, 193000.0, 224097.0, 268450.0, 316500.0, 402500.0, 415000.0, 629000.0, 1275000.0]], [\"98024\", [142000.0, 142000.0, 258000.0, 260000.0, 340000.0, 460000.0, 700000.0, 997950.0, 1065000.0, 1862000.0, 1862000.0]], [\"98027\", [130000.0, 240000.0, 352499.0, 361000.0, 450000.0, 571000.0, 716500.0, 865000.0, 890000.0, 1800000.0, 2700000.0]], [\"98028\", [160000.0, 196000.0, 300000.0, 310000.0, 379950.0, 445000.0, 526750.0, 610000.0, 619990.0, 1120000.0, 1600000.0]], [\"98029\", [285000.0, 310000.0, 413565.0, 420000.0, 485000.0, 575000.0, 690000.0, 795000.0, 812000.0, 1450000.0, 2200000.0]], [\"98030\", [120000.0, 140000.0, 213400.0, 220000.0, 249950.0, 282510.0, 339950.0, 380000.0, 386000.0, 491000.0, 565000.0]], [\"98031\", [147500.0, 152000.0, 223000.0, 230000.0, 252000.0, 288400.0, 327500.0, 377000.0, 382500.0, 680000.0, 800000.0]], [\"98032\", [85000.0, 85000.0, 165000.0, 169000.0, 221700.0, 249000.0, 285000.0, 321000.0, 324900.0, 400000.0, 545000.0]], [\"98033\", [130000.0, 305000.0, 425000.0, 437500.0, 535000.0, 678700.0, 902000.0, 1339000.0, 1378000.0, 2650000.0, 5110800.0]], [\"98034\", [90000.0, 257000.0, 330000.0, 335000.0, 387000.0, 445950.0, 525000.0, 749950.0, 799950.0, 2125000.0, 3120000.0]], [\"98038\", [110000.0, 176000.0, 240000.0, 245000.0, 285000.0, 342000.0, 410000.0, 533000.0, 540000.0, 849000.0, 1350000.0]], [\"98039\", [787500.0, 787500.0, 940000.0, 1000000.0, 1398000.0, 1905000.0, 2575000.0, 3640900.0, 3640900.0, 6885000.0, 6885000.0]], [\"98040\", [500000.0, 550000.0, 685000.0, 698000.0, 821000.0, 994000.0, 1387000.0, 1815000.0, 1900000.0, 3850000.0, 5300000.0]], [\"98042\", [105000.0, 132825.0, 200000.0, 204000.0, 240000.0, 292500.0, 359950.0, 444900.0, 450000.0, 734000.0, 859000.0]], [\"98045\", [175000.0, 189000.0, 259000.0, 271000.0, 305000.0, 399500.0, 495000.0, 665000.0, 688000.0, 1075000.0, 1950000.0]], [\"98052\", [225000.0, 315000.0, 425000.0, 432100.0, 509250.0, 615000.0, 751000.0, 852500.0, 872750.0, 1299888.0, 2200000.0]], [\"98053\", [170000.0, 300000.0, 400000.0, 405000.0, 485000.0, 635000.0, 790500.0, 955990.0, 975000.0, 1769000.0, 2280000.0]], [\"98055\", [100000.0, 126000.0, 192000.0, 197500.0, 240000.0, 295000.0, 350000.0, 430000.0, 440000.0, 580000.0, 631000.0]], [\"98056\", [139000.0, 155000.0, 230000.0, 231500.0, 289000.0, 380000.0, 510000.0, 635000.0, 640000.0, 980000.0, 3000000.0]], [\"98058\", [95000.0, 144000.0, 225000.0, 230000.0, 285000.0, 335000.0, 392000.0, 475000.0, 485000.0, 790000.0, 1500000.0]], [\"98059\", [172500.0, 217000.0, 291375.0, 294500.0, 340000.0, 435000.0, 552500.0, 751000.0, 785000.0, 1300000.0, 1780000.0]], [\"98065\", [170000.0, 208000.0, 323000.0, 335000.0, 424950.0, 500000.0, 619000.0, 710000.0, 723000.0, 1145000.0, 1998000.0]], [\"98070\", [160000.0, 181000.0, 280000.0, 285000.0, 340000.0, 465000.0, 575000.0, 729000.0, 730000.0, 1350000.0, 1379900.0]], [\"98072\", [200000.0, 275000.0, 357823.0, 365000.0, 422800.0, 515000.0, 642860.0, 879000.0, 905000.0, 1350000.0, 1565000.0]], [\"98074\", [280000.0, 325000.0, 420000.0, 434900.0, 532000.0, 642000.0, 798000.0, 922755.0, 929000.0, 1675000.0, 3075000.0]], [\"98075\", [406430.0, 432000.0, 545000.0, 550000.0, 641000.0, 739999.0, 870000.0, 1060000.0, 1062500.0, 2000000.0, 3200000.0]], [\"98077\", [250000.0, 274975.0, 335000.0, 353000.0, 510000.0, 654950.0, 835000.0, 950000.0, 985000.0, 1820000.0, 1920000.0]], [\"98092\", [90000.0, 148226.0, 210000.0, 216000.0, 263950.0, 309780.0, 379500.0, 471275.0, 480000.0, 835000.0, 930000.0]], [\"98102\", [330000.0, 350000.0, 440000.0, 475000.0, 575000.0, 720000.0, 979700.0, 1440000.0, 1443917.0, 2479000.0, 7700000.0]], [\"98103\", [238000.0, 259250.0, 352950.0, 355000.0, 432000.0, 550000.0, 695000.0, 830000.0, 850000.0, 1350000.0, 1695000.0]], [\"98105\", [380000.0, 395000.0, 483000.0, 485000.0, 550000.0, 675000.0, 1005000.0, 1415000.0, 1482500.0, 2555000.0, 3650000.0]], [\"98106\", [90000.0, 107000.0, 208400.0, 210000.0, 260000.0, 315000.0, 366000.0, 426000.0, 435000.0, 625000.0, 795000.0]], [\"98107\", [290000.0, 356000.0, 425000.0, 430000.0, 470000.0, 529950.0, 630000.0, 752500.0, 769950.0, 1205000.0, 2945000.0]], [\"98108\", [90000.0, 130000.0, 230000.0, 230000.0, 284000.0, 345000.0, 425000.0, 491000.0, 500000.0, 635000.0, 640000.0]], [\"98109\", [216650.0, 216650.0, 478000.0, 479000.0, 620000.0, 736000.0, 1000000.0, 1450000.0, 1450000.0, 2900000.0, 3200000.0]], [\"98112\", [169317.0, 350000.0, 515000.0, 524000.0, 680000.0, 915000.0, 1328000.0, 1975000.0, 2048000.0, 3000000.0, 3400000.0]], [\"98115\", [200000.0, 289500.0, 395000.0, 399000.0, 455000.0, 567000.0, 719000.0, 897000.0, 925000.0, 1500000.0, 2300000.0]], [\"98116\", [130000.0, 252000.0, 386950.0, 390000.0, 460000.0, 565500.0, 703000.0, 930000.0, 950000.0, 1598888.0, 2050000.0]], [\"98117\", [125000.0, 280000.0, 375000.0, 390000.0, 450000.0, 544000.0, 657500.0, 825000.0, 850000.0, 1275000.0, 1370000.0]], [\"98118\", [109000.0, 155000.0, 221000.0, 226000.0, 289000.0, 367500.0, 476500.0, 665000.0, 680000.0, 1309500.0, 2903000.0]], [\"98119\", [300523.0, 365000.0, 485000.0, 490000.0, 600000.0, 749950.0, 940000.0, 1320000.0, 1330000.0, 2630000.0, 3065000.0]], [\"98122\", [202000.0, 260000.0, 375000.0, 385000.0, 450000.0, 574000.0, 720000.0, 920000.0, 925000.0, 1850000.0, 2050000.0]], [\"98125\", [175000.0, 228000.0, 303697.0, 310000.0, 357250.0, 425000.0, 518000.0, 675000.0, 689000.0, 1335000.0, 2050000.0]], [\"98126\", [110000.0, 183000.0, 250000.0, 255000.0, 320000.0, 396500.0, 485000.0, 643500.0, 661000.0, 901000.0, 1085000.0]], [\"98133\", [130000.0, 210000.0, 275000.0, 277500.0, 318000.0, 375000.0, 435000.0, 507000.0, 518000.0, 729953.0, 808100.0]], [\"98136\", [200000.0, 229050.0, 340000.0, 345000.0, 398000.0, 489950.0, 660000.0, 838000.0, 850000.0, 1662000.0, 2230000.0]], [\"98144\", [181000.0, 230000.0, 325000.0, 327000.0, 374950.0, 450000.0, 666000.0, 970000.0, 1039000.0, 2450000.0, 3600000.0]], [\"98146\", [82000.0, 104950.0, 158800.0, 175000.0, 229500.0, 307000.0, 409000.0, 605000.0, 665900.0, 1250000.0, 1410000.0]], [\"98148\", [105500.0, 105500.0, 193000.0, 193000.0, 240000.0, 278000.0, 319990.0, 375000.0, 375000.0, 600600.0, 600600.0]], [\"98155\", [153000.0, 195000.0, 267800.0, 270000.0, 315000.0, 375000.0, 460000.0, 590000.0, 600000.0, 1680000.0, 4500000.0]], [\"98166\", [100000.0, 129888.0, 220000.0, 229000.0, 292000.0, 390000.0, 540500.0, 755000.0, 770000.0, 1899000.0, 2510000.0]], [\"98168\", [78000.0, 82500.0, 150550.0, 158000.0, 199950.0, 235000.0, 285000.0, 325000.0, 327200.0, 424305.0, 600000.0]], [\"98177\", [245560.0, 276000.0, 355950.0, 367500.0, 427000.0, 554000.0, 749950.0, 1075000.0, 1200000.0, 2880500.0, 3800000.0]], [\"98178\", [90000.0, 119900.0, 180000.0, 188000.0, 223000.0, 279000.0, 350000.0, 450000.0, 460000.0, 869000.0, 1700000.0]], [\"98188\", [110000.0, 110700.0, 179000.0, 179950.0, 230000.0, 265000.0, 335000.0, 400200.0, 408000.0, 706000.0, 707000.0]], [\"98198\", [95000.0, 120000.0, 174500.0, 175000.0, 216500.0, 265000.0, 340000.0, 455000.0, 475000.0, 950000.0, 1350000.0]], [\"98199\", [323000.0, 334000.0, 419000.0, 425000.0, 535000.0, 689800.0, 950000.0, 1289000.0, 1300000.0, 2160000.0, 3200000.0]]], \"omitted\": 0}, \"columns\": [{\"dtype\": \"str\", \"name\": \"id\"}, {\"dtype\": \"datetime\", \"name\": \"date\"}, {\"dtype\": \"float\", \"name\": \"price\"}, {\"dtype\": \"float\", \"name\": \"bedrooms\"}, {\"dtype\": \"float\", \"name\": \"bathrooms\"}, {\"dtype\": \"float\", \"name\": \"sqft_living\"}, {\"dtype\": \"float\", \"name\": \"sqft_lot\"}, {\"dtype\": \"float\", \"name\": \"floors\"}, {\"dtype\": \"int\", \"name\": \"waterfront\"}, {\"dtype\": \"int\", \"name\": \"view\"}, {\"dtype\": \"int\", \"name\": \"condition\"}, {\"dtype\": \"float\", \"name\": \"grade\"}, {\"dtype\": \"float\", \"name\": \"sqft_above\"}, {\"dtype\": \"float\", \"name\": \"sqft_basement\"}, {\"dtype\": \"float\", \"name\": \"yr_built\"}, {\"dtype\": \"float\", \"name\": \"yr_renovated\"}, {\"dtype\": \"str\", \"name\": \"zipcode\"}, {\"dtype\": \"float\", \"name\": \"lat\"}, {\"dtype\": \"float\", \"name\": \"long\"}, {\"dtype\": \"float\", \"name\": \"sqft_living15\"}, {\"dtype\": \"float\", \"name\": \"sqft_lot15\"}]}, e);\n",
       "                });\n",
       "            })();\n",
       "        "
      ]
     },
     "metadata": {},
     "output_type": "display_data"
    }
   ],
   "source": [
    "sales.show(view='BoxWhisker Plot', x='zipcode', y='price')"
   ]
  },
  {
   "cell_type": "code",
   "execution_count": 15,
   "metadata": {
    "collapsed": false
   },
   "outputs": [
    {
     "name": "stdout",
     "output_type": "stream",
     "text": [
      "PROGRESS: Creating a validation set from 5 percent of training data. This may take a while.\n",
      "          You can set ``validation_set=None`` to disable validation tracking.\n",
      "\n"
     ]
    },
    {
     "data": {
      "text/html": [
       "<pre>Linear regression:</pre>"
      ],
      "text/plain": [
       "Linear regression:"
      ]
     },
     "metadata": {},
     "output_type": "display_data"
    },
    {
     "data": {
      "text/html": [
       "<pre>--------------------------------------------------------</pre>"
      ],
      "text/plain": [
       "--------------------------------------------------------"
      ]
     },
     "metadata": {},
     "output_type": "display_data"
    },
    {
     "data": {
      "text/html": [
       "<pre>Number of examples          : 16458</pre>"
      ],
      "text/plain": [
       "Number of examples          : 16458"
      ]
     },
     "metadata": {},
     "output_type": "display_data"
    },
    {
     "data": {
      "text/html": [
       "<pre>Number of features          : 5</pre>"
      ],
      "text/plain": [
       "Number of features          : 5"
      ]
     },
     "metadata": {},
     "output_type": "display_data"
    },
    {
     "data": {
      "text/html": [
       "<pre>Number of unpacked features : 5</pre>"
      ],
      "text/plain": [
       "Number of unpacked features : 5"
      ]
     },
     "metadata": {},
     "output_type": "display_data"
    },
    {
     "data": {
      "text/html": [
       "<pre>Number of coefficients    : 74</pre>"
      ],
      "text/plain": [
       "Number of coefficients    : 74"
      ]
     },
     "metadata": {},
     "output_type": "display_data"
    },
    {
     "data": {
      "text/html": [
       "<pre>Starting Newton Method</pre>"
      ],
      "text/plain": [
       "Starting Newton Method"
      ]
     },
     "metadata": {},
     "output_type": "display_data"
    },
    {
     "data": {
      "text/html": [
       "<pre>--------------------------------------------------------</pre>"
      ],
      "text/plain": [
       "--------------------------------------------------------"
      ]
     },
     "metadata": {},
     "output_type": "display_data"
    },
    {
     "data": {
      "text/html": [
       "<pre>+-----------+----------+--------------+--------------------+----------------------+---------------+-----------------+</pre>"
      ],
      "text/plain": [
       "+-----------+----------+--------------+--------------------+----------------------+---------------+-----------------+"
      ]
     },
     "metadata": {},
     "output_type": "display_data"
    },
    {
     "data": {
      "text/html": [
       "<pre>| Iteration | Passes   | Elapsed Time | Training-max_error | Validation-max_error | Training-rmse | Validation-rmse |</pre>"
      ],
      "text/plain": [
       "| Iteration | Passes   | Elapsed Time | Training-max_error | Validation-max_error | Training-rmse | Validation-rmse |"
      ]
     },
     "metadata": {},
     "output_type": "display_data"
    }
   ],
   "source": [
    "# build regression model with more features\n",
    "my_features_model = graphlab.linear_regression.create(train_data,target='price',features=my_features)"
   ]
  },
  {
   "cell_type": "code",
   "execution_count": 16,
   "metadata": {
    "collapsed": false
   },
   "outputs": [
    {
     "data": {
      "text/html": [
       "<pre>+-----------+----------+--------------+--------------------+----------------------+---------------+-----------------+</pre>"
      ],
      "text/plain": [
       "+-----------+----------+--------------+--------------------+----------------------+---------------+-----------------+"
      ]
     },
     "metadata": {},
     "output_type": "display_data"
    },
    {
     "data": {
      "text/html": [
       "<pre>| 1         | 2        | 0.044972     | 3755768.999312     | 4145084.585201       | 188100.339950 | 213247.552000   |</pre>"
      ],
      "text/plain": [
       "| 1         | 2        | 0.044972     | 3755768.999312     | 4145084.585201       | 188100.339950 | 213247.552000   |"
      ]
     },
     "metadata": {},
     "output_type": "display_data"
    },
    {
     "data": {
      "text/html": [
       "<pre>+-----------+----------+--------------+--------------------+----------------------+---------------+-----------------+</pre>"
      ],
      "text/plain": [
       "+-----------+----------+--------------+--------------------+----------------------+---------------+-----------------+"
      ]
     },
     "metadata": {},
     "output_type": "display_data"
    },
    {
     "data": {
      "text/html": [
       "<pre>SUCCESS: Optimal solution found.</pre>"
      ],
      "text/plain": [
       "SUCCESS: Optimal solution found."
      ]
     },
     "metadata": {},
     "output_type": "display_data"
    },
    {
     "name": "stdout",
     "output_type": "stream",
     "text": [
      "{'max_error': 4129866.6679171557, 'rmse': 255220.94016625677}\n"
     ]
    },
    {
     "data": {
      "text/html": [
       "<pre></pre>"
      ],
      "text/plain": []
     },
     "metadata": {},
     "output_type": "display_data"
    },
    {
     "name": "stdout",
     "output_type": "stream",
     "text": [
      "{'max_error': 3141077.842995552, 'rmse': 180208.95735410476}\n"
     ]
    }
   ],
   "source": [
    "# here we print our max_error and rmse  values for both the models\n",
    "print sqft_model.evaluate(test_data)\n",
    "print my_features_model.evaluate(test_data)"
   ]
  },
  {
   "cell_type": "code",
   "execution_count": 18,
   "metadata": {
    "collapsed": true
   },
   "outputs": [],
   "source": [
    "# apply learned models to predict prices of 3 houses\n",
    "house1 = sales[sales['id']=='5309101200']"
   ]
  },
  {
   "cell_type": "code",
   "execution_count": 19,
   "metadata": {
    "collapsed": false
   },
   "outputs": [
    {
     "data": {
      "text/html": [
       "<div style=\"max-height:1000px;max-width:1500px;overflow:auto;\"><table frame=\"box\" rules=\"cols\">\n",
       "    <tr>\n",
       "        <th style=\"padding-left: 1em; padding-right: 1em; text-align: center\">id</th>\n",
       "        <th style=\"padding-left: 1em; padding-right: 1em; text-align: center\">date</th>\n",
       "        <th style=\"padding-left: 1em; padding-right: 1em; text-align: center\">price</th>\n",
       "        <th style=\"padding-left: 1em; padding-right: 1em; text-align: center\">bedrooms</th>\n",
       "        <th style=\"padding-left: 1em; padding-right: 1em; text-align: center\">bathrooms</th>\n",
       "        <th style=\"padding-left: 1em; padding-right: 1em; text-align: center\">sqft_living</th>\n",
       "        <th style=\"padding-left: 1em; padding-right: 1em; text-align: center\">sqft_lot</th>\n",
       "        <th style=\"padding-left: 1em; padding-right: 1em; text-align: center\">floors</th>\n",
       "        <th style=\"padding-left: 1em; padding-right: 1em; text-align: center\">waterfront</th>\n",
       "    </tr>\n",
       "    <tr>\n",
       "        <td style=\"padding-left: 1em; padding-right: 1em; text-align: center; vertical-align: top\">5309101200</td>\n",
       "        <td style=\"padding-left: 1em; padding-right: 1em; text-align: center; vertical-align: top\">2014-06-05 00:00:00+00:00</td>\n",
       "        <td style=\"padding-left: 1em; padding-right: 1em; text-align: center; vertical-align: top\">620000.0</td>\n",
       "        <td style=\"padding-left: 1em; padding-right: 1em; text-align: center; vertical-align: top\">4.0</td>\n",
       "        <td style=\"padding-left: 1em; padding-right: 1em; text-align: center; vertical-align: top\">2.25</td>\n",
       "        <td style=\"padding-left: 1em; padding-right: 1em; text-align: center; vertical-align: top\">2400.0</td>\n",
       "        <td style=\"padding-left: 1em; padding-right: 1em; text-align: center; vertical-align: top\">5350.0</td>\n",
       "        <td style=\"padding-left: 1em; padding-right: 1em; text-align: center; vertical-align: top\">1.5</td>\n",
       "        <td style=\"padding-left: 1em; padding-right: 1em; text-align: center; vertical-align: top\">0</td>\n",
       "    </tr>\n",
       "</table>\n",
       "<table frame=\"box\" rules=\"cols\">\n",
       "    <tr>\n",
       "        <th style=\"padding-left: 1em; padding-right: 1em; text-align: center\">view</th>\n",
       "        <th style=\"padding-left: 1em; padding-right: 1em; text-align: center\">condition</th>\n",
       "        <th style=\"padding-left: 1em; padding-right: 1em; text-align: center\">grade</th>\n",
       "        <th style=\"padding-left: 1em; padding-right: 1em; text-align: center\">sqft_above</th>\n",
       "        <th style=\"padding-left: 1em; padding-right: 1em; text-align: center\">sqft_basement</th>\n",
       "        <th style=\"padding-left: 1em; padding-right: 1em; text-align: center\">yr_built</th>\n",
       "        <th style=\"padding-left: 1em; padding-right: 1em; text-align: center\">yr_renovated</th>\n",
       "        <th style=\"padding-left: 1em; padding-right: 1em; text-align: center\">zipcode</th>\n",
       "        <th style=\"padding-left: 1em; padding-right: 1em; text-align: center\">lat</th>\n",
       "    </tr>\n",
       "    <tr>\n",
       "        <td style=\"padding-left: 1em; padding-right: 1em; text-align: center; vertical-align: top\">0</td>\n",
       "        <td style=\"padding-left: 1em; padding-right: 1em; text-align: center; vertical-align: top\">4</td>\n",
       "        <td style=\"padding-left: 1em; padding-right: 1em; text-align: center; vertical-align: top\">7.0</td>\n",
       "        <td style=\"padding-left: 1em; padding-right: 1em; text-align: center; vertical-align: top\">1460.0</td>\n",
       "        <td style=\"padding-left: 1em; padding-right: 1em; text-align: center; vertical-align: top\">940.0</td>\n",
       "        <td style=\"padding-left: 1em; padding-right: 1em; text-align: center; vertical-align: top\">1929.0</td>\n",
       "        <td style=\"padding-left: 1em; padding-right: 1em; text-align: center; vertical-align: top\">0.0</td>\n",
       "        <td style=\"padding-left: 1em; padding-right: 1em; text-align: center; vertical-align: top\">98117</td>\n",
       "        <td style=\"padding-left: 1em; padding-right: 1em; text-align: center; vertical-align: top\">47.67632376</td>\n",
       "    </tr>\n",
       "</table>\n",
       "<table frame=\"box\" rules=\"cols\">\n",
       "    <tr>\n",
       "        <th style=\"padding-left: 1em; padding-right: 1em; text-align: center\">long</th>\n",
       "        <th style=\"padding-left: 1em; padding-right: 1em; text-align: center\">sqft_living15</th>\n",
       "        <th style=\"padding-left: 1em; padding-right: 1em; text-align: center\">sqft_lot15</th>\n",
       "    </tr>\n",
       "    <tr>\n",
       "        <td style=\"padding-left: 1em; padding-right: 1em; text-align: center; vertical-align: top\">-122.37010126</td>\n",
       "        <td style=\"padding-left: 1em; padding-right: 1em; text-align: center; vertical-align: top\">1250.0</td>\n",
       "        <td style=\"padding-left: 1em; padding-right: 1em; text-align: center; vertical-align: top\">4880.0</td>\n",
       "    </tr>\n",
       "</table>\n",
       "[? rows x 21 columns]<br/>Note: Only the head of the SFrame is printed. This SFrame is lazily evaluated.<br/>You can use sf.materialize() to force materialization.\n",
       "</div>"
      ],
      "text/plain": [
       "Columns:\n",
       "\tid\tstr\n",
       "\tdate\tdatetime\n",
       "\tprice\tfloat\n",
       "\tbedrooms\tfloat\n",
       "\tbathrooms\tfloat\n",
       "\tsqft_living\tfloat\n",
       "\tsqft_lot\tfloat\n",
       "\tfloors\tfloat\n",
       "\twaterfront\tint\n",
       "\tview\tint\n",
       "\tcondition\tint\n",
       "\tgrade\tfloat\n",
       "\tsqft_above\tfloat\n",
       "\tsqft_basement\tfloat\n",
       "\tyr_built\tfloat\n",
       "\tyr_renovated\tfloat\n",
       "\tzipcode\tstr\n",
       "\tlat\tfloat\n",
       "\tlong\tfloat\n",
       "\tsqft_living15\tfloat\n",
       "\tsqft_lot15\tfloat\n",
       "\n",
       "Rows: Unknown\n",
       "\n",
       "Data:\n",
       "+------------+---------------------------+----------+----------+-----------+\n",
       "|     id     |            date           |  price   | bedrooms | bathrooms |\n",
       "+------------+---------------------------+----------+----------+-----------+\n",
       "| 5309101200 | 2014-06-05 00:00:00+00:00 | 620000.0 |   4.0    |    2.25   |\n",
       "+------------+---------------------------+----------+----------+-----------+\n",
       "+-------------+----------+--------+------------+------+-----------+-------+\n",
       "| sqft_living | sqft_lot | floors | waterfront | view | condition | grade |\n",
       "+-------------+----------+--------+------------+------+-----------+-------+\n",
       "|    2400.0   |  5350.0  |  1.5   |     0      |  0   |     4     |  7.0  |\n",
       "+-------------+----------+--------+------------+------+-----------+-------+\n",
       "+------------+---------------+----------+--------------+---------+-------------+\n",
       "| sqft_above | sqft_basement | yr_built | yr_renovated | zipcode |     lat     |\n",
       "+------------+---------------+----------+--------------+---------+-------------+\n",
       "|   1460.0   |     940.0     |  1929.0  |     0.0      |  98117  | 47.67632376 |\n",
       "+------------+---------------+----------+--------------+---------+-------------+\n",
       "+---------------+---------------+-----+\n",
       "|      long     | sqft_living15 | ... |\n",
       "+---------------+---------------+-----+\n",
       "| -122.37010126 |     1250.0    | ... |\n",
       "+---------------+---------------+-----+\n",
       "[? rows x 21 columns]\n",
       "Note: Only the head of the SFrame is printed. This SFrame is lazily evaluated.\n",
       "You can use sf.materialize() to force materialization."
      ]
     },
     "execution_count": 19,
     "metadata": {},
     "output_type": "execute_result"
    }
   ],
   "source": [
    "house1"
   ]
  },
  {
   "cell_type": "markdown",
   "metadata": {
    "collapsed": true
   },
   "source": [
    "<img src=\"house1.png\">"
   ]
  },
  {
   "cell_type": "code",
   "execution_count": 26,
   "metadata": {
    "collapsed": false
   },
   "outputs": [
    {
     "name": "stdout",
     "output_type": "stream",
     "text": [
      "[620000.0, ... ]\n"
     ]
    }
   ],
   "source": [
    "print house1['price']"
   ]
  },
  {
   "cell_type": "code",
   "execution_count": 27,
   "metadata": {
    "collapsed": false
   },
   "outputs": [
    {
     "name": "stdout",
     "output_type": "stream",
     "text": [
      "[630960.2561222181]\n"
     ]
    }
   ],
   "source": [
    "print sqft_model.predict(house1)"
   ]
  },
  {
   "cell_type": "code",
   "execution_count": 28,
   "metadata": {
    "collapsed": false
   },
   "outputs": [
    {
     "name": "stdout",
     "output_type": "stream",
     "text": [
      "[730015.7047929254]\n"
     ]
    }
   ],
   "source": [
    "print my_features_model.predict(house1)"
   ]
  },
  {
   "cell_type": "code",
   "execution_count": 30,
   "metadata": {
    "collapsed": true
   },
   "outputs": [],
   "source": [
    "# prediction for 2nd house\n",
    "house2 = sales[sales['id']=='1925069082']"
   ]
  },
  {
   "cell_type": "code",
   "execution_count": 31,
   "metadata": {
    "collapsed": false
   },
   "outputs": [
    {
     "data": {
      "text/html": [
       "<div style=\"max-height:1000px;max-width:1500px;overflow:auto;\"><table frame=\"box\" rules=\"cols\">\n",
       "    <tr>\n",
       "        <th style=\"padding-left: 1em; padding-right: 1em; text-align: center\">id</th>\n",
       "        <th style=\"padding-left: 1em; padding-right: 1em; text-align: center\">date</th>\n",
       "        <th style=\"padding-left: 1em; padding-right: 1em; text-align: center\">price</th>\n",
       "        <th style=\"padding-left: 1em; padding-right: 1em; text-align: center\">bedrooms</th>\n",
       "        <th style=\"padding-left: 1em; padding-right: 1em; text-align: center\">bathrooms</th>\n",
       "        <th style=\"padding-left: 1em; padding-right: 1em; text-align: center\">sqft_living</th>\n",
       "        <th style=\"padding-left: 1em; padding-right: 1em; text-align: center\">sqft_lot</th>\n",
       "        <th style=\"padding-left: 1em; padding-right: 1em; text-align: center\">floors</th>\n",
       "        <th style=\"padding-left: 1em; padding-right: 1em; text-align: center\">waterfront</th>\n",
       "    </tr>\n",
       "    <tr>\n",
       "        <td style=\"padding-left: 1em; padding-right: 1em; text-align: center; vertical-align: top\">1925069082</td>\n",
       "        <td style=\"padding-left: 1em; padding-right: 1em; text-align: center; vertical-align: top\">2015-05-11 00:00:00+00:00</td>\n",
       "        <td style=\"padding-left: 1em; padding-right: 1em; text-align: center; vertical-align: top\">2200000.0</td>\n",
       "        <td style=\"padding-left: 1em; padding-right: 1em; text-align: center; vertical-align: top\">5.0</td>\n",
       "        <td style=\"padding-left: 1em; padding-right: 1em; text-align: center; vertical-align: top\">4.25</td>\n",
       "        <td style=\"padding-left: 1em; padding-right: 1em; text-align: center; vertical-align: top\">4640.0</td>\n",
       "        <td style=\"padding-left: 1em; padding-right: 1em; text-align: center; vertical-align: top\">22703.0</td>\n",
       "        <td style=\"padding-left: 1em; padding-right: 1em; text-align: center; vertical-align: top\">2.0</td>\n",
       "        <td style=\"padding-left: 1em; padding-right: 1em; text-align: center; vertical-align: top\">1</td>\n",
       "    </tr>\n",
       "</table>\n",
       "<table frame=\"box\" rules=\"cols\">\n",
       "    <tr>\n",
       "        <th style=\"padding-left: 1em; padding-right: 1em; text-align: center\">view</th>\n",
       "        <th style=\"padding-left: 1em; padding-right: 1em; text-align: center\">condition</th>\n",
       "        <th style=\"padding-left: 1em; padding-right: 1em; text-align: center\">grade</th>\n",
       "        <th style=\"padding-left: 1em; padding-right: 1em; text-align: center\">sqft_above</th>\n",
       "        <th style=\"padding-left: 1em; padding-right: 1em; text-align: center\">sqft_basement</th>\n",
       "        <th style=\"padding-left: 1em; padding-right: 1em; text-align: center\">yr_built</th>\n",
       "        <th style=\"padding-left: 1em; padding-right: 1em; text-align: center\">yr_renovated</th>\n",
       "        <th style=\"padding-left: 1em; padding-right: 1em; text-align: center\">zipcode</th>\n",
       "        <th style=\"padding-left: 1em; padding-right: 1em; text-align: center\">lat</th>\n",
       "    </tr>\n",
       "    <tr>\n",
       "        <td style=\"padding-left: 1em; padding-right: 1em; text-align: center; vertical-align: top\">4</td>\n",
       "        <td style=\"padding-left: 1em; padding-right: 1em; text-align: center; vertical-align: top\">5</td>\n",
       "        <td style=\"padding-left: 1em; padding-right: 1em; text-align: center; vertical-align: top\">8.0</td>\n",
       "        <td style=\"padding-left: 1em; padding-right: 1em; text-align: center; vertical-align: top\">2860.0</td>\n",
       "        <td style=\"padding-left: 1em; padding-right: 1em; text-align: center; vertical-align: top\">1780.0</td>\n",
       "        <td style=\"padding-left: 1em; padding-right: 1em; text-align: center; vertical-align: top\">1952.0</td>\n",
       "        <td style=\"padding-left: 1em; padding-right: 1em; text-align: center; vertical-align: top\">0.0</td>\n",
       "        <td style=\"padding-left: 1em; padding-right: 1em; text-align: center; vertical-align: top\">98052</td>\n",
       "        <td style=\"padding-left: 1em; padding-right: 1em; text-align: center; vertical-align: top\">47.63925783</td>\n",
       "    </tr>\n",
       "</table>\n",
       "<table frame=\"box\" rules=\"cols\">\n",
       "    <tr>\n",
       "        <th style=\"padding-left: 1em; padding-right: 1em; text-align: center\">long</th>\n",
       "        <th style=\"padding-left: 1em; padding-right: 1em; text-align: center\">sqft_living15</th>\n",
       "        <th style=\"padding-left: 1em; padding-right: 1em; text-align: center\">sqft_lot15</th>\n",
       "    </tr>\n",
       "    <tr>\n",
       "        <td style=\"padding-left: 1em; padding-right: 1em; text-align: center; vertical-align: top\">-122.09722322</td>\n",
       "        <td style=\"padding-left: 1em; padding-right: 1em; text-align: center; vertical-align: top\">3140.0</td>\n",
       "        <td style=\"padding-left: 1em; padding-right: 1em; text-align: center; vertical-align: top\">14200.0</td>\n",
       "    </tr>\n",
       "</table>\n",
       "[? rows x 21 columns]<br/>Note: Only the head of the SFrame is printed. This SFrame is lazily evaluated.<br/>You can use sf.materialize() to force materialization.\n",
       "</div>"
      ],
      "text/plain": [
       "Columns:\n",
       "\tid\tstr\n",
       "\tdate\tdatetime\n",
       "\tprice\tfloat\n",
       "\tbedrooms\tfloat\n",
       "\tbathrooms\tfloat\n",
       "\tsqft_living\tfloat\n",
       "\tsqft_lot\tfloat\n",
       "\tfloors\tfloat\n",
       "\twaterfront\tint\n",
       "\tview\tint\n",
       "\tcondition\tint\n",
       "\tgrade\tfloat\n",
       "\tsqft_above\tfloat\n",
       "\tsqft_basement\tfloat\n",
       "\tyr_built\tfloat\n",
       "\tyr_renovated\tfloat\n",
       "\tzipcode\tstr\n",
       "\tlat\tfloat\n",
       "\tlong\tfloat\n",
       "\tsqft_living15\tfloat\n",
       "\tsqft_lot15\tfloat\n",
       "\n",
       "Rows: Unknown\n",
       "\n",
       "Data:\n",
       "+------------+---------------------------+-----------+----------+-----------+\n",
       "|     id     |            date           |   price   | bedrooms | bathrooms |\n",
       "+------------+---------------------------+-----------+----------+-----------+\n",
       "| 1925069082 | 2015-05-11 00:00:00+00:00 | 2200000.0 |   5.0    |    4.25   |\n",
       "+------------+---------------------------+-----------+----------+-----------+\n",
       "+-------------+----------+--------+------------+------+-----------+-------+\n",
       "| sqft_living | sqft_lot | floors | waterfront | view | condition | grade |\n",
       "+-------------+----------+--------+------------+------+-----------+-------+\n",
       "|    4640.0   | 22703.0  |  2.0   |     1      |  4   |     5     |  8.0  |\n",
       "+-------------+----------+--------+------------+------+-----------+-------+\n",
       "+------------+---------------+----------+--------------+---------+-------------+\n",
       "| sqft_above | sqft_basement | yr_built | yr_renovated | zipcode |     lat     |\n",
       "+------------+---------------+----------+--------------+---------+-------------+\n",
       "|   2860.0   |     1780.0    |  1952.0  |     0.0      |  98052  | 47.63925783 |\n",
       "+------------+---------------+----------+--------------+---------+-------------+\n",
       "+---------------+---------------+-----+\n",
       "|      long     | sqft_living15 | ... |\n",
       "+---------------+---------------+-----+\n",
       "| -122.09722322 |     3140.0    | ... |\n",
       "+---------------+---------------+-----+\n",
       "[? rows x 21 columns]\n",
       "Note: Only the head of the SFrame is printed. This SFrame is lazily evaluated.\n",
       "You can use sf.materialize() to force materialization."
      ]
     },
     "execution_count": 31,
     "metadata": {},
     "output_type": "execute_result"
    }
   ],
   "source": [
    "house2"
   ]
  },
  {
   "cell_type": "markdown",
   "metadata": {},
   "source": [
    "<img src=\"house2.jpg\">"
   ]
  },
  {
   "cell_type": "code",
   "execution_count": 32,
   "metadata": {
    "collapsed": false
   },
   "outputs": [
    {
     "name": "stdout",
     "output_type": "stream",
     "text": [
      "[1266226.9704281997]\n"
     ]
    }
   ],
   "source": [
    "print sqft_model.predict(house2)"
   ]
  },
  {
   "cell_type": "code",
   "execution_count": 33,
   "metadata": {
    "collapsed": false
   },
   "outputs": [
    {
     "name": "stdout",
     "output_type": "stream",
     "text": [
      "[1227368.1689006288]\n"
     ]
    }
   ],
   "source": [
    "print my_features_model.predict(house2)"
   ]
  },
  {
   "cell_type": "markdown",
   "metadata": {},
   "source": [
    "<img src=\"bill_gates.png\">"
   ]
  },
  {
   "cell_type": "code",
   "execution_count": 35,
   "metadata": {
    "collapsed": true
   },
   "outputs": [],
   "source": [
    "bill_gates = {'bedrooms':[8], \n",
    "              'bathrooms':[25], \n",
    "              'sqft_living':[50000], \n",
    "              'sqft_lot':[225000],\n",
    "              'floors':[4], \n",
    "              'zipcode':['98039'], \n",
    "              'condition':[10], \n",
    "              'grade':[10],\n",
    "              'waterfront':[1],\n",
    "              'view':[4],\n",
    "              'sqft_above':[37500],\n",
    "              'sqft_basement':[12500],\n",
    "              'yr_built':[1994],\n",
    "              'yr_renovated':[2010],\n",
    "              'lat':[47.627606],\n",
    "              'long':[-122.242054],\n",
    "              'sqft_living15':[5000],\n",
    "              'sqft_lot15':[40000]}"
   ]
  },
  {
   "cell_type": "code",
   "execution_count": 36,
   "metadata": {
    "collapsed": false
   },
   "outputs": [
    {
     "name": "stdout",
     "output_type": "stream",
     "text": [
      "[14986564.060699197]\n"
     ]
    }
   ],
   "source": [
    "print my_features_model.predict(graphlab.SFrame(bill_gates))"
   ]
  },
  {
   "cell_type": "code",
   "execution_count": null,
   "metadata": {
    "collapsed": true
   },
   "outputs": [],
   "source": []
  },
  {
   "cell_type": "code",
   "execution_count": null,
   "metadata": {
    "collapsed": true
   },
   "outputs": [],
   "source": []
  },
  {
   "cell_type": "code",
   "execution_count": null,
   "metadata": {
    "collapsed": true
   },
   "outputs": [],
   "source": []
  },
  {
   "cell_type": "code",
   "execution_count": null,
   "metadata": {
    "collapsed": true
   },
   "outputs": [],
   "source": []
  }
 ],
 "metadata": {
  "kernelspec": {
   "display_name": "Python 2",
   "language": "python",
   "name": "python2"
  },
  "language_info": {
   "codemirror_mode": {
    "name": "ipython",
    "version": 2
   },
   "file_extension": ".py",
   "mimetype": "text/x-python",
   "name": "python",
   "nbconvert_exporter": "python",
   "pygments_lexer": "ipython2",
   "version": "2.7.13"
  }
 },
 "nbformat": 4,
 "nbformat_minor": 0
}
